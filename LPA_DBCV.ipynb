{
 "cells": [
  {
   "cell_type": "markdown",
   "id": "2df6159b-3b36-4440-92ae-73070104c7ab",
   "metadata": {},
   "source": [
    "## DBCV of LPA models\n",
    "\n",
    "We need to evaluate the clustering of LPA (and later on OPTICS), with an internal CLuster Validation index that is capable of evaluating irregular clusters. Typical cluster validation indices will evaluate blob-like clusters more positively, but clusters with different shapes or varying differences between the data points will be considered as clusters that are not well separated. DBCV can include noise point labels (which we dont have at this point but maybe later on with OPTICS or modified version of LPA). It can also evaluate the irregular "
   ]
  }
 ],
 "metadata": {
  "kernelspec": {
   "display_name": "Python 3 (ipykernel)",
   "language": "python",
   "name": "python3"
  },
  "language_info": {
   "codemirror_mode": {
    "name": "ipython",
    "version": 3
   },
   "file_extension": ".py",
   "mimetype": "text/x-python",
   "name": "python",
   "nbconvert_exporter": "python",
   "pygments_lexer": "ipython3",
   "version": "3.11.4"
  }
 },
 "nbformat": 4,
 "nbformat_minor": 5
}
