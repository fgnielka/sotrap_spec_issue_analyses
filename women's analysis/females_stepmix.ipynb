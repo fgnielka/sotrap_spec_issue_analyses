{
 "cells": [
  {
   "cell_type": "code",
   "execution_count": 5,
   "id": "fb89f161-5d22-424d-bb2d-1583162bf44a",
   "metadata": {},
   "outputs": [
    {
     "name": "stdout",
     "output_type": "stream",
     "text": [
      "Collecting PyreadstatNote: you may need to restart the kernel to use updated packages.\n",
      "\n",
      "  Downloading pyreadstat-1.2.7-cp311-cp311-win_amd64.whl.metadata (1.1 kB)\n",
      "Requirement already satisfied: pandas>=1.2.0 in c:\\users\\gniel\\anaconda3\\lib\\site-packages (from Pyreadstat) (2.1.4)\n",
      "Requirement already satisfied: numpy<2,>=1.23.2 in c:\\users\\gniel\\anaconda3\\lib\\site-packages (from pandas>=1.2.0->Pyreadstat) (1.24.3)\n",
      "Requirement already satisfied: python-dateutil>=2.8.2 in c:\\users\\gniel\\anaconda3\\lib\\site-packages (from pandas>=1.2.0->Pyreadstat) (2.8.2)\n",
      "Requirement already satisfied: pytz>=2020.1 in c:\\users\\gniel\\anaconda3\\lib\\site-packages (from pandas>=1.2.0->Pyreadstat) (2023.3.post1)\n",
      "Requirement already satisfied: tzdata>=2022.1 in c:\\users\\gniel\\anaconda3\\lib\\site-packages (from pandas>=1.2.0->Pyreadstat) (2023.3)\n",
      "Requirement already satisfied: six>=1.5 in c:\\users\\gniel\\anaconda3\\lib\\site-packages (from python-dateutil>=2.8.2->pandas>=1.2.0->Pyreadstat) (1.16.0)\n",
      "Downloading pyreadstat-1.2.7-cp311-cp311-win_amd64.whl (2.4 MB)\n",
      "   ---------------------------------------- 0.0/2.4 MB ? eta -:--:--\n",
      "   ---------------------------------------- 0.0/2.4 MB ? eta -:--:--\n",
      "   ---------------------------------------- 0.0/2.4 MB ? eta -:--:--\n",
      "    --------------------------------------- 0.0/2.4 MB 435.7 kB/s eta 0:00:06\n",
      "   - -------------------------------------- 0.1/2.4 MB 544.7 kB/s eta 0:00:05\n",
      "   - -------------------------------------- 0.1/2.4 MB 581.0 kB/s eta 0:00:04\n",
      "   -- ------------------------------------- 0.2/2.4 MB 654.6 kB/s eta 0:00:04\n",
      "   --- ------------------------------------ 0.2/2.4 MB 737.3 kB/s eta 0:00:04\n",
      "   --- ------------------------------------ 0.2/2.4 MB 724.0 kB/s eta 0:00:04\n",
      "   ---- ----------------------------------- 0.3/2.4 MB 774.0 kB/s eta 0:00:03\n",
      "   ----- ---------------------------------- 0.3/2.4 MB 756.6 kB/s eta 0:00:03\n",
      "   ----- ---------------------------------- 0.4/2.4 MB 768.6 kB/s eta 0:00:03\n",
      "   ------ --------------------------------- 0.4/2.4 MB 778.2 kB/s eta 0:00:03\n",
      "   ------- -------------------------------- 0.5/2.4 MB 805.0 kB/s eta 0:00:03\n",
      "   ------- -------------------------------- 0.5/2.4 MB 814.9 kB/s eta 0:00:03\n",
      "   -------- ------------------------------- 0.5/2.4 MB 814.7 kB/s eta 0:00:03\n",
      "   --------- ------------------------------ 0.6/2.4 MB 834.7 kB/s eta 0:00:03\n",
      "   ---------- ----------------------------- 0.6/2.4 MB 823.1 kB/s eta 0:00:03\n",
      "   ---------- ----------------------------- 0.6/2.4 MB 828.8 kB/s eta 0:00:03\n",
      "   ----------- ---------------------------- 0.7/2.4 MB 837.2 kB/s eta 0:00:03\n",
      "   ------------ --------------------------- 0.8/2.4 MB 850.5 kB/s eta 0:00:02\n",
      "   ------------- -------------------------- 0.8/2.4 MB 841.5 kB/s eta 0:00:02\n",
      "   ------------- -------------------------- 0.8/2.4 MB 845.4 kB/s eta 0:00:02\n",
      "   -------------- ------------------------- 0.8/2.4 MB 853.3 kB/s eta 0:00:02\n",
      "   -------------- ------------------------- 0.8/2.4 MB 853.3 kB/s eta 0:00:02\n",
      "   -------------- ------------------------- 0.8/2.4 MB 853.3 kB/s eta 0:00:02\n",
      "   -------------- ------------------------- 0.8/2.4 MB 853.3 kB/s eta 0:00:02\n",
      "   -------------- ------------------------- 0.8/2.4 MB 853.3 kB/s eta 0:00:02\n",
      "   -------------- ------------------------- 0.8/2.4 MB 853.3 kB/s eta 0:00:02\n",
      "   -------------- ------------------------- 0.8/2.4 MB 853.3 kB/s eta 0:00:02\n",
      "   -------------- ------------------------- 0.8/2.4 MB 853.3 kB/s eta 0:00:02\n",
      "   -------------- ------------------------- 0.8/2.4 MB 853.3 kB/s eta 0:00:02\n",
      "   -------------- ------------------------- 0.8/2.4 MB 853.3 kB/s eta 0:00:02\n",
      "   -------------- ------------------------- 0.9/2.4 MB 566.6 kB/s eta 0:00:03\n",
      "   -------------- ------------------------- 0.9/2.4 MB 566.6 kB/s eta 0:00:03\n",
      "   -------------- ------------------------- 0.9/2.4 MB 566.6 kB/s eta 0:00:03\n",
      "   -------------- ------------------------- 0.9/2.4 MB 566.6 kB/s eta 0:00:03\n",
      "   -------------- ------------------------- 0.9/2.4 MB 515.9 kB/s eta 0:00:03\n",
      "   -------------- ------------------------- 0.9/2.4 MB 507.9 kB/s eta 0:00:03\n",
      "   -------------- ------------------------- 0.9/2.4 MB 507.9 kB/s eta 0:00:03\n",
      "   --------------- ------------------------ 0.9/2.4 MB 501.5 kB/s eta 0:00:03\n",
      "   --------------- ------------------------ 0.9/2.4 MB 499.8 kB/s eta 0:00:03\n",
      "   --------------- ------------------------ 1.0/2.4 MB 491.6 kB/s eta 0:00:03\n",
      "   ---------------- ----------------------- 1.0/2.4 MB 488.9 kB/s eta 0:00:03\n",
      "   ---------------- ----------------------- 1.0/2.4 MB 488.9 kB/s eta 0:00:03\n",
      "   ---------------- ----------------------- 1.0/2.4 MB 488.9 kB/s eta 0:00:03\n",
      "   ---------------- ----------------------- 1.0/2.4 MB 469.5 kB/s eta 0:00:04\n",
      "   ---------------- ----------------------- 1.0/2.4 MB 469.5 kB/s eta 0:00:04\n",
      "   ---------------- ----------------------- 1.0/2.4 MB 469.5 kB/s eta 0:00:04\n",
      "   ---------------- ----------------------- 1.0/2.4 MB 469.5 kB/s eta 0:00:04\n",
      "   ---------------- ----------------------- 1.0/2.4 MB 436.9 kB/s eta 0:00:04\n",
      "   ---------------- ----------------------- 1.0/2.4 MB 436.9 kB/s eta 0:00:04\n",
      "   ---------------- ----------------------- 1.0/2.4 MB 436.9 kB/s eta 0:00:04\n",
      "   ---------------- ----------------------- 1.0/2.4 MB 436.9 kB/s eta 0:00:04\n",
      "   ----------------- ---------------------- 1.1/2.4 MB 426.0 kB/s eta 0:00:04\n",
      "   ------------------ --------------------- 1.1/2.4 MB 428.9 kB/s eta 0:00:04\n",
      "   ------------------ --------------------- 1.1/2.4 MB 427.7 kB/s eta 0:00:04\n",
      "   ------------------- -------------------- 1.2/2.4 MB 434.3 kB/s eta 0:00:03\n",
      "   ------------------- -------------------- 1.2/2.4 MB 438.3 kB/s eta 0:00:03\n",
      "   -------------------- ------------------- 1.2/2.4 MB 444.4 kB/s eta 0:00:03\n",
      "   -------------------- ------------------- 1.2/2.4 MB 446.8 kB/s eta 0:00:03\n",
      "   --------------------- ------------------ 1.3/2.4 MB 445.4 kB/s eta 0:00:03\n",
      "   --------------------- ------------------ 1.3/2.4 MB 450.1 kB/s eta 0:00:03\n",
      "   --------------------- ------------------ 1.3/2.4 MB 446.3 kB/s eta 0:00:03\n",
      "   --------------------- ------------------ 1.3/2.4 MB 446.3 kB/s eta 0:00:03\n",
      "   --------------------- ------------------ 1.3/2.4 MB 434.6 kB/s eta 0:00:03\n",
      "   ---------------------- ----------------- 1.4/2.4 MB 444.8 kB/s eta 0:00:03\n",
      "   ----------------------- ---------------- 1.4/2.4 MB 450.1 kB/s eta 0:00:03\n",
      "   ------------------------ --------------- 1.5/2.4 MB 457.5 kB/s eta 0:00:03\n",
      "   ------------------------ --------------- 1.5/2.4 MB 460.4 kB/s eta 0:00:03\n",
      "   ------------------------- -------------- 1.5/2.4 MB 465.5 kB/s eta 0:00:02\n",
      "   ------------------------- -------------- 1.6/2.4 MB 470.0 kB/s eta 0:00:02\n",
      "   -------------------------- ------------- 1.6/2.4 MB 472.5 kB/s eta 0:00:02\n",
      "   --------------------------- ------------ 1.6/2.4 MB 479.4 kB/s eta 0:00:02\n",
      "   --------------------------- ------------ 1.6/2.4 MB 479.4 kB/s eta 0:00:02\n",
      "   --------------------------- ------------ 1.6/2.4 MB 479.4 kB/s eta 0:00:02\n",
      "   --------------------------- ------------ 1.6/2.4 MB 479.4 kB/s eta 0:00:02\n",
      "   --------------------------- ------------ 1.6/2.4 MB 479.4 kB/s eta 0:00:02\n",
      "   --------------------------- ------------ 1.6/2.4 MB 479.4 kB/s eta 0:00:02\n",
      "   --------------------------- ------------ 1.6/2.4 MB 479.4 kB/s eta 0:00:02\n",
      "   --------------------------- ------------ 1.6/2.4 MB 479.4 kB/s eta 0:00:02\n",
      "   --------------------------- ------------ 1.6/2.4 MB 479.4 kB/s eta 0:00:02\n",
      "   --------------------------- ------------ 1.6/2.4 MB 479.4 kB/s eta 0:00:02\n",
      "   --------------------------- ------------ 1.6/2.4 MB 424.6 kB/s eta 0:00:02\n",
      "   --------------------------- ------------ 1.6/2.4 MB 424.6 kB/s eta 0:00:02\n",
      "   --------------------------- ------------ 1.6/2.4 MB 424.6 kB/s eta 0:00:02\n",
      "   --------------------------- ------------ 1.6/2.4 MB 424.6 kB/s eta 0:00:02\n",
      "   --------------------------- ------------ 1.6/2.4 MB 424.6 kB/s eta 0:00:02\n",
      "   --------------------------- ------------ 1.7/2.4 MB 402.7 kB/s eta 0:00:02\n",
      "   --------------------------- ------------ 1.7/2.4 MB 402.7 kB/s eta 0:00:02\n",
      "   --------------------------- ------------ 1.7/2.4 MB 395.6 kB/s eta 0:00:02\n",
      "   --------------------------- ------------ 1.7/2.4 MB 395.6 kB/s eta 0:00:02\n",
      "   --------------------------- ------------ 1.7/2.4 MB 395.6 kB/s eta 0:00:02\n",
      "   --------------------------- ------------ 1.7/2.4 MB 395.6 kB/s eta 0:00:02\n",
      "   ---------------------------- ----------- 1.7/2.4 MB 383.5 kB/s eta 0:00:02\n",
      "   ---------------------------- ----------- 1.7/2.4 MB 381.7 kB/s eta 0:00:02\n",
      "   ---------------------------- ----------- 1.7/2.4 MB 381.7 kB/s eta 0:00:02\n",
      "   ---------------------------- ----------- 1.7/2.4 MB 381.7 kB/s eta 0:00:02\n",
      "   ---------------------------- ----------- 1.7/2.4 MB 377.1 kB/s eta 0:00:02\n",
      "   ---------------------------- ----------- 1.7/2.4 MB 377.1 kB/s eta 0:00:02\n",
      "   ---------------------------- ----------- 1.7/2.4 MB 377.1 kB/s eta 0:00:02\n",
      "   ---------------------------- ----------- 1.7/2.4 MB 377.1 kB/s eta 0:00:02\n",
      "   ----------------------------- ---------- 1.8/2.4 MB 370.5 kB/s eta 0:00:02\n",
      "   ----------------------------- ---------- 1.8/2.4 MB 370.5 kB/s eta 0:00:02\n",
      "   ----------------------------- ---------- 1.8/2.4 MB 367.8 kB/s eta 0:00:02\n",
      "   ------------------------------ --------- 1.8/2.4 MB 367.1 kB/s eta 0:00:02\n",
      "   ------------------------------ --------- 1.8/2.4 MB 368.9 kB/s eta 0:00:02\n",
      "   ------------------------------ --------- 1.8/2.4 MB 368.9 kB/s eta 0:00:02\n",
      "   ------------------------------ --------- 1.9/2.4 MB 367.2 kB/s eta 0:00:02\n",
      "   ------------------------------- -------- 1.9/2.4 MB 365.9 kB/s eta 0:00:02\n",
      "   ------------------------------- -------- 1.9/2.4 MB 366.5 kB/s eta 0:00:02\n",
      "   ------------------------------- -------- 1.9/2.4 MB 364.1 kB/s eta 0:00:02\n",
      "   -------------------------------- ------- 1.9/2.4 MB 367.5 kB/s eta 0:00:02\n",
      "   -------------------------------- ------- 2.0/2.4 MB 365.2 kB/s eta 0:00:02\n",
      "   -------------------------------- ------- 2.0/2.4 MB 367.7 kB/s eta 0:00:02\n",
      "   -------------------------------- ------- 2.0/2.4 MB 367.7 kB/s eta 0:00:02\n",
      "   --------------------------------- ------ 2.0/2.4 MB 369.9 kB/s eta 0:00:02\n",
      "   --------------------------------- ------ 2.0/2.4 MB 368.6 kB/s eta 0:00:02\n",
      "   ---------------------------------- ----- 2.1/2.4 MB 369.2 kB/s eta 0:00:01\n",
      "   ---------------------------------- ----- 2.1/2.4 MB 369.0 kB/s eta 0:00:01\n",
      "   ---------------------------------- ----- 2.1/2.4 MB 370.6 kB/s eta 0:00:01\n",
      "   ----------------------------------- ---- 2.1/2.4 MB 370.9 kB/s eta 0:00:01\n",
      "   ----------------------------------- ---- 2.1/2.4 MB 371.5 kB/s eta 0:00:01\n",
      "   ------------------------------------ --- 2.2/2.4 MB 373.7 kB/s eta 0:00:01\n",
      "   ------------------------------------ --- 2.2/2.4 MB 375.0 kB/s eta 0:00:01\n",
      "   ------------------------------------ --- 2.2/2.4 MB 376.5 kB/s eta 0:00:01\n",
      "   ------------------------------------- -- 2.3/2.4 MB 378.7 kB/s eta 0:00:01\n",
      "   ------------------------------------- -- 2.3/2.4 MB 379.9 kB/s eta 0:00:01\n",
      "   -------------------------------------- - 2.3/2.4 MB 381.3 kB/s eta 0:00:01\n",
      "   ---------------------------------------  2.4/2.4 MB 385.8 kB/s eta 0:00:01\n",
      "   ---------------------------------------  2.4/2.4 MB 387.9 kB/s eta 0:00:01\n",
      "   ---------------------------------------  2.4/2.4 MB 388.2 kB/s eta 0:00:01\n",
      "   ---------------------------------------- 2.4/2.4 MB 388.0 kB/s eta 0:00:00\n",
      "Installing collected packages: Pyreadstat\n",
      "Successfully installed Pyreadstat-1.2.7\n"
     ]
    }
   ],
   "source": [
    "%pip install Pyreadstat"
   ]
  },
  {
   "cell_type": "markdown",
   "id": "7c1f879d-2f81-4c3b-8827-e66fc1a042d3",
   "metadata": {},
   "source": [
    "Load required libraries for analysis:"
   ]
  },
  {
   "cell_type": "code",
   "execution_count": 1,
   "id": "c214ab8b-ef16-4ce7-bb05-791d32827ae6",
   "metadata": {},
   "outputs": [],
   "source": [
    "#libraries\n",
    "import pandas as pd\n",
    "import numpy as np\n",
    "import seaborn as sns\n",
    "import stepmix\n",
    "\n",
    "from sklearn.model_selection import GridSearchCV, ParameterGrid\n"
   ]
  },
  {
   "cell_type": "code",
   "execution_count": null,
   "id": "f525ae4e-a9d4-4ee4-8385-3161b597ea2d",
   "metadata": {},
   "outputs": [],
   "source": []
  },
  {
   "cell_type": "markdown",
   "id": "5319516e-ec87-4f35-96aa-30bc3e149e23",
   "metadata": {},
   "source": [
    "Load and transform required data:"
   ]
  },
  {
   "cell_type": "code",
   "execution_count": 2,
   "id": "a553b262-4682-4c29-b314-a68497a20960",
   "metadata": {},
   "outputs": [],
   "source": [
    "#load the prepared dataframe from csv. \n",
    "#In this data set all variables have been transformed into quantiles except for 'attr' which has been dichotomised.\n",
    "data_females = pd.read_csv(\"./data_females.csv\")\n",
    "\n",
    "#We also load the outcomes data.frame\n",
    "y_females = pd.read_csv(\"./y_females.csv\")\n",
    "\n",
    "#Recode PPCS_6 and CSBD to 0 and 1. \n",
    "data_females[\"CSBD\"] = np.where(data_females[\"CSBD\"] == 2, 1, 0)\n",
    "data_females[\"PPCS_6\"] = np.where(data_females[\"PPCS_6\"] == 2, 1, 0)"
   ]
  },
  {
   "cell_type": "code",
   "execution_count": 3,
   "id": "da9c1671-b9fe-4a52-a72f-3a8ae78998ae",
   "metadata": {},
   "outputs": [],
   "source": [
    "mixed_data, mixed_descriptor = stepmix.utils.get_mixed_descriptor(dataframe=data_females.drop(columns=[\"CASE\"]), \n",
    "                                                    binary=[\"attr\", \"CSBD\", \"PPCS_6\"], \n",
    "                                                    categorical=[\"sexdrive2\", \"meffort\", \"socialanx\", \"lon\", \"mvalue\"])"
   ]
  },
  {
   "cell_type": "code",
   "execution_count": 14,
   "id": "8fe5f44d-92b6-4617-8b96-86152756d270",
   "metadata": {},
   "outputs": [
    {
     "data": {
      "text/html": [
       "<div>\n",
       "<style scoped>\n",
       "    .dataframe tbody tr th:only-of-type {\n",
       "        vertical-align: middle;\n",
       "    }\n",
       "\n",
       "    .dataframe tbody tr th {\n",
       "        vertical-align: top;\n",
       "    }\n",
       "\n",
       "    .dataframe thead th {\n",
       "        text-align: right;\n",
       "    }\n",
       "</style>\n",
       "<table border=\"1\" class=\"dataframe\">\n",
       "  <thead>\n",
       "    <tr style=\"text-align: right;\">\n",
       "      <th></th>\n",
       "      <th>attr</th>\n",
       "      <th>CSBD</th>\n",
       "      <th>PPCS_6</th>\n",
       "      <th>sexdrive2</th>\n",
       "      <th>meffort</th>\n",
       "      <th>socialanx</th>\n",
       "      <th>lon</th>\n",
       "      <th>mvalue</th>\n",
       "    </tr>\n",
       "  </thead>\n",
       "  <tbody>\n",
       "    <tr>\n",
       "      <th>0</th>\n",
       "      <td>0</td>\n",
       "      <td>1</td>\n",
       "      <td>1</td>\n",
       "      <td>3</td>\n",
       "      <td>3</td>\n",
       "      <td>3</td>\n",
       "      <td>4</td>\n",
       "      <td>2</td>\n",
       "    </tr>\n",
       "    <tr>\n",
       "      <th>1</th>\n",
       "      <td>0</td>\n",
       "      <td>1</td>\n",
       "      <td>1</td>\n",
       "      <td>1</td>\n",
       "      <td>4</td>\n",
       "      <td>4</td>\n",
       "      <td>4</td>\n",
       "      <td>4</td>\n",
       "    </tr>\n",
       "    <tr>\n",
       "      <th>2</th>\n",
       "      <td>0</td>\n",
       "      <td>1</td>\n",
       "      <td>0</td>\n",
       "      <td>4</td>\n",
       "      <td>3</td>\n",
       "      <td>3</td>\n",
       "      <td>1</td>\n",
       "      <td>2</td>\n",
       "    </tr>\n",
       "    <tr>\n",
       "      <th>3</th>\n",
       "      <td>0</td>\n",
       "      <td>1</td>\n",
       "      <td>1</td>\n",
       "      <td>4</td>\n",
       "      <td>4</td>\n",
       "      <td>3</td>\n",
       "      <td>3</td>\n",
       "      <td>3</td>\n",
       "    </tr>\n",
       "    <tr>\n",
       "      <th>4</th>\n",
       "      <td>0</td>\n",
       "      <td>0</td>\n",
       "      <td>1</td>\n",
       "      <td>2</td>\n",
       "      <td>1</td>\n",
       "      <td>3</td>\n",
       "      <td>1</td>\n",
       "      <td>2</td>\n",
       "    </tr>\n",
       "    <tr>\n",
       "      <th>...</th>\n",
       "      <td>...</td>\n",
       "      <td>...</td>\n",
       "      <td>...</td>\n",
       "      <td>...</td>\n",
       "      <td>...</td>\n",
       "      <td>...</td>\n",
       "      <td>...</td>\n",
       "      <td>...</td>\n",
       "    </tr>\n",
       "    <tr>\n",
       "      <th>1415</th>\n",
       "      <td>0</td>\n",
       "      <td>1</td>\n",
       "      <td>0</td>\n",
       "      <td>3</td>\n",
       "      <td>3</td>\n",
       "      <td>3</td>\n",
       "      <td>3</td>\n",
       "      <td>1</td>\n",
       "    </tr>\n",
       "    <tr>\n",
       "      <th>1416</th>\n",
       "      <td>1</td>\n",
       "      <td>1</td>\n",
       "      <td>1</td>\n",
       "      <td>3</td>\n",
       "      <td>2</td>\n",
       "      <td>4</td>\n",
       "      <td>4</td>\n",
       "      <td>1</td>\n",
       "    </tr>\n",
       "    <tr>\n",
       "      <th>1417</th>\n",
       "      <td>0</td>\n",
       "      <td>1</td>\n",
       "      <td>1</td>\n",
       "      <td>2</td>\n",
       "      <td>2</td>\n",
       "      <td>4</td>\n",
       "      <td>4</td>\n",
       "      <td>3</td>\n",
       "    </tr>\n",
       "    <tr>\n",
       "      <th>1418</th>\n",
       "      <td>1</td>\n",
       "      <td>1</td>\n",
       "      <td>0</td>\n",
       "      <td>1</td>\n",
       "      <td>4</td>\n",
       "      <td>1</td>\n",
       "      <td>2</td>\n",
       "      <td>3</td>\n",
       "    </tr>\n",
       "    <tr>\n",
       "      <th>1419</th>\n",
       "      <td>0</td>\n",
       "      <td>1</td>\n",
       "      <td>1</td>\n",
       "      <td>4</td>\n",
       "      <td>2</td>\n",
       "      <td>4</td>\n",
       "      <td>3</td>\n",
       "      <td>1</td>\n",
       "    </tr>\n",
       "  </tbody>\n",
       "</table>\n",
       "<p>1420 rows × 8 columns</p>\n",
       "</div>"
      ],
      "text/plain": [
       "      attr  CSBD  PPCS_6  sexdrive2  meffort  socialanx  lon  mvalue\n",
       "0        0     1       1          3        3          3    4       2\n",
       "1        0     1       1          1        4          4    4       4\n",
       "2        0     1       0          4        3          3    1       2\n",
       "3        0     1       1          4        4          3    3       3\n",
       "4        0     0       1          2        1          3    1       2\n",
       "...    ...   ...     ...        ...      ...        ...  ...     ...\n",
       "1415     0     1       0          3        3          3    3       1\n",
       "1416     1     1       1          3        2          4    4       1\n",
       "1417     0     1       1          2        2          4    4       3\n",
       "1418     1     1       0          1        4          1    2       3\n",
       "1419     0     1       1          4        2          4    3       1\n",
       "\n",
       "[1420 rows x 8 columns]"
      ]
     },
     "execution_count": 14,
     "metadata": {},
     "output_type": "execute_result"
    }
   ],
   "source": [
    "mixed_data"
   ]
  },
  {
   "cell_type": "code",
   "execution_count": 5,
   "id": "ad82c8e4-c6a2-441c-8c39-497804141954",
   "metadata": {},
   "outputs": [
    {
     "data": {
      "text/html": [
       "<style>#sk-container-id-1 {color: black;background-color: white;}#sk-container-id-1 pre{padding: 0;}#sk-container-id-1 div.sk-toggleable {background-color: white;}#sk-container-id-1 label.sk-toggleable__label {cursor: pointer;display: block;width: 100%;margin-bottom: 0;padding: 0.3em;box-sizing: border-box;text-align: center;}#sk-container-id-1 label.sk-toggleable__label-arrow:before {content: \"▸\";float: left;margin-right: 0.25em;color: #696969;}#sk-container-id-1 label.sk-toggleable__label-arrow:hover:before {color: black;}#sk-container-id-1 div.sk-estimator:hover label.sk-toggleable__label-arrow:before {color: black;}#sk-container-id-1 div.sk-toggleable__content {max-height: 0;max-width: 0;overflow: hidden;text-align: left;background-color: #f0f8ff;}#sk-container-id-1 div.sk-toggleable__content pre {margin: 0.2em;color: black;border-radius: 0.25em;background-color: #f0f8ff;}#sk-container-id-1 input.sk-toggleable__control:checked~div.sk-toggleable__content {max-height: 200px;max-width: 100%;overflow: auto;}#sk-container-id-1 input.sk-toggleable__control:checked~label.sk-toggleable__label-arrow:before {content: \"▾\";}#sk-container-id-1 div.sk-estimator input.sk-toggleable__control:checked~label.sk-toggleable__label {background-color: #d4ebff;}#sk-container-id-1 div.sk-label input.sk-toggleable__control:checked~label.sk-toggleable__label {background-color: #d4ebff;}#sk-container-id-1 input.sk-hidden--visually {border: 0;clip: rect(1px 1px 1px 1px);clip: rect(1px, 1px, 1px, 1px);height: 1px;margin: -1px;overflow: hidden;padding: 0;position: absolute;width: 1px;}#sk-container-id-1 div.sk-estimator {font-family: monospace;background-color: #f0f8ff;border: 1px dotted black;border-radius: 0.25em;box-sizing: border-box;margin-bottom: 0.5em;}#sk-container-id-1 div.sk-estimator:hover {background-color: #d4ebff;}#sk-container-id-1 div.sk-parallel-item::after {content: \"\";width: 100%;border-bottom: 1px solid gray;flex-grow: 1;}#sk-container-id-1 div.sk-label:hover label.sk-toggleable__label {background-color: #d4ebff;}#sk-container-id-1 div.sk-serial::before {content: \"\";position: absolute;border-left: 1px solid gray;box-sizing: border-box;top: 0;bottom: 0;left: 50%;z-index: 0;}#sk-container-id-1 div.sk-serial {display: flex;flex-direction: column;align-items: center;background-color: white;padding-right: 0.2em;padding-left: 0.2em;position: relative;}#sk-container-id-1 div.sk-item {position: relative;z-index: 1;}#sk-container-id-1 div.sk-parallel {display: flex;align-items: stretch;justify-content: center;background-color: white;position: relative;}#sk-container-id-1 div.sk-item::before, #sk-container-id-1 div.sk-parallel-item::before {content: \"\";position: absolute;border-left: 1px solid gray;box-sizing: border-box;top: 0;bottom: 0;left: 50%;z-index: -1;}#sk-container-id-1 div.sk-parallel-item {display: flex;flex-direction: column;z-index: 1;position: relative;background-color: white;}#sk-container-id-1 div.sk-parallel-item:first-child::after {align-self: flex-end;width: 50%;}#sk-container-id-1 div.sk-parallel-item:last-child::after {align-self: flex-start;width: 50%;}#sk-container-id-1 div.sk-parallel-item:only-child::after {width: 0;}#sk-container-id-1 div.sk-dashed-wrapped {border: 1px dashed gray;margin: 0 0.4em 0.5em 0.4em;box-sizing: border-box;padding-bottom: 0.4em;background-color: white;}#sk-container-id-1 div.sk-label label {font-family: monospace;font-weight: bold;display: inline-block;line-height: 1.2em;}#sk-container-id-1 div.sk-label-container {text-align: center;}#sk-container-id-1 div.sk-container {/* jupyter's `normalize.less` sets `[hidden] { display: none; }` but bootstrap.min.css set `[hidden] { display: none !important; }` so we also need the `!important` here to be able to override the default hidden behavior on the sphinx rendered scikit-learn.org. See: https://github.com/scikit-learn/scikit-learn/issues/21755 */display: inline-block !important;position: relative;}#sk-container-id-1 div.sk-text-repr-fallback {display: none;}</style><div id=\"sk-container-id-1\" class=\"sk-top-container\"><div class=\"sk-text-repr-fallback\"><pre>StepMix(measurement={&#x27;binary&#x27;: {&#x27;model&#x27;: &#x27;binary&#x27;, &#x27;n_columns&#x27;: 1},\n",
       "                     &#x27;categorical&#x27;: {&#x27;model&#x27;: &#x27;categorical&#x27;, &#x27;n_columns&#x27;: 7}},\n",
       "        n_components=3, n_steps=2, progress_bar=0, random_state=42,\n",
       "        structural=&#x27;bernoulli&#x27;)</pre><b>In a Jupyter environment, please rerun this cell to show the HTML representation or trust the notebook. <br />On GitHub, the HTML representation is unable to render, please try loading this page with nbviewer.org.</b></div><div class=\"sk-container\" hidden><div class=\"sk-item\"><div class=\"sk-estimator sk-toggleable\"><input class=\"sk-toggleable__control sk-hidden--visually\" id=\"sk-estimator-id-1\" type=\"checkbox\" checked><label for=\"sk-estimator-id-1\" class=\"sk-toggleable__label sk-toggleable__label-arrow\">StepMix</label><div class=\"sk-toggleable__content\"><pre>StepMix(measurement={&#x27;binary&#x27;: {&#x27;model&#x27;: &#x27;binary&#x27;, &#x27;n_columns&#x27;: 1},\n",
       "                     &#x27;categorical&#x27;: {&#x27;model&#x27;: &#x27;categorical&#x27;, &#x27;n_columns&#x27;: 7}},\n",
       "        n_components=3, n_steps=2, progress_bar=0, random_state=42,\n",
       "        structural=&#x27;bernoulli&#x27;)</pre></div></div></div></div></div>"
      ],
      "text/plain": [
       "StepMix(measurement={'binary': {'model': 'binary', 'n_columns': 1},\n",
       "                     'categorical': {'model': 'categorical', 'n_columns': 7}},\n",
       "        n_components=3, n_steps=2, progress_bar=0, random_state=42,\n",
       "        structural='bernoulli')"
      ]
     },
     "execution_count": 5,
     "metadata": {},
     "output_type": "execute_result"
    }
   ],
   "source": [
    "#Try out a model with 3 classes\n",
    "model = stepmix.StepMix(n_components=3, \n",
    "                measurement=mixed_descriptor, \n",
    "                structural=\"bernoulli\", \n",
    "                verbose=0,\n",
    "                n_steps=2,\n",
    "                random_state=42,\n",
    "                progress_bar=0)\n",
    "\n",
    "#Fit the model\n",
    "model.fit(mixed_data, y_females.drop(columns=[\"CASE\"]))"
   ]
  },
  {
   "cell_type": "code",
   "execution_count": 4,
   "id": "42724857-7a49-476f-88cf-bd84ec4d514c",
   "metadata": {},
   "outputs": [
    {
     "name": "stderr",
     "output_type": "stream",
     "text": [
      "c:\\Users\\gniel\\anaconda3\\Lib\\site-packages\\stepmix\\stepmix.py:968: ConvergenceWarning: Initializations did not converge. Try different init parameters, or increase max_iter, abs_tol, rel_tol or check for degenerate data.\n",
      "  warnings.warn(\n",
      "c:\\Users\\gniel\\anaconda3\\Lib\\site-packages\\stepmix\\stepmix.py:968: ConvergenceWarning: Initializations did not converge. Try different init parameters, or increase max_iter, abs_tol, rel_tol or check for degenerate data.\n",
      "  warnings.warn(\n",
      "c:\\Users\\gniel\\anaconda3\\Lib\\site-packages\\stepmix\\stepmix.py:968: ConvergenceWarning: Initializations did not converge. Try different init parameters, or increase max_iter, abs_tol, rel_tol or check for degenerate data.\n",
      "  warnings.warn(\n",
      "c:\\Users\\gniel\\anaconda3\\Lib\\site-packages\\stepmix\\stepmix.py:968: ConvergenceWarning: Initializations did not converge. Try different init parameters, or increase max_iter, abs_tol, rel_tol or check for degenerate data.\n",
      "  warnings.warn(\n",
      "c:\\Users\\gniel\\anaconda3\\Lib\\site-packages\\stepmix\\stepmix.py:968: ConvergenceWarning: Initializations did not converge. Try different init parameters, or increase max_iter, abs_tol, rel_tol or check for degenerate data.\n",
      "  warnings.warn(\n"
     ]
    },
    {
     "data": {
      "text/html": [
       "<style>#sk-container-id-1 {color: black;background-color: white;}#sk-container-id-1 pre{padding: 0;}#sk-container-id-1 div.sk-toggleable {background-color: white;}#sk-container-id-1 label.sk-toggleable__label {cursor: pointer;display: block;width: 100%;margin-bottom: 0;padding: 0.3em;box-sizing: border-box;text-align: center;}#sk-container-id-1 label.sk-toggleable__label-arrow:before {content: \"▸\";float: left;margin-right: 0.25em;color: #696969;}#sk-container-id-1 label.sk-toggleable__label-arrow:hover:before {color: black;}#sk-container-id-1 div.sk-estimator:hover label.sk-toggleable__label-arrow:before {color: black;}#sk-container-id-1 div.sk-toggleable__content {max-height: 0;max-width: 0;overflow: hidden;text-align: left;background-color: #f0f8ff;}#sk-container-id-1 div.sk-toggleable__content pre {margin: 0.2em;color: black;border-radius: 0.25em;background-color: #f0f8ff;}#sk-container-id-1 input.sk-toggleable__control:checked~div.sk-toggleable__content {max-height: 200px;max-width: 100%;overflow: auto;}#sk-container-id-1 input.sk-toggleable__control:checked~label.sk-toggleable__label-arrow:before {content: \"▾\";}#sk-container-id-1 div.sk-estimator input.sk-toggleable__control:checked~label.sk-toggleable__label {background-color: #d4ebff;}#sk-container-id-1 div.sk-label input.sk-toggleable__control:checked~label.sk-toggleable__label {background-color: #d4ebff;}#sk-container-id-1 input.sk-hidden--visually {border: 0;clip: rect(1px 1px 1px 1px);clip: rect(1px, 1px, 1px, 1px);height: 1px;margin: -1px;overflow: hidden;padding: 0;position: absolute;width: 1px;}#sk-container-id-1 div.sk-estimator {font-family: monospace;background-color: #f0f8ff;border: 1px dotted black;border-radius: 0.25em;box-sizing: border-box;margin-bottom: 0.5em;}#sk-container-id-1 div.sk-estimator:hover {background-color: #d4ebff;}#sk-container-id-1 div.sk-parallel-item::after {content: \"\";width: 100%;border-bottom: 1px solid gray;flex-grow: 1;}#sk-container-id-1 div.sk-label:hover label.sk-toggleable__label {background-color: #d4ebff;}#sk-container-id-1 div.sk-serial::before {content: \"\";position: absolute;border-left: 1px solid gray;box-sizing: border-box;top: 0;bottom: 0;left: 50%;z-index: 0;}#sk-container-id-1 div.sk-serial {display: flex;flex-direction: column;align-items: center;background-color: white;padding-right: 0.2em;padding-left: 0.2em;position: relative;}#sk-container-id-1 div.sk-item {position: relative;z-index: 1;}#sk-container-id-1 div.sk-parallel {display: flex;align-items: stretch;justify-content: center;background-color: white;position: relative;}#sk-container-id-1 div.sk-item::before, #sk-container-id-1 div.sk-parallel-item::before {content: \"\";position: absolute;border-left: 1px solid gray;box-sizing: border-box;top: 0;bottom: 0;left: 50%;z-index: -1;}#sk-container-id-1 div.sk-parallel-item {display: flex;flex-direction: column;z-index: 1;position: relative;background-color: white;}#sk-container-id-1 div.sk-parallel-item:first-child::after {align-self: flex-end;width: 50%;}#sk-container-id-1 div.sk-parallel-item:last-child::after {align-self: flex-start;width: 50%;}#sk-container-id-1 div.sk-parallel-item:only-child::after {width: 0;}#sk-container-id-1 div.sk-dashed-wrapped {border: 1px dashed gray;margin: 0 0.4em 0.5em 0.4em;box-sizing: border-box;padding-bottom: 0.4em;background-color: white;}#sk-container-id-1 div.sk-label label {font-family: monospace;font-weight: bold;display: inline-block;line-height: 1.2em;}#sk-container-id-1 div.sk-label-container {text-align: center;}#sk-container-id-1 div.sk-container {/* jupyter's `normalize.less` sets `[hidden] { display: none; }` but bootstrap.min.css set `[hidden] { display: none !important; }` so we also need the `!important` here to be able to override the default hidden behavior on the sphinx rendered scikit-learn.org. See: https://github.com/scikit-learn/scikit-learn/issues/21755 */display: inline-block !important;position: relative;}#sk-container-id-1 div.sk-text-repr-fallback {display: none;}</style><div id=\"sk-container-id-1\" class=\"sk-top-container\"><div class=\"sk-text-repr-fallback\"><pre>GridSearchCV(cv=3,\n",
       "             estimator=StepMix(correction=&#x27;BCH&#x27;,\n",
       "                               measurement={&#x27;binary&#x27;: {&#x27;model&#x27;: &#x27;binary&#x27;,\n",
       "                                                       &#x27;n_columns&#x27;: 3},\n",
       "                                            &#x27;categorical&#x27;: {&#x27;model&#x27;: &#x27;categorical&#x27;,\n",
       "                                                            &#x27;n_columns&#x27;: 5}},\n",
       "                               n_components=3, n_steps=3, progress_bar=0,\n",
       "                               random_state=42, structural=&#x27;bernoulli&#x27;),\n",
       "             param_grid={&#x27;n_components&#x27;: [1, 2, 3, 4, 5, 6, 7]})</pre><b>In a Jupyter environment, please rerun this cell to show the HTML representation or trust the notebook. <br />On GitHub, the HTML representation is unable to render, please try loading this page with nbviewer.org.</b></div><div class=\"sk-container\" hidden><div class=\"sk-item sk-dashed-wrapped\"><div class=\"sk-label-container\"><div class=\"sk-label sk-toggleable\"><input class=\"sk-toggleable__control sk-hidden--visually\" id=\"sk-estimator-id-1\" type=\"checkbox\" ><label for=\"sk-estimator-id-1\" class=\"sk-toggleable__label sk-toggleable__label-arrow\">GridSearchCV</label><div class=\"sk-toggleable__content\"><pre>GridSearchCV(cv=3,\n",
       "             estimator=StepMix(correction=&#x27;BCH&#x27;,\n",
       "                               measurement={&#x27;binary&#x27;: {&#x27;model&#x27;: &#x27;binary&#x27;,\n",
       "                                                       &#x27;n_columns&#x27;: 3},\n",
       "                                            &#x27;categorical&#x27;: {&#x27;model&#x27;: &#x27;categorical&#x27;,\n",
       "                                                            &#x27;n_columns&#x27;: 5}},\n",
       "                               n_components=3, n_steps=3, progress_bar=0,\n",
       "                               random_state=42, structural=&#x27;bernoulli&#x27;),\n",
       "             param_grid={&#x27;n_components&#x27;: [1, 2, 3, 4, 5, 6, 7]})</pre></div></div></div><div class=\"sk-parallel\"><div class=\"sk-parallel-item\"><div class=\"sk-item\"><div class=\"sk-label-container\"><div class=\"sk-label sk-toggleable\"><input class=\"sk-toggleable__control sk-hidden--visually\" id=\"sk-estimator-id-2\" type=\"checkbox\" ><label for=\"sk-estimator-id-2\" class=\"sk-toggleable__label sk-toggleable__label-arrow\">estimator: StepMix</label><div class=\"sk-toggleable__content\"><pre>StepMix(correction=&#x27;BCH&#x27;,\n",
       "        measurement={&#x27;binary&#x27;: {&#x27;model&#x27;: &#x27;binary&#x27;, &#x27;n_columns&#x27;: 3},\n",
       "                     &#x27;categorical&#x27;: {&#x27;model&#x27;: &#x27;categorical&#x27;, &#x27;n_columns&#x27;: 5}},\n",
       "        n_components=3, n_steps=3, progress_bar=0, random_state=42,\n",
       "        structural=&#x27;bernoulli&#x27;)</pre></div></div></div><div class=\"sk-serial\"><div class=\"sk-item\"><div class=\"sk-estimator sk-toggleable\"><input class=\"sk-toggleable__control sk-hidden--visually\" id=\"sk-estimator-id-3\" type=\"checkbox\" ><label for=\"sk-estimator-id-3\" class=\"sk-toggleable__label sk-toggleable__label-arrow\">StepMix</label><div class=\"sk-toggleable__content\"><pre>StepMix(correction=&#x27;BCH&#x27;,\n",
       "        measurement={&#x27;binary&#x27;: {&#x27;model&#x27;: &#x27;binary&#x27;, &#x27;n_columns&#x27;: 3},\n",
       "                     &#x27;categorical&#x27;: {&#x27;model&#x27;: &#x27;categorical&#x27;, &#x27;n_columns&#x27;: 5}},\n",
       "        n_components=3, n_steps=3, progress_bar=0, random_state=42,\n",
       "        structural=&#x27;bernoulli&#x27;)</pre></div></div></div></div></div></div></div></div></div></div>"
      ],
      "text/plain": [
       "GridSearchCV(cv=3,\n",
       "             estimator=StepMix(correction='BCH',\n",
       "                               measurement={'binary': {'model': 'binary',\n",
       "                                                       'n_columns': 3},\n",
       "                                            'categorical': {'model': 'categorical',\n",
       "                                                            'n_columns': 5}},\n",
       "                               n_components=3, n_steps=3, progress_bar=0,\n",
       "                               random_state=42, structural='bernoulli'),\n",
       "             param_grid={'n_components': [1, 2, 3, 4, 5, 6, 7]})"
      ]
     },
     "execution_count": 4,
     "metadata": {},
     "output_type": "execute_result"
    }
   ],
   "source": [
    "# Define base model\n",
    "model = stepmix.StepMix(n_components=3, n_steps=3, correction=\"BCH\", measurement=mixed_descriptor,\n",
    "                structural='bernoulli', random_state=42, verbose=0, progress_bar=0)\n",
    "\n",
    "# Scikit-Learn grid search object. We test n_components from 1 to 8.\n",
    "# We also add 1-step, 2-step and 3-step to the grid.\n",
    "# We use 3 validation folds.\n",
    "# We therefore fit a total of  8x3x3=72 estimators.\n",
    "grid = {\n",
    "    'n_components': [1, 2, 3, 4, 5, 6, 7]\n",
    "}\n",
    "gs = GridSearchCV(estimator=model, cv=3, param_grid=grid)\n",
    "gs.fit(mixed_data, y_females)"
   ]
  },
  {
   "cell_type": "code",
   "execution_count": 19,
   "id": "1d41bea9",
   "metadata": {},
   "outputs": [],
   "source": [
    "#Save the gridsearch to a pickle\n",
    "import pickle\n",
    "with open(\"gridsearch_males_k3.pkl\", \"wb\") as file:\n",
    "    pickle.dump(gs, file)"
   ]
  },
  {
   "cell_type": "code",
   "execution_count": 12,
   "id": "7918609b-a9a9-4394-8095-f0e82c7d7fb4",
   "metadata": {},
   "outputs": [],
   "source": [
    "#Extract results from gridsearch with 3-fold cross-validation\n",
    "results = pd.DataFrame(gs.cv_results_)\n",
    "results[\"Val. Log Likelihood\"] = results[\"mean_test_score\"]\n",
    "\n",
    "#Save the cross-validated results in a csv \n",
    "results.to_csv(\"cv_results_females.csv\")"
   ]
  },
  {
   "cell_type": "code",
   "execution_count": 21,
   "id": "412808dd",
   "metadata": {},
   "outputs": [
    {
     "data": {
      "text/html": [
       "<div>\n",
       "<style scoped>\n",
       "    .dataframe tbody tr th:only-of-type {\n",
       "        vertical-align: middle;\n",
       "    }\n",
       "\n",
       "    .dataframe tbody tr th {\n",
       "        vertical-align: top;\n",
       "    }\n",
       "\n",
       "    .dataframe thead th {\n",
       "        text-align: right;\n",
       "    }\n",
       "</style>\n",
       "<table border=\"1\" class=\"dataframe\">\n",
       "  <thead>\n",
       "    <tr style=\"text-align: right;\">\n",
       "      <th></th>\n",
       "      <th>mean_fit_time</th>\n",
       "      <th>std_fit_time</th>\n",
       "      <th>mean_score_time</th>\n",
       "      <th>std_score_time</th>\n",
       "      <th>param_n_components</th>\n",
       "      <th>params</th>\n",
       "      <th>split0_test_score</th>\n",
       "      <th>split1_test_score</th>\n",
       "      <th>split2_test_score</th>\n",
       "      <th>mean_test_score</th>\n",
       "      <th>std_test_score</th>\n",
       "      <th>rank_test_score</th>\n",
       "      <th>Val. Log Likelihood</th>\n",
       "    </tr>\n",
       "  </thead>\n",
       "  <tbody>\n",
       "    <tr>\n",
       "      <th>0</th>\n",
       "      <td>0.022405</td>\n",
       "      <td>0.006193</td>\n",
       "      <td>0.002639</td>\n",
       "      <td>0.001899</td>\n",
       "      <td>1</td>\n",
       "      <td>{'n_components': 1}</td>\n",
       "      <td>118766.601014</td>\n",
       "      <td>360690.999604</td>\n",
       "      <td>465485.788854</td>\n",
       "      <td>314981.129824</td>\n",
       "      <td>145190.892622</td>\n",
       "      <td>7</td>\n",
       "      <td>314981.129824</td>\n",
       "    </tr>\n",
       "    <tr>\n",
       "      <th>1</th>\n",
       "      <td>0.228501</td>\n",
       "      <td>0.019152</td>\n",
       "      <td>0.005206</td>\n",
       "      <td>0.007363</td>\n",
       "      <td>2</td>\n",
       "      <td>{'n_components': 2}</td>\n",
       "      <td>118766.855140</td>\n",
       "      <td>360691.208979</td>\n",
       "      <td>465485.981695</td>\n",
       "      <td>314981.348605</td>\n",
       "      <td>145190.866750</td>\n",
       "      <td>6</td>\n",
       "      <td>314981.348605</td>\n",
       "    </tr>\n",
       "    <tr>\n",
       "      <th>2</th>\n",
       "      <td>1.508401</td>\n",
       "      <td>0.629732</td>\n",
       "      <td>0.005516</td>\n",
       "      <td>0.001908</td>\n",
       "      <td>3</td>\n",
       "      <td>{'n_components': 3}</td>\n",
       "      <td>118767.050953</td>\n",
       "      <td>360691.310304</td>\n",
       "      <td>465486.203638</td>\n",
       "      <td>314981.521632</td>\n",
       "      <td>145190.865863</td>\n",
       "      <td>1</td>\n",
       "      <td>314981.521632</td>\n",
       "    </tr>\n",
       "    <tr>\n",
       "      <th>3</th>\n",
       "      <td>2.274926</td>\n",
       "      <td>0.776187</td>\n",
       "      <td>0.007139</td>\n",
       "      <td>0.006460</td>\n",
       "      <td>4</td>\n",
       "      <td>{'n_components': 4}</td>\n",
       "      <td>118766.987825</td>\n",
       "      <td>360691.315492</td>\n",
       "      <td>465486.205493</td>\n",
       "      <td>314981.502937</td>\n",
       "      <td>145190.895486</td>\n",
       "      <td>2</td>\n",
       "      <td>314981.502937</td>\n",
       "    </tr>\n",
       "    <tr>\n",
       "      <th>4</th>\n",
       "      <td>3.098389</td>\n",
       "      <td>1.110185</td>\n",
       "      <td>0.002974</td>\n",
       "      <td>0.003312</td>\n",
       "      <td>5</td>\n",
       "      <td>{'n_components': 5}</td>\n",
       "      <td>118766.905257</td>\n",
       "      <td>360691.272345</td>\n",
       "      <td>465486.189342</td>\n",
       "      <td>314981.455648</td>\n",
       "      <td>145190.922572</td>\n",
       "      <td>3</td>\n",
       "      <td>314981.455648</td>\n",
       "    </tr>\n",
       "    <tr>\n",
       "      <th>5</th>\n",
       "      <td>3.864420</td>\n",
       "      <td>0.774314</td>\n",
       "      <td>0.011977</td>\n",
       "      <td>0.008473</td>\n",
       "      <td>6</td>\n",
       "      <td>{'n_components': 6}</td>\n",
       "      <td>118766.844172</td>\n",
       "      <td>360691.234496</td>\n",
       "      <td>465486.007101</td>\n",
       "      <td>314981.361923</td>\n",
       "      <td>145190.883147</td>\n",
       "      <td>4</td>\n",
       "      <td>314981.361923</td>\n",
       "    </tr>\n",
       "    <tr>\n",
       "      <th>6</th>\n",
       "      <td>3.851309</td>\n",
       "      <td>0.582031</td>\n",
       "      <td>0.013424</td>\n",
       "      <td>0.005393</td>\n",
       "      <td>7</td>\n",
       "      <td>{'n_components': 7}</td>\n",
       "      <td>118766.911537</td>\n",
       "      <td>360691.138601</td>\n",
       "      <td>465486.020702</td>\n",
       "      <td>314981.356947</td>\n",
       "      <td>145190.847437</td>\n",
       "      <td>5</td>\n",
       "      <td>314981.356947</td>\n",
       "    </tr>\n",
       "  </tbody>\n",
       "</table>\n",
       "</div>"
      ],
      "text/plain": [
       "   mean_fit_time  std_fit_time  mean_score_time  std_score_time  \\\n",
       "0       0.022405      0.006193         0.002639        0.001899   \n",
       "1       0.228501      0.019152         0.005206        0.007363   \n",
       "2       1.508401      0.629732         0.005516        0.001908   \n",
       "3       2.274926      0.776187         0.007139        0.006460   \n",
       "4       3.098389      1.110185         0.002974        0.003312   \n",
       "5       3.864420      0.774314         0.011977        0.008473   \n",
       "6       3.851309      0.582031         0.013424        0.005393   \n",
       "\n",
       "  param_n_components               params  split0_test_score  \\\n",
       "0                  1  {'n_components': 1}      118766.601014   \n",
       "1                  2  {'n_components': 2}      118766.855140   \n",
       "2                  3  {'n_components': 3}      118767.050953   \n",
       "3                  4  {'n_components': 4}      118766.987825   \n",
       "4                  5  {'n_components': 5}      118766.905257   \n",
       "5                  6  {'n_components': 6}      118766.844172   \n",
       "6                  7  {'n_components': 7}      118766.911537   \n",
       "\n",
       "   split1_test_score  split2_test_score  mean_test_score  std_test_score  \\\n",
       "0      360690.999604      465485.788854    314981.129824   145190.892622   \n",
       "1      360691.208979      465485.981695    314981.348605   145190.866750   \n",
       "2      360691.310304      465486.203638    314981.521632   145190.865863   \n",
       "3      360691.315492      465486.205493    314981.502937   145190.895486   \n",
       "4      360691.272345      465486.189342    314981.455648   145190.922572   \n",
       "5      360691.234496      465486.007101    314981.361923   145190.883147   \n",
       "6      360691.138601      465486.020702    314981.356947   145190.847437   \n",
       "\n",
       "   rank_test_score  Val. Log Likelihood  \n",
       "0                7        314981.129824  \n",
       "1                6        314981.348605  \n",
       "2                1        314981.521632  \n",
       "3                2        314981.502937  \n",
       "4                3        314981.455648  \n",
       "5                4        314981.361923  \n",
       "6                5        314981.356947  "
      ]
     },
     "execution_count": 21,
     "metadata": {},
     "output_type": "execute_result"
    }
   ],
   "source": [
    "results"
   ]
  },
  {
   "cell_type": "code",
   "execution_count": 20,
   "id": "31a97bb4-cd70-41b9-9ea0-803a1c5f1453",
   "metadata": {},
   "outputs": [
    {
     "name": "stderr",
     "output_type": "stream",
     "text": [
      "C:\\Users\\gniel\\AppData\\Local\\Temp\\ipykernel_26780\\475898878.py:3: UserWarning: Ignoring `palette` because no `hue` variable has been assigned.\n",
      "  sns.lineplot(data=results, x='param_n_components', y='Val. Log Likelihood', palette='Dark2')\n",
      "c:\\Users\\gniel\\anaconda3\\Lib\\site-packages\\seaborn\\_oldcore.py:1119: FutureWarning: use_inf_as_na option is deprecated and will be removed in a future version. Convert inf values to NaN before operating instead.\n",
      "  with pd.option_context('mode.use_inf_as_na', True):\n",
      "c:\\Users\\gniel\\anaconda3\\Lib\\site-packages\\seaborn\\_oldcore.py:1119: FutureWarning: use_inf_as_na option is deprecated and will be removed in a future version. Convert inf values to NaN before operating instead.\n",
      "  with pd.option_context('mode.use_inf_as_na', True):\n"
     ]
    },
    {
     "data": {
      "text/plain": [
       "<Axes: xlabel='param_n_components', ylabel='Val. Log Likelihood'>"
      ]
     },
     "execution_count": 20,
     "metadata": {},
     "output_type": "execute_result"
    },
    {
     "data": {
      "image/png": "[encoded data removed]",
      "text/plain": [
       "<Figure size 640x480 with 1 Axes>"
      ]
     },
     "metadata": {},
     "output_type": "display_data"
    }
   ],
   "source": [
    "# Higher is better\n",
    "sns.set_style(\"darkgrid\")\n",
    "sns.lineplot(data=results, x='param_n_components', y='Val. Log Likelihood', palette='Dark2')"
   ]
  },
  {
   "cell_type": "code",
   "execution_count": 18,
   "id": "1a83f1a7-844e-4f54-9bdb-e375449d3ef0",
   "metadata": {},
   "outputs": [
    {
     "name": "stdout",
     "output_type": "stream",
     "text": [
      "Testing 1 vs. 2 classes...\n",
      "Bootstrapping null model...\n",
      "\n",
      "Bootstrapping estimator...\n"
     ]
    },
    {
     "name": "stderr",
     "output_type": "stream",
     "text": [
      "Bootstrap Repetitions    : 100%|██████████| 20/20 [00:00<00:00, 34.25it/s, max_LL=-1.72e+4, median_LL=-1.75e+4, min_LL=-1.76e+4]\n"
     ]
    },
    {
     "name": "stdout",
     "output_type": "stream",
     "text": [
      "\n",
      "Bootstrapping alternative model...\n",
      "\n",
      "Bootstrapping estimator...\n"
     ]
    },
    {
     "name": "stderr",
     "output_type": "stream",
     "text": [
      "Bootstrap Repetitions    :   0%|          | 0/20 [00:00<?, ?it/s]c:\\Users\\gniel\\anaconda3\\Lib\\site-packages\\stepmix\\stepmix.py:968: ConvergenceWarning: Initializations did not converge. Try different init parameters, or increase max_iter, abs_tol, rel_tol or check for degenerate data.\n",
      "  warnings.warn(\n",
      "Bootstrap Repetitions    :   5%|▌         | 1/20 [00:01<00:37,  1.96s/it, max_LL=-1.74e+4, median_LL=-1.74e+4, min_LL=-1.74e+4]c:\\Users\\gniel\\anaconda3\\Lib\\site-packages\\stepmix\\stepmix.py:968: ConvergenceWarning: Initializations did not converge. Try different init parameters, or increase max_iter, abs_tol, rel_tol or check for degenerate data.\n",
      "  warnings.warn(\n",
      "Bootstrap Repetitions    :  10%|█         | 2/20 [00:03<00:35,  1.99s/it, max_LL=-1.74e+4, median_LL=-1.74e+4, min_LL=-1.74e+4]c:\\Users\\gniel\\anaconda3\\Lib\\site-packages\\stepmix\\stepmix.py:968: ConvergenceWarning: Initializations did not converge. Try different init parameters, or increase max_iter, abs_tol, rel_tol or check for degenerate data.\n",
      "  warnings.warn(\n",
      "Bootstrap Repetitions    :  15%|█▌        | 3/20 [00:05<00:32,  1.94s/it, max_LL=-1.74e+4, median_LL=-1.74e+4, min_LL=-1.74e+4]c:\\Users\\gniel\\anaconda3\\Lib\\site-packages\\stepmix\\stepmix.py:968: ConvergenceWarning: Initializations did not converge. Try different init parameters, or increase max_iter, abs_tol, rel_tol or check for degenerate data.\n",
      "  warnings.warn(\n",
      "Bootstrap Repetitions    :  20%|██        | 4/20 [00:07<00:30,  1.90s/it, max_LL=-1.74e+4, median_LL=-1.74e+4, min_LL=-1.74e+4]c:\\Users\\gniel\\anaconda3\\Lib\\site-packages\\stepmix\\stepmix.py:968: ConvergenceWarning: Initializations did not converge. Try different init parameters, or increase max_iter, abs_tol, rel_tol or check for degenerate data.\n",
      "  warnings.warn(\n",
      "Bootstrap Repetitions    :  30%|███       | 6/20 [00:10<00:21,  1.52s/it, max_LL=-1.73e+4, median_LL=-1.74e+4, min_LL=-1.74e+4]c:\\Users\\gniel\\anaconda3\\Lib\\site-packages\\stepmix\\stepmix.py:968: ConvergenceWarning: Initializations did not converge. Try different init parameters, or increase max_iter, abs_tol, rel_tol or check for degenerate data.\n",
      "  warnings.warn(\n",
      "Bootstrap Repetitions    :  35%|███▌      | 7/20 [00:12<00:21,  1.65s/it, max_LL=-1.73e+4, median_LL=-1.74e+4, min_LL=-1.75e+4]c:\\Users\\gniel\\anaconda3\\Lib\\site-packages\\stepmix\\stepmix.py:968: ConvergenceWarning: Initializations did not converge. Try different init parameters, or increase max_iter, abs_tol, rel_tol or check for degenerate data.\n",
      "  warnings.warn(\n",
      "Bootstrap Repetitions    :  40%|████      | 8/20 [00:14<00:20,  1.74s/it, max_LL=-1.73e+4, median_LL=-1.74e+4, min_LL=-1.75e+4]c:\\Users\\gniel\\anaconda3\\Lib\\site-packages\\stepmix\\stepmix.py:968: ConvergenceWarning: Initializations did not converge. Try different init parameters, or increase max_iter, abs_tol, rel_tol or check for degenerate data.\n",
      "  warnings.warn(\n",
      "Bootstrap Repetitions    :  45%|████▌     | 9/20 [00:16<00:20,  1.82s/it, max_LL=-1.73e+4, median_LL=-1.74e+4, min_LL=-1.75e+4]c:\\Users\\gniel\\anaconda3\\Lib\\site-packages\\stepmix\\stepmix.py:968: ConvergenceWarning: Initializations did not converge. Try different init parameters, or increase max_iter, abs_tol, rel_tol or check for degenerate data.\n",
      "  warnings.warn(\n",
      "Bootstrap Repetitions    :  50%|█████     | 10/20 [00:18<00:19,  1.90s/it, max_LL=-1.73e+4, median_LL=-1.74e+4, min_LL=-1.75e+4]c:\\Users\\gniel\\anaconda3\\Lib\\site-packages\\stepmix\\stepmix.py:968: ConvergenceWarning: Initializations did not converge. Try different init parameters, or increase max_iter, abs_tol, rel_tol or check for degenerate data.\n",
      "  warnings.warn(\n",
      "Bootstrap Repetitions    :  55%|█████▌    | 11/20 [00:20<00:17,  1.99s/it, max_LL=-1.73e+4, median_LL=-1.74e+4, min_LL=-1.75e+4]c:\\Users\\gniel\\anaconda3\\Lib\\site-packages\\stepmix\\stepmix.py:968: ConvergenceWarning: Initializations did not converge. Try different init parameters, or increase max_iter, abs_tol, rel_tol or check for degenerate data.\n",
      "  warnings.warn(\n",
      "Bootstrap Repetitions    :  60%|██████    | 12/20 [00:22<00:16,  2.04s/it, max_LL=-1.73e+4, median_LL=-1.74e+4, min_LL=-1.75e+4]c:\\Users\\gniel\\anaconda3\\Lib\\site-packages\\stepmix\\stepmix.py:968: ConvergenceWarning: Initializations did not converge. Try different init parameters, or increase max_iter, abs_tol, rel_tol or check for degenerate data.\n",
      "  warnings.warn(\n",
      "Bootstrap Repetitions    :  65%|██████▌   | 13/20 [00:24<00:14,  2.04s/it, max_LL=-1.73e+4, median_LL=-1.74e+4, min_LL=-1.75e+4]c:\\Users\\gniel\\anaconda3\\Lib\\site-packages\\stepmix\\stepmix.py:968: ConvergenceWarning: Initializations did not converge. Try different init parameters, or increase max_iter, abs_tol, rel_tol or check for degenerate data.\n",
      "  warnings.warn(\n",
      "Bootstrap Repetitions    :  75%|███████▌  | 15/20 [00:28<00:10,  2.09s/it, max_LL=-1.72e+4, median_LL=-1.74e+4, min_LL=-1.78e+4]c:\\Users\\gniel\\anaconda3\\Lib\\site-packages\\stepmix\\stepmix.py:968: ConvergenceWarning: Initializations did not converge. Try different init parameters, or increase max_iter, abs_tol, rel_tol or check for degenerate data.\n",
      "  warnings.warn(\n",
      "Bootstrap Repetitions    :  80%|████████  | 16/20 [00:30<00:08,  2.03s/it, max_LL=-1.72e+4, median_LL=-1.74e+4, min_LL=-1.78e+4]c:\\Users\\gniel\\anaconda3\\Lib\\site-packages\\stepmix\\stepmix.py:968: ConvergenceWarning: Initializations did not converge. Try different init parameters, or increase max_iter, abs_tol, rel_tol or check for degenerate data.\n",
      "  warnings.warn(\n",
      "Bootstrap Repetitions    :  85%|████████▌ | 17/20 [00:32<00:06,  2.03s/it, max_LL=-1.72e+4, median_LL=-1.74e+4, min_LL=-1.78e+4]c:\\Users\\gniel\\anaconda3\\Lib\\site-packages\\stepmix\\stepmix.py:968: ConvergenceWarning: Initializations did not converge. Try different init parameters, or increase max_iter, abs_tol, rel_tol or check for degenerate data.\n",
      "  warnings.warn(\n",
      "Bootstrap Repetitions    :  95%|█████████▌| 19/20 [00:35<00:01,  1.74s/it, max_LL=-1.72e+4, median_LL=-1.74e+4, min_LL=-1.78e+4]c:\\Users\\gniel\\anaconda3\\Lib\\site-packages\\stepmix\\stepmix.py:968: ConvergenceWarning: Initializations did not converge. Try different init parameters, or increase max_iter, abs_tol, rel_tol or check for degenerate data.\n",
      "  warnings.warn(\n",
      "Bootstrap Repetitions    : 100%|██████████| 20/20 [00:38<00:00,  1.90s/it, max_LL=-1.72e+4, median_LL=-1.74e+4, min_LL=-1.78e+4]\n"
     ]
    },
    {
     "name": "stdout",
     "output_type": "stream",
     "text": [
      "Testing 2 vs. 3 classes...\n",
      "Bootstrapping null model...\n",
      "\n",
      "Bootstrapping estimator...\n"
     ]
    },
    {
     "name": "stderr",
     "output_type": "stream",
     "text": [
      "Bootstrap Repetitions    : 100%|██████████| 20/20 [00:04<00:00,  4.36it/s, max_LL=-1.7e+4, median_LL=-1.72e+4, min_LL=-1.74e+4] \n"
     ]
    },
    {
     "name": "stdout",
     "output_type": "stream",
     "text": [
      "\n",
      "Bootstrapping alternative model...\n",
      "\n",
      "Bootstrapping estimator...\n"
     ]
    },
    {
     "name": "stderr",
     "output_type": "stream",
     "text": [
      "Bootstrap Repetitions    :   0%|          | 0/20 [00:00<?, ?it/s]c:\\Users\\gniel\\anaconda3\\Lib\\site-packages\\stepmix\\stepmix.py:968: ConvergenceWarning: Initializations did not converge. Try different init parameters, or increase max_iter, abs_tol, rel_tol or check for degenerate data.\n",
      "  warnings.warn(\n",
      "Bootstrap Repetitions    :   5%|▌         | 1/20 [00:02<00:41,  2.19s/it, max_LL=-1.71e+4, median_LL=-1.71e+4, min_LL=-1.71e+4]c:\\Users\\gniel\\anaconda3\\Lib\\site-packages\\stepmix\\stepmix.py:968: ConvergenceWarning: Initializations did not converge. Try different init parameters, or increase max_iter, abs_tol, rel_tol or check for degenerate data.\n",
      "  warnings.warn(\n",
      "Bootstrap Repetitions    :  25%|██▌       | 5/20 [00:09<00:24,  1.65s/it, max_LL=-1.7e+4, median_LL=-1.71e+4, min_LL=-1.72e+4] c:\\Users\\gniel\\anaconda3\\Lib\\site-packages\\stepmix\\stepmix.py:968: ConvergenceWarning: Initializations did not converge. Try different init parameters, or increase max_iter, abs_tol, rel_tol or check for degenerate data.\n",
      "  warnings.warn(\n",
      "Bootstrap Repetitions    :  35%|███▌      | 7/20 [00:12<00:20,  1.60s/it, max_LL=-1.7e+4, median_LL=-1.71e+4, min_LL=-1.72e+4]c:\\Users\\gniel\\anaconda3\\Lib\\site-packages\\stepmix\\stepmix.py:968: ConvergenceWarning: Initializations did not converge. Try different init parameters, or increase max_iter, abs_tol, rel_tol or check for degenerate data.\n",
      "  warnings.warn(\n",
      "Bootstrap Repetitions    :  40%|████      | 8/20 [00:14<00:20,  1.73s/it, max_LL=-1.7e+4, median_LL=-1.71e+4, min_LL=-1.72e+4]c:\\Users\\gniel\\anaconda3\\Lib\\site-packages\\stepmix\\stepmix.py:968: ConvergenceWarning: Initializations did not converge. Try different init parameters, or increase max_iter, abs_tol, rel_tol or check for degenerate data.\n",
      "  warnings.warn(\n",
      "Bootstrap Repetitions    :  45%|████▌     | 9/20 [00:16<00:19,  1.81s/it, max_LL=-1.7e+4, median_LL=-1.71e+4, min_LL=-1.72e+4]c:\\Users\\gniel\\anaconda3\\Lib\\site-packages\\stepmix\\stepmix.py:968: ConvergenceWarning: Initializations did not converge. Try different init parameters, or increase max_iter, abs_tol, rel_tol or check for degenerate data.\n",
      "  warnings.warn(\n",
      "Bootstrap Repetitions    :  60%|██████    | 12/20 [00:21<00:13,  1.63s/it, max_LL=-1.7e+4, median_LL=-1.71e+4, min_LL=-1.72e+4]c:\\Users\\gniel\\anaconda3\\Lib\\site-packages\\stepmix\\stepmix.py:968: ConvergenceWarning: Initializations did not converge. Try different init parameters, or increase max_iter, abs_tol, rel_tol or check for degenerate data.\n",
      "  warnings.warn(\n",
      "Bootstrap Repetitions    :  65%|██████▌   | 13/20 [00:23<00:12,  1.75s/it, max_LL=-1.7e+4, median_LL=-1.71e+4, min_LL=-1.72e+4]c:\\Users\\gniel\\anaconda3\\Lib\\site-packages\\stepmix\\stepmix.py:968: ConvergenceWarning: Initializations did not converge. Try different init parameters, or increase max_iter, abs_tol, rel_tol or check for degenerate data.\n",
      "  warnings.warn(\n",
      "Bootstrap Repetitions    :  75%|███████▌  | 15/20 [00:26<00:07,  1.58s/it, max_LL=-1.69e+4, median_LL=-1.71e+4, min_LL=-1.73e+4]c:\\Users\\gniel\\anaconda3\\Lib\\site-packages\\stepmix\\stepmix.py:968: ConvergenceWarning: Initializations did not converge. Try different init parameters, or increase max_iter, abs_tol, rel_tol or check for degenerate data.\n",
      "  warnings.warn(\n",
      "Bootstrap Repetitions    :  85%|████████▌ | 17/20 [00:29<00:05,  1.73s/it, max_LL=-1.69e+4, median_LL=-1.72e+4, min_LL=-1.73e+4]c:\\Users\\gniel\\anaconda3\\Lib\\site-packages\\stepmix\\stepmix.py:968: ConvergenceWarning: Initializations did not converge. Try different init parameters, or increase max_iter, abs_tol, rel_tol or check for degenerate data.\n",
      "  warnings.warn(\n",
      "Bootstrap Repetitions    : 100%|██████████| 20/20 [00:35<00:00,  1.78s/it, max_LL=-1.69e+4, median_LL=-1.71e+4, min_LL=-1.73e+4]\n"
     ]
    },
    {
     "name": "stdout",
     "output_type": "stream",
     "text": [
      "Testing 3 vs. 4 classes...\n",
      "Bootstrapping null model...\n",
      "\n",
      "Bootstrapping estimator...\n"
     ]
    },
    {
     "name": "stderr",
     "output_type": "stream",
     "text": [
      "Bootstrap Repetitions    :  45%|████▌     | 9/20 [00:04<00:04,  2.21it/s, max_LL=-1.68e+4, median_LL=-1.69e+4, min_LL=-1.71e+4]c:\\Users\\gniel\\anaconda3\\Lib\\site-packages\\stepmix\\stepmix.py:968: ConvergenceWarning: Initializations did not converge. Try different init parameters, or increase max_iter, abs_tol, rel_tol or check for degenerate data.\n",
      "  warnings.warn(\n",
      "Bootstrap Repetitions    : 100%|██████████| 20/20 [00:11<00:00,  1.69it/s, max_LL=-1.68e+4, median_LL=-1.69e+4, min_LL=-1.72e+4]\n"
     ]
    },
    {
     "name": "stdout",
     "output_type": "stream",
     "text": [
      "\n",
      "Bootstrapping alternative model...\n",
      "\n",
      "Bootstrapping estimator...\n"
     ]
    },
    {
     "name": "stderr",
     "output_type": "stream",
     "text": [
      "Bootstrap Repetitions    :   5%|▌         | 1/20 [00:01<00:22,  1.18s/it, max_LL=-1.7e+4, median_LL=-1.7e+4, min_LL=-1.7e+4]c:\\Users\\gniel\\anaconda3\\Lib\\site-packages\\stepmix\\stepmix.py:968: ConvergenceWarning: Initializations did not converge. Try different init parameters, or increase max_iter, abs_tol, rel_tol or check for degenerate data.\n",
      "  warnings.warn(\n",
      "Bootstrap Repetitions    :  10%|█         | 2/20 [00:03<00:29,  1.67s/it, max_LL=-1.69e+4, median_LL=-1.69e+4, min_LL=-1.7e+4]c:\\Users\\gniel\\anaconda3\\Lib\\site-packages\\stepmix\\stepmix.py:968: ConvergenceWarning: Initializations did not converge. Try different init parameters, or increase max_iter, abs_tol, rel_tol or check for degenerate data.\n",
      "  warnings.warn(\n",
      "Bootstrap Repetitions    :  15%|█▌        | 3/20 [00:05<00:30,  1.82s/it, max_LL=-1.69e+4, median_LL=-1.69e+4, min_LL=-1.7e+4]c:\\Users\\gniel\\anaconda3\\Lib\\site-packages\\stepmix\\stepmix.py:968: ConvergenceWarning: Initializations did not converge. Try different init parameters, or increase max_iter, abs_tol, rel_tol or check for degenerate data.\n",
      "  warnings.warn(\n",
      "Bootstrap Repetitions    :  20%|██        | 4/20 [00:07<00:30,  1.89s/it, max_LL=-1.68e+4, median_LL=-1.69e+4, min_LL=-1.7e+4]c:\\Users\\gniel\\anaconda3\\Lib\\site-packages\\stepmix\\stepmix.py:968: ConvergenceWarning: Initializations did not converge. Try different init parameters, or increase max_iter, abs_tol, rel_tol or check for degenerate data.\n",
      "  warnings.warn(\n",
      "Bootstrap Repetitions    :  30%|███       | 6/20 [00:09<00:21,  1.57s/it, max_LL=-1.67e+4, median_LL=-1.69e+4, min_LL=-1.7e+4]c:\\Users\\gniel\\anaconda3\\Lib\\site-packages\\stepmix\\stepmix.py:968: ConvergenceWarning: Initializations did not converge. Try different init parameters, or increase max_iter, abs_tol, rel_tol or check for degenerate data.\n",
      "  warnings.warn(\n",
      "Bootstrap Repetitions    :  35%|███▌      | 7/20 [00:11<00:21,  1.65s/it, max_LL=-1.67e+4, median_LL=-1.69e+4, min_LL=-1.7e+4]c:\\Users\\gniel\\anaconda3\\Lib\\site-packages\\stepmix\\stepmix.py:968: ConvergenceWarning: Initializations did not converge. Try different init parameters, or increase max_iter, abs_tol, rel_tol or check for degenerate data.\n",
      "  warnings.warn(\n",
      "Bootstrap Repetitions    :  60%|██████    | 12/20 [00:18<00:10,  1.33s/it, max_LL=-1.67e+4, median_LL=-1.69e+4, min_LL=-1.71e+4]c:\\Users\\gniel\\anaconda3\\Lib\\site-packages\\stepmix\\stepmix.py:968: ConvergenceWarning: Initializations did not converge. Try different init parameters, or increase max_iter, abs_tol, rel_tol or check for degenerate data.\n",
      "  warnings.warn(\n",
      "Bootstrap Repetitions    :  80%|████████  | 16/20 [00:24<00:05,  1.40s/it, max_LL=-1.67e+4, median_LL=-1.69e+4, min_LL=-1.71e+4]c:\\Users\\gniel\\anaconda3\\Lib\\site-packages\\stepmix\\stepmix.py:968: ConvergenceWarning: Initializations did not converge. Try different init parameters, or increase max_iter, abs_tol, rel_tol or check for degenerate data.\n",
      "  warnings.warn(\n",
      "Bootstrap Repetitions    : 100%|██████████| 20/20 [00:33<00:00,  1.66s/it, max_LL=-1.67e+4, median_LL=-1.69e+4, min_LL=-1.71e+4]\n"
     ]
    },
    {
     "name": "stdout",
     "output_type": "stream",
     "text": [
      "Testing 4 vs. 5 classes...\n"
     ]
    },
    {
     "name": "stderr",
     "output_type": "stream",
     "text": [
      "c:\\Users\\gniel\\anaconda3\\Lib\\site-packages\\stepmix\\stepmix.py:968: ConvergenceWarning: Initializations did not converge. Try different init parameters, or increase max_iter, abs_tol, rel_tol or check for degenerate data.\n",
      "  warnings.warn(\n"
     ]
    },
    {
     "name": "stdout",
     "output_type": "stream",
     "text": [
      "Bootstrapping null model...\n",
      "\n",
      "Bootstrapping estimator...\n"
     ]
    },
    {
     "name": "stderr",
     "output_type": "stream",
     "text": [
      "Bootstrap Repetitions    :  35%|███▌      | 7/20 [00:10<00:18,  1.44s/it, max_LL=-1.67e+4, median_LL=-1.68e+4, min_LL=-1.69e+4]c:\\Users\\gniel\\anaconda3\\Lib\\site-packages\\stepmix\\stepmix.py:968: ConvergenceWarning: Initializations did not converge. Try different init parameters, or increase max_iter, abs_tol, rel_tol or check for degenerate data.\n",
      "  warnings.warn(\n",
      "Bootstrap Repetitions    :  50%|█████     | 10/20 [00:14<00:12,  1.28s/it, max_LL=-1.67e+4, median_LL=-1.68e+4, min_LL=-1.7e+4]c:\\Users\\gniel\\anaconda3\\Lib\\site-packages\\stepmix\\stepmix.py:968: ConvergenceWarning: Initializations did not converge. Try different init parameters, or increase max_iter, abs_tol, rel_tol or check for degenerate data.\n",
      "  warnings.warn(\n",
      "Bootstrap Repetitions    :  95%|█████████▌| 19/20 [00:27<00:01,  1.40s/it, max_LL=-1.67e+4, median_LL=-1.68e+4, min_LL=-1.7e+4]c:\\Users\\gniel\\anaconda3\\Lib\\site-packages\\stepmix\\stepmix.py:968: ConvergenceWarning: Initializations did not converge. Try different init parameters, or increase max_iter, abs_tol, rel_tol or check for degenerate data.\n",
      "  warnings.warn(\n",
      "Bootstrap Repetitions    : 100%|██████████| 20/20 [00:29<00:00,  1.49s/it, max_LL=-1.67e+4, median_LL=-1.68e+4, min_LL=-1.7e+4]\n"
     ]
    },
    {
     "name": "stdout",
     "output_type": "stream",
     "text": [
      "\n",
      "Bootstrapping alternative model...\n",
      "\n",
      "Bootstrapping estimator...\n"
     ]
    },
    {
     "name": "stderr",
     "output_type": "stream",
     "text": [
      "Bootstrap Repetitions    :   0%|          | 0/20 [00:00<?, ?it/s]c:\\Users\\gniel\\anaconda3\\Lib\\site-packages\\stepmix\\stepmix.py:968: ConvergenceWarning: Initializations did not converge. Try different init parameters, or increase max_iter, abs_tol, rel_tol or check for degenerate data.\n",
      "  warnings.warn(\n",
      "Bootstrap Repetitions    :   5%|▌         | 1/20 [00:02<00:50,  2.66s/it, max_LL=-1.68e+4, median_LL=-1.68e+4, min_LL=-1.68e+4]c:\\Users\\gniel\\anaconda3\\Lib\\site-packages\\stepmix\\stepmix.py:968: ConvergenceWarning: Initializations did not converge. Try different init parameters, or increase max_iter, abs_tol, rel_tol or check for degenerate data.\n",
      "  warnings.warn(\n",
      "Bootstrap Repetitions    :  25%|██▌       | 5/20 [00:11<00:31,  2.08s/it, max_LL=-1.67e+4, median_LL=-1.68e+4, min_LL=-1.69e+4]c:\\Users\\gniel\\anaconda3\\Lib\\site-packages\\stepmix\\stepmix.py:968: ConvergenceWarning: Initializations did not converge. Try different init parameters, or increase max_iter, abs_tol, rel_tol or check for degenerate data.\n",
      "  warnings.warn(\n",
      "Bootstrap Repetitions    :  35%|███▌      | 7/20 [00:15<00:25,  1.95s/it, max_LL=-1.67e+4, median_LL=-1.68e+4, min_LL=-1.69e+4]c:\\Users\\gniel\\anaconda3\\Lib\\site-packages\\stepmix\\stepmix.py:968: ConvergenceWarning: Initializations did not converge. Try different init parameters, or increase max_iter, abs_tol, rel_tol or check for degenerate data.\n",
      "  warnings.warn(\n",
      "Bootstrap Repetitions    :  40%|████      | 8/20 [00:17<00:26,  2.21s/it, max_LL=-1.67e+4, median_LL=-1.68e+4, min_LL=-1.69e+4]c:\\Users\\gniel\\anaconda3\\Lib\\site-packages\\stepmix\\stepmix.py:968: ConvergenceWarning: Initializations did not converge. Try different init parameters, or increase max_iter, abs_tol, rel_tol or check for degenerate data.\n",
      "  warnings.warn(\n",
      "Bootstrap Repetitions    :  55%|█████▌    | 11/20 [00:25<00:21,  2.42s/it, max_LL=-1.67e+4, median_LL=-1.68e+4, min_LL=-1.69e+4]c:\\Users\\gniel\\anaconda3\\Lib\\site-packages\\stepmix\\stepmix.py:968: ConvergenceWarning: Initializations did not converge. Try different init parameters, or increase max_iter, abs_tol, rel_tol or check for degenerate data.\n",
      "  warnings.warn(\n",
      "Bootstrap Repetitions    :  60%|██████    | 12/20 [00:29<00:22,  2.78s/it, max_LL=-1.67e+4, median_LL=-1.68e+4, min_LL=-1.69e+4]c:\\Users\\gniel\\anaconda3\\Lib\\site-packages\\stepmix\\stepmix.py:968: ConvergenceWarning: Initializations did not converge. Try different init parameters, or increase max_iter, abs_tol, rel_tol or check for degenerate data.\n",
      "  warnings.warn(\n",
      "Bootstrap Repetitions    :  65%|██████▌   | 13/20 [00:34<00:23,  3.39s/it, max_LL=-1.67e+4, median_LL=-1.68e+4, min_LL=-1.69e+4]c:\\Users\\gniel\\anaconda3\\Lib\\site-packages\\stepmix\\stepmix.py:968: ConvergenceWarning: Initializations did not converge. Try different init parameters, or increase max_iter, abs_tol, rel_tol or check for degenerate data.\n",
      "  warnings.warn(\n",
      "Bootstrap Repetitions    :  85%|████████▌ | 17/20 [00:46<00:09,  3.09s/it, max_LL=-1.67e+4, median_LL=-1.68e+4, min_LL=-1.69e+4]c:\\Users\\gniel\\anaconda3\\Lib\\site-packages\\stepmix\\stepmix.py:968: ConvergenceWarning: Initializations did not converge. Try different init parameters, or increase max_iter, abs_tol, rel_tol or check for degenerate data.\n",
      "  warnings.warn(\n",
      "Bootstrap Repetitions    :  90%|█████████ | 18/20 [00:50<00:06,  3.30s/it, max_LL=-1.67e+4, median_LL=-1.68e+4, min_LL=-1.69e+4]c:\\Users\\gniel\\anaconda3\\Lib\\site-packages\\stepmix\\stepmix.py:968: ConvergenceWarning: Initializations did not converge. Try different init parameters, or increase max_iter, abs_tol, rel_tol or check for degenerate data.\n",
      "  warnings.warn(\n",
      "Bootstrap Repetitions    : 100%|██████████| 20/20 [01:00<00:00,  3.00s/it, max_LL=-1.67e+4, median_LL=-1.68e+4, min_LL=-1.69e+4]\n"
     ]
    },
    {
     "name": "stdout",
     "output_type": "stream",
     "text": [
      "Testing 5 vs. 6 classes...\n"
     ]
    },
    {
     "name": "stderr",
     "output_type": "stream",
     "text": [
      "c:\\Users\\gniel\\anaconda3\\Lib\\site-packages\\stepmix\\stepmix.py:968: ConvergenceWarning: Initializations did not converge. Try different init parameters, or increase max_iter, abs_tol, rel_tol or check for degenerate data.\n",
      "  warnings.warn(\n",
      "c:\\Users\\gniel\\anaconda3\\Lib\\site-packages\\stepmix\\stepmix.py:968: ConvergenceWarning: Initializations did not converge. Try different init parameters, or increase max_iter, abs_tol, rel_tol or check for degenerate data.\n",
      "  warnings.warn(\n"
     ]
    },
    {
     "name": "stdout",
     "output_type": "stream",
     "text": [
      "Bootstrapping null model...\n",
      "\n",
      "Bootstrapping estimator...\n"
     ]
    },
    {
     "name": "stderr",
     "output_type": "stream",
     "text": [
      "Bootstrap Repetitions    :  10%|█         | 2/20 [00:07<01:06,  3.69s/it, max_LL=-1.67e+4, median_LL=-1.67e+4, min_LL=-1.67e+4]c:\\Users\\gniel\\anaconda3\\Lib\\site-packages\\stepmix\\stepmix.py:968: ConvergenceWarning: Initializations did not converge. Try different init parameters, or increase max_iter, abs_tol, rel_tol or check for degenerate data.\n",
      "  warnings.warn(\n",
      "Bootstrap Repetitions    :  20%|██        | 4/20 [00:15<01:00,  3.77s/it, max_LL=-1.67e+4, median_LL=-1.67e+4, min_LL=-1.68e+4]c:\\Users\\gniel\\anaconda3\\Lib\\site-packages\\stepmix\\stepmix.py:968: ConvergenceWarning: Initializations did not converge. Try different init parameters, or increase max_iter, abs_tol, rel_tol or check for degenerate data.\n",
      "  warnings.warn(\n",
      "Bootstrap Repetitions    :  35%|███▌      | 7/20 [00:23<00:37,  2.87s/it, max_LL=-1.67e+4, median_LL=-1.67e+4, min_LL=-1.68e+4]c:\\Users\\gniel\\anaconda3\\Lib\\site-packages\\stepmix\\stepmix.py:968: ConvergenceWarning: Initializations did not converge. Try different init parameters, or increase max_iter, abs_tol, rel_tol or check for degenerate data.\n",
      "  warnings.warn(\n",
      "Bootstrap Repetitions    :  55%|█████▌    | 11/20 [00:31<00:17,  1.96s/it, max_LL=-1.67e+4, median_LL=-1.68e+4, min_LL=-1.69e+4]c:\\Users\\gniel\\anaconda3\\Lib\\site-packages\\stepmix\\stepmix.py:968: ConvergenceWarning: Initializations did not converge. Try different init parameters, or increase max_iter, abs_tol, rel_tol or check for degenerate data.\n",
      "  warnings.warn(\n",
      "Bootstrap Repetitions    :  60%|██████    | 12/20 [00:33<00:17,  2.17s/it, max_LL=-1.67e+4, median_LL=-1.68e+4, min_LL=-1.7e+4] c:\\Users\\gniel\\anaconda3\\Lib\\site-packages\\stepmix\\stepmix.py:968: ConvergenceWarning: Initializations did not converge. Try different init parameters, or increase max_iter, abs_tol, rel_tol or check for degenerate data.\n",
      "  warnings.warn(\n",
      "Bootstrap Repetitions    :  65%|██████▌   | 13/20 [00:36<00:15,  2.27s/it, max_LL=-1.67e+4, median_LL=-1.68e+4, min_LL=-1.7e+4]c:\\Users\\gniel\\anaconda3\\Lib\\site-packages\\stepmix\\stepmix.py:968: ConvergenceWarning: Initializations did not converge. Try different init parameters, or increase max_iter, abs_tol, rel_tol or check for degenerate data.\n",
      "  warnings.warn(\n",
      "Bootstrap Repetitions    :  85%|████████▌ | 17/20 [00:44<00:05,  1.93s/it, max_LL=-1.66e+4, median_LL=-1.68e+4, min_LL=-1.7e+4]c:\\Users\\gniel\\anaconda3\\Lib\\site-packages\\stepmix\\stepmix.py:968: ConvergenceWarning: Initializations did not converge. Try different init parameters, or increase max_iter, abs_tol, rel_tol or check for degenerate data.\n",
      "  warnings.warn(\n",
      "Bootstrap Repetitions    : 100%|██████████| 20/20 [00:51<00:00,  2.56s/it, max_LL=-1.66e+4, median_LL=-1.68e+4, min_LL=-1.7e+4]\n"
     ]
    },
    {
     "name": "stdout",
     "output_type": "stream",
     "text": [
      "\n",
      "Bootstrapping alternative model...\n",
      "\n",
      "Bootstrapping estimator...\n"
     ]
    },
    {
     "name": "stderr",
     "output_type": "stream",
     "text": [
      "Bootstrap Repetitions    :   0%|          | 0/20 [00:00<?, ?it/s]c:\\Users\\gniel\\anaconda3\\Lib\\site-packages\\stepmix\\stepmix.py:968: ConvergenceWarning: Initializations did not converge. Try different init parameters, or increase max_iter, abs_tol, rel_tol or check for degenerate data.\n",
      "  warnings.warn(\n",
      "Bootstrap Repetitions    :  10%|█         | 2/20 [00:06<00:53,  2.98s/it, max_LL=-1.67e+4, median_LL=-1.67e+4, min_LL=-1.68e+4]c:\\Users\\gniel\\anaconda3\\Lib\\site-packages\\stepmix\\stepmix.py:968: ConvergenceWarning: Initializations did not converge. Try different init parameters, or increase max_iter, abs_tol, rel_tol or check for degenerate data.\n",
      "  warnings.warn(\n",
      "Bootstrap Repetitions    :  15%|█▌        | 3/20 [00:09<00:51,  3.00s/it, max_LL=-1.67e+4, median_LL=-1.68e+4, min_LL=-1.68e+4]c:\\Users\\gniel\\anaconda3\\Lib\\site-packages\\stepmix\\stepmix.py:968: ConvergenceWarning: Initializations did not converge. Try different init parameters, or increase max_iter, abs_tol, rel_tol or check for degenerate data.\n",
      "  warnings.warn(\n",
      "Bootstrap Repetitions    :  20%|██        | 4/20 [00:12<00:48,  3.04s/it, max_LL=-1.67e+4, median_LL=-1.67e+4, min_LL=-1.68e+4]c:\\Users\\gniel\\anaconda3\\Lib\\site-packages\\stepmix\\stepmix.py:968: ConvergenceWarning: Initializations did not converge. Try different init parameters, or increase max_iter, abs_tol, rel_tol or check for degenerate data.\n",
      "  warnings.warn(\n",
      "Bootstrap Repetitions    :  25%|██▌       | 5/20 [00:15<00:46,  3.08s/it, max_LL=-1.67e+4, median_LL=-1.67e+4, min_LL=-1.68e+4]c:\\Users\\gniel\\anaconda3\\Lib\\site-packages\\stepmix\\stepmix.py:968: ConvergenceWarning: Initializations did not converge. Try different init parameters, or increase max_iter, abs_tol, rel_tol or check for degenerate data.\n",
      "  warnings.warn(\n",
      "Bootstrap Repetitions    :  35%|███▌      | 7/20 [00:20<00:37,  2.87s/it, max_LL=-1.66e+4, median_LL=-1.67e+4, min_LL=-1.68e+4]c:\\Users\\gniel\\anaconda3\\Lib\\site-packages\\stepmix\\stepmix.py:968: ConvergenceWarning: Initializations did not converge. Try different init parameters, or increase max_iter, abs_tol, rel_tol or check for degenerate data.\n",
      "  warnings.warn(\n",
      "Bootstrap Repetitions    :  45%|████▌     | 9/20 [00:25<00:27,  2.51s/it, max_LL=-1.66e+4, median_LL=-1.68e+4, min_LL=-1.68e+4]c:\\Users\\gniel\\anaconda3\\Lib\\site-packages\\stepmix\\stepmix.py:968: ConvergenceWarning: Initializations did not converge. Try different init parameters, or increase max_iter, abs_tol, rel_tol or check for degenerate data.\n",
      "  warnings.warn(\n",
      "Bootstrap Repetitions    :  50%|█████     | 10/20 [00:28<00:26,  2.65s/it, max_LL=-1.66e+4, median_LL=-1.68e+4, min_LL=-1.68e+4]c:\\Users\\gniel\\anaconda3\\Lib\\site-packages\\stepmix\\stepmix.py:968: ConvergenceWarning: Initializations did not converge. Try different init parameters, or increase max_iter, abs_tol, rel_tol or check for degenerate data.\n",
      "  warnings.warn(\n",
      "Bootstrap Repetitions    :  55%|█████▌    | 11/20 [00:31<00:25,  2.83s/it, max_LL=-1.66e+4, median_LL=-1.68e+4, min_LL=-1.68e+4]c:\\Users\\gniel\\anaconda3\\Lib\\site-packages\\stepmix\\stepmix.py:968: ConvergenceWarning: Initializations did not converge. Try different init parameters, or increase max_iter, abs_tol, rel_tol or check for degenerate data.\n",
      "  warnings.warn(\n",
      "Bootstrap Repetitions    :  60%|██████    | 12/20 [00:34<00:23,  2.96s/it, max_LL=-1.66e+4, median_LL=-1.68e+4, min_LL=-1.69e+4]c:\\Users\\gniel\\anaconda3\\Lib\\site-packages\\stepmix\\stepmix.py:968: ConvergenceWarning: Initializations did not converge. Try different init parameters, or increase max_iter, abs_tol, rel_tol or check for degenerate data.\n",
      "  warnings.warn(\n",
      "Bootstrap Repetitions    :  75%|███████▌  | 15/20 [00:42<00:12,  2.55s/it, max_LL=-1.66e+4, median_LL=-1.68e+4, min_LL=-1.69e+4]c:\\Users\\gniel\\anaconda3\\Lib\\site-packages\\stepmix\\stepmix.py:968: ConvergenceWarning: Initializations did not converge. Try different init parameters, or increase max_iter, abs_tol, rel_tol or check for degenerate data.\n",
      "  warnings.warn(\n",
      "Bootstrap Repetitions    :  95%|█████████▌| 19/20 [00:50<00:02,  2.16s/it, max_LL=-1.66e+4, median_LL=-1.68e+4, min_LL=-1.69e+4]c:\\Users\\gniel\\anaconda3\\Lib\\site-packages\\stepmix\\stepmix.py:968: ConvergenceWarning: Initializations did not converge. Try different init parameters, or increase max_iter, abs_tol, rel_tol or check for degenerate data.\n",
      "  warnings.warn(\n",
      "Bootstrap Repetitions    : 100%|██████████| 20/20 [00:53<00:00,  2.68s/it, max_LL=-1.66e+4, median_LL=-1.67e+4, min_LL=-1.69e+4]\n"
     ]
    },
    {
     "name": "stdout",
     "output_type": "stream",
     "text": [
      "Testing 6 vs. 7 classes...\n"
     ]
    },
    {
     "name": "stderr",
     "output_type": "stream",
     "text": [
      "c:\\Users\\gniel\\anaconda3\\Lib\\site-packages\\stepmix\\stepmix.py:968: ConvergenceWarning: Initializations did not converge. Try different init parameters, or increase max_iter, abs_tol, rel_tol or check for degenerate data.\n",
      "  warnings.warn(\n",
      "c:\\Users\\gniel\\anaconda3\\Lib\\site-packages\\stepmix\\stepmix.py:968: ConvergenceWarning: Initializations did not converge. Try different init parameters, or increase max_iter, abs_tol, rel_tol or check for degenerate data.\n",
      "  warnings.warn(\n"
     ]
    },
    {
     "name": "stdout",
     "output_type": "stream",
     "text": [
      "Bootstrapping null model...\n",
      "\n",
      "Bootstrapping estimator...\n"
     ]
    },
    {
     "name": "stderr",
     "output_type": "stream",
     "text": [
      "Bootstrap Repetitions    :   5%|▌         | 1/20 [00:02<00:48,  2.57s/it, max_LL=-1.67e+4, median_LL=-1.67e+4, min_LL=-1.67e+4]c:\\Users\\gniel\\anaconda3\\Lib\\site-packages\\stepmix\\stepmix.py:968: ConvergenceWarning: Initializations did not converge. Try different init parameters, or increase max_iter, abs_tol, rel_tol or check for degenerate data.\n",
      "  warnings.warn(\n",
      "Bootstrap Repetitions    :  15%|█▌        | 3/20 [00:06<00:35,  2.12s/it, max_LL=-1.67e+4, median_LL=-1.68e+4, min_LL=-1.69e+4]c:\\Users\\gniel\\anaconda3\\Lib\\site-packages\\stepmix\\stepmix.py:968: ConvergenceWarning: Initializations did not converge. Try different init parameters, or increase max_iter, abs_tol, rel_tol or check for degenerate data.\n",
      "  warnings.warn(\n",
      "Bootstrap Repetitions    :  20%|██        | 4/20 [00:09<00:40,  2.52s/it, max_LL=-1.67e+4, median_LL=-1.68e+4, min_LL=-1.69e+4]c:\\Users\\gniel\\anaconda3\\Lib\\site-packages\\stepmix\\stepmix.py:968: ConvergenceWarning: Initializations did not converge. Try different init parameters, or increase max_iter, abs_tol, rel_tol or check for degenerate data.\n",
      "  warnings.warn(\n",
      "Bootstrap Repetitions    :  35%|███▌      | 7/20 [00:22<00:47,  3.64s/it, max_LL=-1.67e+4, median_LL=-1.68e+4, min_LL=-1.7e+4] c:\\Users\\gniel\\anaconda3\\Lib\\site-packages\\stepmix\\stepmix.py:968: ConvergenceWarning: Initializations did not converge. Try different init parameters, or increase max_iter, abs_tol, rel_tol or check for degenerate data.\n",
      "  warnings.warn(\n",
      "Bootstrap Repetitions    :  40%|████      | 8/20 [00:27<00:48,  4.05s/it, max_LL=-1.67e+4, median_LL=-1.68e+4, min_LL=-1.7e+4]c:\\Users\\gniel\\anaconda3\\Lib\\site-packages\\stepmix\\stepmix.py:968: ConvergenceWarning: Initializations did not converge. Try different init parameters, or increase max_iter, abs_tol, rel_tol or check for degenerate data.\n",
      "  warnings.warn(\n",
      "Bootstrap Repetitions    :  45%|████▌     | 9/20 [00:32<00:48,  4.42s/it, max_LL=-1.66e+4, median_LL=-1.68e+4, min_LL=-1.7e+4]c:\\Users\\gniel\\anaconda3\\Lib\\site-packages\\stepmix\\stepmix.py:968: ConvergenceWarning: Initializations did not converge. Try different init parameters, or increase max_iter, abs_tol, rel_tol or check for degenerate data.\n",
      "  warnings.warn(\n",
      "Bootstrap Repetitions    :  50%|█████     | 10/20 [00:37<00:46,  4.61s/it, max_LL=-1.66e+4, median_LL=-1.68e+4, min_LL=-1.7e+4]c:\\Users\\gniel\\anaconda3\\Lib\\site-packages\\stepmix\\stepmix.py:968: ConvergenceWarning: Initializations did not converge. Try different init parameters, or increase max_iter, abs_tol, rel_tol or check for degenerate data.\n",
      "  warnings.warn(\n",
      "Bootstrap Repetitions    :  60%|██████    | 12/20 [00:46<00:35,  4.43s/it, max_LL=-1.66e+4, median_LL=-1.68e+4, min_LL=-1.71e+4]c:\\Users\\gniel\\anaconda3\\Lib\\site-packages\\stepmix\\stepmix.py:968: ConvergenceWarning: Initializations did not converge. Try different init parameters, or increase max_iter, abs_tol, rel_tol or check for degenerate data.\n",
      "  warnings.warn(\n",
      "Bootstrap Repetitions    :  65%|██████▌   | 13/20 [00:49<00:27,  3.99s/it, max_LL=-1.66e+4, median_LL=-1.68e+4, min_LL=-1.71e+4]c:\\Users\\gniel\\anaconda3\\Lib\\site-packages\\stepmix\\stepmix.py:968: ConvergenceWarning: Initializations did not converge. Try different init parameters, or increase max_iter, abs_tol, rel_tol or check for degenerate data.\n",
      "  warnings.warn(\n",
      "Bootstrap Repetitions    :  75%|███████▌  | 15/20 [00:54<00:16,  3.21s/it, max_LL=-1.66e+4, median_LL=-1.68e+4, min_LL=-1.71e+4]c:\\Users\\gniel\\anaconda3\\Lib\\site-packages\\stepmix\\stepmix.py:968: ConvergenceWarning: Initializations did not converge. Try different init parameters, or increase max_iter, abs_tol, rel_tol or check for degenerate data.\n",
      "  warnings.warn(\n",
      "Bootstrap Repetitions    :  85%|████████▌ | 17/20 [00:58<00:07,  2.56s/it, max_LL=-1.66e+4, median_LL=-1.68e+4, min_LL=-1.71e+4]c:\\Users\\gniel\\anaconda3\\Lib\\site-packages\\stepmix\\stepmix.py:968: ConvergenceWarning: Initializations did not converge. Try different init parameters, or increase max_iter, abs_tol, rel_tol or check for degenerate data.\n",
      "  warnings.warn(\n",
      "Bootstrap Repetitions    :  90%|█████████ | 18/20 [01:01<00:05,  2.57s/it, max_LL=-1.66e+4, median_LL=-1.68e+4, min_LL=-1.71e+4]c:\\Users\\gniel\\anaconda3\\Lib\\site-packages\\stepmix\\stepmix.py:968: ConvergenceWarning: Initializations did not converge. Try different init parameters, or increase max_iter, abs_tol, rel_tol or check for degenerate data.\n",
      "  warnings.warn(\n",
      "Bootstrap Repetitions    : 100%|██████████| 20/20 [01:05<00:00,  3.29s/it, max_LL=-1.66e+4, median_LL=-1.68e+4, min_LL=-1.71e+4]\n"
     ]
    },
    {
     "name": "stdout",
     "output_type": "stream",
     "text": [
      "\n",
      "Bootstrapping alternative model...\n",
      "\n",
      "Bootstrapping estimator...\n"
     ]
    },
    {
     "name": "stderr",
     "output_type": "stream",
     "text": [
      "Bootstrap Repetitions    :   0%|          | 0/20 [00:00<?, ?it/s]c:\\Users\\gniel\\anaconda3\\Lib\\site-packages\\stepmix\\stepmix.py:968: ConvergenceWarning: Initializations did not converge. Try different init parameters, or increase max_iter, abs_tol, rel_tol or check for degenerate data.\n",
      "  warnings.warn(\n",
      "Bootstrap Repetitions    :  10%|█         | 2/20 [00:04<00:38,  2.14s/it, max_LL=-1.66e+4, median_LL=-1.67e+4, min_LL=-1.68e+4]c:\\Users\\gniel\\anaconda3\\Lib\\site-packages\\stepmix\\stepmix.py:968: ConvergenceWarning: Initializations did not converge. Try different init parameters, or increase max_iter, abs_tol, rel_tol or check for degenerate data.\n",
      "  warnings.warn(\n",
      "Bootstrap Repetitions    :  15%|█▌        | 3/20 [00:07<00:40,  2.35s/it, max_LL=-1.66e+4, median_LL=-1.68e+4, min_LL=-1.68e+4]c:\\Users\\gniel\\anaconda3\\Lib\\site-packages\\stepmix\\stepmix.py:968: ConvergenceWarning: Initializations did not converge. Try different init parameters, or increase max_iter, abs_tol, rel_tol or check for degenerate data.\n",
      "  warnings.warn(\n",
      "Bootstrap Repetitions    :  25%|██▌       | 5/20 [00:11<00:33,  2.26s/it, max_LL=-1.66e+4, median_LL=-1.68e+4, min_LL=-1.7e+4] c:\\Users\\gniel\\anaconda3\\Lib\\site-packages\\stepmix\\stepmix.py:968: ConvergenceWarning: Initializations did not converge. Try different init parameters, or increase max_iter, abs_tol, rel_tol or check for degenerate data.\n",
      "  warnings.warn(\n",
      "Bootstrap Repetitions    :  30%|███       | 6/20 [00:14<00:33,  2.40s/it, max_LL=-1.66e+4, median_LL=-1.68e+4, min_LL=-1.7e+4]c:\\Users\\gniel\\anaconda3\\Lib\\site-packages\\stepmix\\stepmix.py:968: ConvergenceWarning: Initializations did not converge. Try different init parameters, or increase max_iter, abs_tol, rel_tol or check for degenerate data.\n",
      "  warnings.warn(\n",
      "Bootstrap Repetitions    :  35%|███▌      | 7/20 [00:16<00:32,  2.49s/it, max_LL=-1.66e+4, median_LL=-1.68e+4, min_LL=-1.7e+4]c:\\Users\\gniel\\anaconda3\\Lib\\site-packages\\stepmix\\stepmix.py:968: ConvergenceWarning: Initializations did not converge. Try different init parameters, or increase max_iter, abs_tol, rel_tol or check for degenerate data.\n",
      "  warnings.warn(\n",
      "Bootstrap Repetitions    :  40%|████      | 8/20 [00:19<00:30,  2.52s/it, max_LL=-1.66e+4, median_LL=-1.68e+4, min_LL=-1.7e+4]c:\\Users\\gniel\\anaconda3\\Lib\\site-packages\\stepmix\\stepmix.py:968: ConvergenceWarning: Initializations did not converge. Try different init parameters, or increase max_iter, abs_tol, rel_tol or check for degenerate data.\n",
      "  warnings.warn(\n",
      "Bootstrap Repetitions    :  45%|████▌     | 9/20 [00:22<00:28,  2.59s/it, max_LL=-1.66e+4, median_LL=-1.68e+4, min_LL=-1.7e+4]c:\\Users\\gniel\\anaconda3\\Lib\\site-packages\\stepmix\\stepmix.py:968: ConvergenceWarning: Initializations did not converge. Try different init parameters, or increase max_iter, abs_tol, rel_tol or check for degenerate data.\n",
      "  warnings.warn(\n",
      "Bootstrap Repetitions    :  50%|█████     | 10/20 [00:24<00:26,  2.61s/it, max_LL=-1.66e+4, median_LL=-1.68e+4, min_LL=-1.7e+4]c:\\Users\\gniel\\anaconda3\\Lib\\site-packages\\stepmix\\stepmix.py:968: ConvergenceWarning: Initializations did not converge. Try different init parameters, or increase max_iter, abs_tol, rel_tol or check for degenerate data.\n",
      "  warnings.warn(\n",
      "Bootstrap Repetitions    :  55%|█████▌    | 11/20 [00:27<00:23,  2.63s/it, max_LL=-1.66e+4, median_LL=-1.68e+4, min_LL=-1.7e+4]c:\\Users\\gniel\\anaconda3\\Lib\\site-packages\\stepmix\\stepmix.py:968: ConvergenceWarning: Initializations did not converge. Try different init parameters, or increase max_iter, abs_tol, rel_tol or check for degenerate data.\n",
      "  warnings.warn(\n",
      "Bootstrap Repetitions    :  70%|███████   | 14/20 [00:34<00:14,  2.47s/it, max_LL=-1.66e+4, median_LL=-1.68e+4, min_LL=-1.7e+4]c:\\Users\\gniel\\anaconda3\\Lib\\site-packages\\stepmix\\stepmix.py:968: ConvergenceWarning: Initializations did not converge. Try different init parameters, or increase max_iter, abs_tol, rel_tol or check for degenerate data.\n",
      "  warnings.warn(\n",
      "Bootstrap Repetitions    :  75%|███████▌  | 15/20 [00:37<00:12,  2.54s/it, max_LL=-1.66e+4, median_LL=-1.68e+4, min_LL=-1.7e+4]c:\\Users\\gniel\\anaconda3\\Lib\\site-packages\\stepmix\\stepmix.py:968: ConvergenceWarning: Initializations did not converge. Try different init parameters, or increase max_iter, abs_tol, rel_tol or check for degenerate data.\n",
      "  warnings.warn(\n",
      "Bootstrap Repetitions    :  85%|████████▌ | 17/20 [00:41<00:06,  2.28s/it, max_LL=-1.66e+4, median_LL=-1.68e+4, min_LL=-1.7e+4]c:\\Users\\gniel\\anaconda3\\Lib\\site-packages\\stepmix\\stepmix.py:968: ConvergenceWarning: Initializations did not converge. Try different init parameters, or increase max_iter, abs_tol, rel_tol or check for degenerate data.\n",
      "  warnings.warn(\n",
      "Bootstrap Repetitions    :  90%|█████████ | 18/20 [00:44<00:04,  2.40s/it, max_LL=-1.66e+4, median_LL=-1.68e+4, min_LL=-1.7e+4]c:\\Users\\gniel\\anaconda3\\Lib\\site-packages\\stepmix\\stepmix.py:968: ConvergenceWarning: Initializations did not converge. Try different init parameters, or increase max_iter, abs_tol, rel_tol or check for degenerate data.\n",
      "  warnings.warn(\n",
      "Bootstrap Repetitions    :  95%|█████████▌| 19/20 [00:47<00:02,  2.46s/it, max_LL=-1.66e+4, median_LL=-1.68e+4, min_LL=-1.7e+4]c:\\Users\\gniel\\anaconda3\\Lib\\site-packages\\stepmix\\stepmix.py:968: ConvergenceWarning: Initializations did not converge. Try different init parameters, or increase max_iter, abs_tol, rel_tol or check for degenerate data.\n",
      "  warnings.warn(\n",
      "Bootstrap Repetitions    : 100%|██████████| 20/20 [00:49<00:00,  2.49s/it, max_LL=-1.66e+4, median_LL=-1.68e+4, min_LL=-1.7e+4]"
     ]
    },
    {
     "name": "stdout",
     "output_type": "stream",
     "text": [
      "\n",
      "BLRT Sweep Results\n",
      "                    p\n",
      "Test                 \n",
      "1 vs. 2 classes  0.00\n",
      "2 vs. 3 classes  0.00\n",
      "3 vs. 4 classes  0.00\n",
      "4 vs. 5 classes  0.80\n",
      "5 vs. 6 classes  0.65\n",
      "6 vs. 7 classes  0.95\n"
     ]
    },
    {
     "name": "stderr",
     "output_type": "stream",
     "text": [
      "\n"
     ]
    }
   ],
   "source": [
    "#BLRT-sweep\n",
    "# Define base model\n",
    "model = stepmix.StepMix(n_components=3, n_steps=3, correction=\"BCH\", measurement=mixed_descriptor,\n",
    "                structural='bernoulli', random_state=42, verbose=0, progress_bar=0)\n",
    "\n",
    "# Run BLRT sweep from 1 class to 4 classes\n",
    "# Expect some convergence warnings\n",
    "p_values = stepmix.bootstrap.blrt_sweep(model, mixed_data, y_females, low=1, high=7, n_repetitions=20)"
   ]
  },
  {
   "cell_type": "code",
   "execution_count": 37,
   "id": "170ce290-9b86-4c08-8646-bcd38a939218",
   "metadata": {},
   "outputs": [],
   "source": [
    "p_values \n",
    "\n",
    "#Save the p-values as csv\n",
    "p_values.to_csv(\"LRT_females_pvalues.csv\")"
   ]
  },
  {
   "cell_type": "code",
   "execution_count": 25,
   "id": "2d607205-28cb-422b-94d9-8db93f1c3475",
   "metadata": {},
   "outputs": [
    {
     "name": "stderr",
     "output_type": "stream",
     "text": [
      "c:\\Users\\gniel\\anaconda3\\Lib\\site-packages\\stepmix\\stepmix.py:968: ConvergenceWarning: Initializations did not converge. Try different init parameters, or increase max_iter, abs_tol, rel_tol or check for degenerate data.\n",
      "  warnings.warn(\n",
      "c:\\Users\\gniel\\anaconda3\\Lib\\site-packages\\stepmix\\stepmix.py:968: ConvergenceWarning: Initializations did not converge. Try different init parameters, or increase max_iter, abs_tol, rel_tol or check for degenerate data.\n",
      "  warnings.warn(\n",
      "c:\\Users\\gniel\\anaconda3\\Lib\\site-packages\\stepmix\\stepmix.py:968: ConvergenceWarning: Initializations did not converge. Try different init parameters, or increase max_iter, abs_tol, rel_tol or check for degenerate data.\n",
      "  warnings.warn(\n"
     ]
    }
   ],
   "source": [
    "#Declare number of classes to test\n",
    "num_classes = range(1,8)\n",
    "#loop over number of \n",
    "models = []\n",
    "aics = []\n",
    "bics = []\n",
    "sabics = []\n",
    "relative_entropies = []\n",
    "n_parameters = []\n",
    "loglikelihood=[]\n",
    "\n",
    "#\n",
    "for n_class in num_classes:\n",
    "    #Estimate model with n_class classes\n",
    "    model = stepmix.StepMix(n_components=n_class, \n",
    "                measurement=mixed_descriptor, \n",
    "                structural=\"bernoulli\", \n",
    "                verbose=0,\n",
    "                n_steps=3,\n",
    "                correction=\"BCH\",            \n",
    "                random_state=42, \n",
    "                progress_bar=0)\n",
    "\n",
    "    model.fit(mixed_data, y_females.drop(columns=[\"CASE\"]))\n",
    "\n",
    "    #Add model and metrics\n",
    "    models.append(model)\n",
    "    loglikelihood.append(model.score(mixed_data, y_females.drop(columns=[\"CASE\"])))\n",
    "    aics.append(model.aic(mixed_data, y_females.drop(columns=[\"CASE\"])))\n",
    "    bics.append(model.bic(mixed_data, y_females.drop(columns=[\"CASE\"])))\n",
    "    sabics.append(model.sabic(mixed_data, y_females.drop(columns=[\"CASE\"])))\n",
    "    relative_entropies.append(model.relative_entropy(mixed_data, y_females.drop(columns=[\"CASE\"])))\n",
    "    n_parameters.append(model.n_parameters)\n"
   ]
  },
  {
   "cell_type": "code",
   "execution_count": 23,
   "id": "5348dc7d-0209-4385-8264-a4a55f3de598",
   "metadata": {},
   "outputs": [
    {
     "data": {
      "text/plain": [
       "[nan,\n",
       " 0.6496830296853016,\n",
       " 0.6739706372351683,\n",
       " 0.6557258325577652,\n",
       " 0.6514068531127981,\n",
       " 0.6364642841035979,\n",
       " 0.6949866080679896]"
      ]
     },
     "execution_count": 23,
     "metadata": {},
     "output_type": "execute_result"
    }
   ],
   "source": [
    "relative_entropies"
   ]
  },
  {
   "cell_type": "code",
   "execution_count": 18,
   "id": "e039b238",
   "metadata": {},
   "outputs": [
    {
     "name": "stderr",
     "output_type": "stream",
     "text": [
      "UsageError: Line magic function `%%capture` not found.\n"
     ]
    }
   ],
   "source": [
    "#Use the magic %%capture command of jupyter notebook to save the console output to the variable cap\n",
    "%%capture cap\n",
    "\n",
    "models[2].report(mixed_data, y_females.drop(columns=[\"CASE\"]))\n",
    "\n"
   ]
  },
  {
   "cell_type": "code",
   "execution_count": 10,
   "id": "f850f974",
   "metadata": {},
   "outputs": [],
   "source": [
    "# Save the captured results in variable cap output to a text file\n",
    "with open('results_females_k3.txt', 'w') as file:\n",
    "    file.write(cap.stdout)"
   ]
  },
  {
   "cell_type": "code",
   "execution_count": 29,
   "id": "efedfae8-74af-41f7-9ce3-ffe3f4e81e8a",
   "metadata": {},
   "outputs": [],
   "source": [
    "import pickle\n",
    "#Save the models as a pickle\n",
    "with open('stepmix_models_females.pkl', 'wb') as file:\n",
    "    pickle.dump(models, file)"
   ]
  },
  {
   "cell_type": "code",
   "execution_count": 27,
   "id": "245a9622",
   "metadata": {},
   "outputs": [],
   "source": [
    "#See whether models reached convergence criterion\n",
    "converged = []\n",
    "for model_i in range(len(models)):\n",
    "    converged.append(models[model_i].converged_)\n",
    "\n"
   ]
  },
  {
   "cell_type": "code",
   "execution_count": 35,
   "id": "fefe365c",
   "metadata": {},
   "outputs": [],
   "source": [
    "#Save the fitmeasures of each \n",
    "n_classes = [1,2,3,4,5,6,7]\n",
    "fit_measures = pd.DataFrame(list(zip(n_classes, loglikelihood, n_parameters, aics, bics, sabics, relative_entropies, n_parameters, converged)), columns=[\"n_classes\", \"loglikelihood\",\"n_parameters\", \"aics\", \"bics\", \"sabics\", \"relative_entropies\", \"n_parameters\", \"convergence\"])\n",
    "fit_measures.to_csv(\"fit_measures_females.csv\")"
   ]
  },
  {
   "cell_type": "code",
   "execution_count": 30,
   "id": "90438e7e",
   "metadata": {},
   "outputs": [
    {
     "data": {
      "text/html": [
       "<div>\n",
       "<style scoped>\n",
       "    .dataframe tbody tr th:only-of-type {\n",
       "        vertical-align: middle;\n",
       "    }\n",
       "\n",
       "    .dataframe tbody tr th {\n",
       "        vertical-align: top;\n",
       "    }\n",
       "\n",
       "    .dataframe thead th {\n",
       "        text-align: right;\n",
       "    }\n",
       "</style>\n",
       "<table border=\"1\" class=\"dataframe\">\n",
       "  <thead>\n",
       "    <tr style=\"text-align: right;\">\n",
       "      <th></th>\n",
       "      <th>n_classes</th>\n",
       "      <th>aics</th>\n",
       "      <th>bics</th>\n",
       "      <th>sabics</th>\n",
       "      <th>relative_entropies</th>\n",
       "      <th>convergence</th>\n",
       "    </tr>\n",
       "  </thead>\n",
       "  <tbody>\n",
       "    <tr>\n",
       "      <th>0</th>\n",
       "      <td>1</td>\n",
       "      <td>35050.893296</td>\n",
       "      <td>35261.229782</td>\n",
       "      <td>35424.500413</td>\n",
       "      <td>NaN</td>\n",
       "      <td>True</td>\n",
       "    </tr>\n",
       "    <tr>\n",
       "      <th>1</th>\n",
       "      <td>2</td>\n",
       "      <td>34467.062266</td>\n",
       "      <td>34892.993650</td>\n",
       "      <td>35223.616678</td>\n",
       "      <td>0.649683</td>\n",
       "      <td>True</td>\n",
       "    </tr>\n",
       "    <tr>\n",
       "      <th>2</th>\n",
       "      <td>3</td>\n",
       "      <td>33931.074732</td>\n",
       "      <td>34572.601014</td>\n",
       "      <td>35070.576440</td>\n",
       "      <td>0.673971</td>\n",
       "      <td>True</td>\n",
       "    </tr>\n",
       "    <tr>\n",
       "      <th>3</th>\n",
       "      <td>4</td>\n",
       "      <td>33776.492269</td>\n",
       "      <td>34633.613449</td>\n",
       "      <td>35298.941271</td>\n",
       "      <td>0.655726</td>\n",
       "      <td>True</td>\n",
       "    </tr>\n",
       "    <tr>\n",
       "      <th>4</th>\n",
       "      <td>5</td>\n",
       "      <td>33848.311308</td>\n",
       "      <td>34921.027387</td>\n",
       "      <td>35753.707606</td>\n",
       "      <td>0.651407</td>\n",
       "      <td>False</td>\n",
       "    </tr>\n",
       "    <tr>\n",
       "      <th>5</th>\n",
       "      <td>6</td>\n",
       "      <td>33910.532516</td>\n",
       "      <td>35198.843493</td>\n",
       "      <td>36198.876109</td>\n",
       "      <td>0.636464</td>\n",
       "      <td>False</td>\n",
       "    </tr>\n",
       "    <tr>\n",
       "      <th>6</th>\n",
       "      <td>7</td>\n",
       "      <td>34030.419749</td>\n",
       "      <td>35534.325624</td>\n",
       "      <td>36701.710637</td>\n",
       "      <td>0.694987</td>\n",
       "      <td>False</td>\n",
       "    </tr>\n",
       "  </tbody>\n",
       "</table>\n",
       "</div>"
      ],
      "text/plain": [
       "   n_classes          aics          bics        sabics  relative_entropies  \\\n",
       "0          1  35050.893296  35261.229782  35424.500413                 NaN   \n",
       "1          2  34467.062266  34892.993650  35223.616678            0.649683   \n",
       "2          3  33931.074732  34572.601014  35070.576440            0.673971   \n",
       "3          4  33776.492269  34633.613449  35298.941271            0.655726   \n",
       "4          5  33848.311308  34921.027387  35753.707606            0.651407   \n",
       "5          6  33910.532516  35198.843493  36198.876109            0.636464   \n",
       "6          7  34030.419749  35534.325624  36701.710637            0.694987   \n",
       "\n",
       "   convergence  \n",
       "0         True  \n",
       "1         True  \n",
       "2         True  \n",
       "3         True  \n",
       "4        False  \n",
       "5        False  \n",
       "6        False  "
      ]
     },
     "execution_count": 30,
     "metadata": {},
     "output_type": "execute_result"
    }
   ],
   "source": [
    "fit_measures"
   ]
  },
  {
   "cell_type": "markdown",
   "id": "50a5f742-6bec-4e22-9bec-dce3f2e1e0df",
   "metadata": {},
   "source": [
    "Get infos from emission models: https://stepmix.readthedocs.io/en/latest/api.html#emission-models\n"
   ]
  },
  {
   "cell_type": "code",
   "execution_count": 36,
   "id": "d83008d3-21b1-4702-bc31-5cb2603f5e43",
   "metadata": {},
   "outputs": [],
   "source": [
    "models[2].get_parameters_df().to_csv(\"parameters_females_k3.csv\")"
   ]
  },
  {
   "cell_type": "markdown",
   "id": "87284cd8",
   "metadata": {},
   "source": [
    "Get bootstrapped parameter estimates from the winning model "
   ]
  },
  {
   "cell_type": "code",
   "execution_count": 23,
   "id": "4ab2c129",
   "metadata": {},
   "outputs": [
    {
     "data": {
      "text/plain": [
       "122"
      ]
     },
     "execution_count": 23,
     "metadata": {},
     "output_type": "execute_result"
    }
   ],
   "source": [
    "models[2].n_parameters"
   ]
  },
  {
   "cell_type": "code",
   "execution_count": 33,
   "id": "94916b75-e09e-428a-84f8-3325e2f71081",
   "metadata": {},
   "outputs": [
    {
     "name": "stdout",
     "output_type": "stream",
     "text": [
      "\n",
      "Bootstrapping estimator...\n"
     ]
    },
    {
     "name": "stderr",
     "output_type": "stream",
     "text": [
      "Bootstrap Repetitions    :   2%|▏         | 9/500 [00:03<03:54,  2.10it/s, max_LL=-1.68e+4, median_LL=-1.69e+4, min_LL=-1.71e+4]c:\\Users\\gniel\\anaconda3\\Lib\\site-packages\\stepmix\\stepmix.py:968: ConvergenceWarning: Initializations did not converge. Try different init parameters, or increase max_iter, abs_tol, rel_tol or check for degenerate data.\n",
      "  warnings.warn(\n",
      "Bootstrap Repetitions    :  22%|██▏       | 112/500 [00:59<04:57,  1.30it/s, max_LL=-1.67e+4, median_LL=-1.69e+4, min_LL=-1.72e+4]c:\\Users\\gniel\\anaconda3\\Lib\\site-packages\\stepmix\\stepmix.py:968: ConvergenceWarning: Initializations did not converge. Try different init parameters, or increase max_iter, abs_tol, rel_tol or check for degenerate data.\n",
      "  warnings.warn(\n",
      "Bootstrap Repetitions    :  28%|██▊       | 138/500 [01:15<02:31,  2.39it/s, max_LL=-1.67e+4, median_LL=-1.69e+4, min_LL=-1.72e+4]c:\\Users\\gniel\\anaconda3\\Lib\\site-packages\\stepmix\\stepmix.py:968: ConvergenceWarning: Initializations did not converge. Try different init parameters, or increase max_iter, abs_tol, rel_tol or check for degenerate data.\n",
      "  warnings.warn(\n",
      "Bootstrap Repetitions    :  45%|████▌     | 225/500 [02:08<02:54,  1.58it/s, max_LL=-1.67e+4, median_LL=-1.69e+4, min_LL=-1.72e+4]c:\\Users\\gniel\\anaconda3\\Lib\\site-packages\\stepmix\\stepmix.py:968: ConvergenceWarning: Initializations did not converge. Try different init parameters, or increase max_iter, abs_tol, rel_tol or check for degenerate data.\n",
      "  warnings.warn(\n",
      "Bootstrap Repetitions    :  45%|████▌     | 227/500 [02:10<03:48,  1.19it/s, max_LL=-1.67e+4, median_LL=-1.69e+4, min_LL=-1.72e+4]c:\\Users\\gniel\\anaconda3\\Lib\\site-packages\\stepmix\\stepmix.py:968: ConvergenceWarning: Initializations did not converge. Try different init parameters, or increase max_iter, abs_tol, rel_tol or check for degenerate data.\n",
      "  warnings.warn(\n",
      "Bootstrap Repetitions    :  49%|████▊     | 243/500 [02:21<02:56,  1.45it/s, max_LL=-1.67e+4, median_LL=-1.69e+4, min_LL=-1.72e+4]c:\\Users\\gniel\\anaconda3\\Lib\\site-packages\\stepmix\\stepmix.py:968: ConvergenceWarning: Initializations did not converge. Try different init parameters, or increase max_iter, abs_tol, rel_tol or check for degenerate data.\n",
      "  warnings.warn(\n",
      "Bootstrap Repetitions    :  51%|█████     | 253/500 [02:28<01:45,  2.33it/s, max_LL=-1.67e+4, median_LL=-1.69e+4, min_LL=-1.72e+4]c:\\Users\\gniel\\anaconda3\\Lib\\site-packages\\stepmix\\stepmix.py:968: ConvergenceWarning: Initializations did not converge. Try different init parameters, or increase max_iter, abs_tol, rel_tol or check for degenerate data.\n",
      "  warnings.warn(\n",
      "Bootstrap Repetitions    :  74%|███████▍  | 369/500 [03:36<01:56,  1.13it/s, max_LL=-1.67e+4, median_LL=-1.69e+4, min_LL=-1.73e+4]c:\\Users\\gniel\\anaconda3\\Lib\\site-packages\\stepmix\\stepmix.py:968: ConvergenceWarning: Initializations did not converge. Try different init parameters, or increase max_iter, abs_tol, rel_tol or check for degenerate data.\n",
      "  warnings.warn(\n",
      "Bootstrap Repetitions    :  93%|█████████▎| 464/500 [05:45<00:44,  1.24s/it, max_LL=-1.67e+4, median_LL=-1.69e+4, min_LL=-1.73e+4]c:\\Users\\gniel\\anaconda3\\Lib\\site-packages\\stepmix\\stepmix.py:968: ConvergenceWarning: Initializations did not converge. Try different init parameters, or increase max_iter, abs_tol, rel_tol or check for degenerate data.\n",
      "  warnings.warn(\n",
      "Bootstrap Repetitions    : 100%|██████████| 500/500 [06:41<00:00,  1.25it/s, max_LL=-1.67e+4, median_LL=-1.69e+4, min_LL=-1.73e+4]\n",
      "c:\\Users\\gniel\\anaconda3\\Lib\\site-packages\\stepmix\\stepmix.py:1209: FutureWarning: The provided callable <function mean at 0x0000027584388040> is currently using DataFrameGroupBy.mean. In a future version of pandas, the provided callable will be used directly. To keep current behavior pass the string \"mean\" instead.\n",
      "  return pd.pivot_table(\n",
      "c:\\Users\\gniel\\anaconda3\\Lib\\site-packages\\stepmix\\stepmix.py:1209: FutureWarning: The provided callable <function std at 0x0000027584388220> is currently using DataFrameGroupBy.std. In a future version of pandas, the provided callable will be used directly. To keep current behavior pass the string \"std\" instead.\n",
      "  return pd.pivot_table(\n",
      "c:\\Users\\gniel\\anaconda3\\Lib\\site-packages\\stepmix\\stepmix.py:1209: FutureWarning: The provided callable <function mean at 0x0000027584388040> is currently using DataFrameGroupBy.mean. In a future version of pandas, the provided callable will be used directly. To keep current behavior pass the string \"mean\" instead.\n",
      "  return pd.pivot_table(\n",
      "c:\\Users\\gniel\\anaconda3\\Lib\\site-packages\\stepmix\\stepmix.py:1209: FutureWarning: The provided callable <function std at 0x0000027584388220> is currently using DataFrameGroupBy.std. In a future version of pandas, the provided callable will be used directly. To keep current behavior pass the string \"std\" instead.\n",
      "  return pd.pivot_table(\n",
      "c:\\Users\\gniel\\anaconda3\\Lib\\site-packages\\stepmix\\stepmix.py:1219: FutureWarning: The provided callable <function mean at 0x0000027584388040> is currently using DataFrameGroupBy.mean. In a future version of pandas, the provided callable will be used directly. To keep current behavior pass the string \"mean\" instead.\n",
      "  return pd.pivot_table(\n",
      "c:\\Users\\gniel\\anaconda3\\Lib\\site-packages\\stepmix\\stepmix.py:1219: FutureWarning: The provided callable <function std at 0x0000027584388220> is currently using DataFrameGroupBy.std. In a future version of pandas, the provided callable will be used directly. To keep current behavior pass the string \"std\" instead.\n",
      "  return pd.pivot_table(\n"
     ]
    }
   ],
   "source": [
    "bootstrapped_stats = models[2].bootstrap_stats(mixed_data, y_females.drop(columns=[\"CASE\"]), n_repetitions=500)"
   ]
  },
  {
   "cell_type": "code",
   "execution_count": 14,
   "id": "65ab5317",
   "metadata": {},
   "outputs": [
    {
     "ename": "NameError",
     "evalue": "name 'bootstrapped_stats' is not defined",
     "output_type": "error",
     "traceback": [
      "\u001b[1;31m---------------------------------------------------------------------------\u001b[0m",
      "\u001b[1;31mNameError\u001b[0m                                 Traceback (most recent call last)",
      "Cell \u001b[1;32mIn[14], line 5\u001b[0m\n\u001b[0;32m      3\u001b[0m \u001b[38;5;66;03m#as pickle\u001b[39;00m\n\u001b[0;32m      4\u001b[0m \u001b[38;5;28;01mwith\u001b[39;00m \u001b[38;5;28mopen\u001b[39m(\u001b[38;5;124m\"\u001b[39m\u001b[38;5;124mbootstrapped_stats_k3.pkl\u001b[39m\u001b[38;5;124m\"\u001b[39m, \u001b[38;5;124m\"\u001b[39m\u001b[38;5;124mwb\u001b[39m\u001b[38;5;124m\"\u001b[39m) \u001b[38;5;28;01mas\u001b[39;00m file:\n\u001b[1;32m----> 5\u001b[0m     pickle\u001b[38;5;241m.\u001b[39mdump(bootstrapped_stats, file)\n\u001b[0;32m      7\u001b[0m \u001b[38;5;66;03m#samples as csv\u001b[39;00m\n\u001b[0;32m      8\u001b[0m bootstrapped_stats[\u001b[38;5;124m\"\u001b[39m\u001b[38;5;124msamples\u001b[39m\u001b[38;5;124m\"\u001b[39m]\u001b[38;5;241m.\u001b[39mto_csv(\u001b[38;5;124m\"\u001b[39m\u001b[38;5;124mbootstrapped_samples_k3.csv\u001b[39m\u001b[38;5;124m\"\u001b[39m)\n",
      "\u001b[1;31mNameError\u001b[0m: name 'bootstrapped_stats' is not defined"
     ]
    }
   ],
   "source": [
    "#Save the bootstrapped values as pickle and csv\n",
    "import pickle\n",
    "#as pickle\n",
    "with open(\"bootstrapped_stats_k3.pkl\", \"wb\") as file:\n",
    "    pickle.dump(bootstrapped_stats, file)\n",
    "\n",
    "#samples as csv\n",
    "bootstrapped_stats[\"samples\"].to_csv(\"bootstrapped_samples_k3.csv\")"
   ]
  },
  {
   "cell_type": "code",
   "execution_count": 33,
   "id": "25d59926",
   "metadata": {},
   "outputs": [],
   "source": [
    "#Create a class predicitons dataframe with n*n_class rows and \n",
    "prediction_list = []\n",
    "\n",
    "for model_i in range(len(models)):\n",
    "    n_classes = np.repeat(model_i+1, mixed_data.shape[0])\n",
    "    class_predictions_arr = pd.DataFrame(models[model_i].predict_proba(mixed_data))\n",
    "    class_predictions_arr[\"n_classes\"] = n_classes.tolist()\n",
    "\n",
    "    prediction_list.append(class_predictions_arr)\n",
    "\n",
    "prediction_frame = pd.concat(prediction_list, axis=0)\n",
    "prediction_frame.to_csv(\"posterior_class_probs_females.csv\")\n",
    "    \n",
    "    "
   ]
  }
 ],
 "metadata": {
  "kernelspec": {
   "display_name": "Python 3 (ipykernel)",
   "language": "python",
   "name": "python3"
  },
  "language_info": {
   "codemirror_mode": {
    "name": "ipython",
    "version": 3
   },
   "file_extension": ".py",
   "mimetype": "text/x-python",
   "name": "python",
   "nbconvert_exporter": "python",
   "pygments_lexer": "ipython3",
   "version": "3.11.5"
  }
 },
 "nbformat": 4,
 "nbformat_minor": 5
}
