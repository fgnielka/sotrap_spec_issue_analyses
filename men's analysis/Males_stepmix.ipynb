{
 "cells": [
  {
   "cell_type": "code",
   "execution_count": 5,
   "id": "fb89f161-5d22-424d-bb2d-1583162bf44a",
   "metadata": {},
   "outputs": [
    {
     "name": "stdout",
     "output_type": "stream",
     "text": [
      "Collecting PyreadstatNote: you may need to restart the kernel to use updated packages.\n",
      "\n",
      "  Downloading pyreadstat-1.2.7-cp311-cp311-win_amd64.whl.metadata (1.1 kB)\n",
      "Requirement already satisfied: pandas>=1.2.0 in c:\\users\\gniel\\anaconda3\\lib\\site-packages (from Pyreadstat) (2.1.4)\n",
      "Requirement already satisfied: numpy<2,>=1.23.2 in c:\\users\\gniel\\anaconda3\\lib\\site-packages (from pandas>=1.2.0->Pyreadstat) (1.24.3)\n",
      "Requirement already satisfied: python-dateutil>=2.8.2 in c:\\users\\gniel\\anaconda3\\lib\\site-packages (from pandas>=1.2.0->Pyreadstat) (2.8.2)\n",
      "Requirement already satisfied: pytz>=2020.1 in c:\\users\\gniel\\anaconda3\\lib\\site-packages (from pandas>=1.2.0->Pyreadstat) (2023.3.post1)\n",
      "Requirement already satisfied: tzdata>=2022.1 in c:\\users\\gniel\\anaconda3\\lib\\site-packages (from pandas>=1.2.0->Pyreadstat) (2023.3)\n",
      "Requirement already satisfied: six>=1.5 in c:\\users\\gniel\\anaconda3\\lib\\site-packages (from python-dateutil>=2.8.2->pandas>=1.2.0->Pyreadstat) (1.16.0)\n",
      "Downloading pyreadstat-1.2.7-cp311-cp311-win_amd64.whl (2.4 MB)\n",
      "   ---------------------------------------- 0.0/2.4 MB ? eta -:--:--\n",
      "   ---------------------------------------- 0.0/2.4 MB ? eta -:--:--\n",
      "   ---------------------------------------- 0.0/2.4 MB ? eta -:--:--\n",
      "    --------------------------------------- 0.0/2.4 MB 435.7 kB/s eta 0:00:06\n",
      "   - -------------------------------------- 0.1/2.4 MB 544.7 kB/s eta 0:00:05\n",
      "   - -------------------------------------- 0.1/2.4 MB 581.0 kB/s eta 0:00:04\n",
      "   -- ------------------------------------- 0.2/2.4 MB 654.6 kB/s eta 0:00:04\n",
      "   --- ------------------------------------ 0.2/2.4 MB 737.3 kB/s eta 0:00:04\n",
      "   --- ------------------------------------ 0.2/2.4 MB 724.0 kB/s eta 0:00:04\n",
      "   ---- ----------------------------------- 0.3/2.4 MB 774.0 kB/s eta 0:00:03\n",
      "   ----- ---------------------------------- 0.3/2.4 MB 756.6 kB/s eta 0:00:03\n",
      "   ----- ---------------------------------- 0.4/2.4 MB 768.6 kB/s eta 0:00:03\n",
      "   ------ --------------------------------- 0.4/2.4 MB 778.2 kB/s eta 0:00:03\n",
      "   ------- -------------------------------- 0.5/2.4 MB 805.0 kB/s eta 0:00:03\n",
      "   ------- -------------------------------- 0.5/2.4 MB 814.9 kB/s eta 0:00:03\n",
      "   -------- ------------------------------- 0.5/2.4 MB 814.7 kB/s eta 0:00:03\n",
      "   --------- ------------------------------ 0.6/2.4 MB 834.7 kB/s eta 0:00:03\n",
      "   ---------- ----------------------------- 0.6/2.4 MB 823.1 kB/s eta 0:00:03\n",
      "   ---------- ----------------------------- 0.6/2.4 MB 828.8 kB/s eta 0:00:03\n",
      "   ----------- ---------------------------- 0.7/2.4 MB 837.2 kB/s eta 0:00:03\n",
      "   ------------ --------------------------- 0.8/2.4 MB 850.5 kB/s eta 0:00:02\n",
      "   ------------- -------------------------- 0.8/2.4 MB 841.5 kB/s eta 0:00:02\n",
      "   ------------- -------------------------- 0.8/2.4 MB 845.4 kB/s eta 0:00:02\n",
      "   -------------- ------------------------- 0.8/2.4 MB 853.3 kB/s eta 0:00:02\n",
      "   -------------- ------------------------- 0.8/2.4 MB 853.3 kB/s eta 0:00:02\n",
      "   -------------- ------------------------- 0.8/2.4 MB 853.3 kB/s eta 0:00:02\n",
      "   -------------- ------------------------- 0.8/2.4 MB 853.3 kB/s eta 0:00:02\n",
      "   -------------- ------------------------- 0.8/2.4 MB 853.3 kB/s eta 0:00:02\n",
      "   -------------- ------------------------- 0.8/2.4 MB 853.3 kB/s eta 0:00:02\n",
      "   -------------- ------------------------- 0.8/2.4 MB 853.3 kB/s eta 0:00:02\n",
      "   -------------- ------------------------- 0.8/2.4 MB 853.3 kB/s eta 0:00:02\n",
      "   -------------- ------------------------- 0.8/2.4 MB 853.3 kB/s eta 0:00:02\n",
      "   -------------- ------------------------- 0.8/2.4 MB 853.3 kB/s eta 0:00:02\n",
      "   -------------- ------------------------- 0.9/2.4 MB 566.6 kB/s eta 0:00:03\n",
      "   -------------- ------------------------- 0.9/2.4 MB 566.6 kB/s eta 0:00:03\n",
      "   -------------- ------------------------- 0.9/2.4 MB 566.6 kB/s eta 0:00:03\n",
      "   -------------- ------------------------- 0.9/2.4 MB 566.6 kB/s eta 0:00:03\n",
      "   -------------- ------------------------- 0.9/2.4 MB 515.9 kB/s eta 0:00:03\n",
      "   -------------- ------------------------- 0.9/2.4 MB 507.9 kB/s eta 0:00:03\n",
      "   -------------- ------------------------- 0.9/2.4 MB 507.9 kB/s eta 0:00:03\n",
      "   --------------- ------------------------ 0.9/2.4 MB 501.5 kB/s eta 0:00:03\n",
      "   --------------- ------------------------ 0.9/2.4 MB 499.8 kB/s eta 0:00:03\n",
      "   --------------- ------------------------ 1.0/2.4 MB 491.6 kB/s eta 0:00:03\n",
      "   ---------------- ----------------------- 1.0/2.4 MB 488.9 kB/s eta 0:00:03\n",
      "   ---------------- ----------------------- 1.0/2.4 MB 488.9 kB/s eta 0:00:03\n",
      "   ---------------- ----------------------- 1.0/2.4 MB 488.9 kB/s eta 0:00:03\n",
      "   ---------------- ----------------------- 1.0/2.4 MB 469.5 kB/s eta 0:00:04\n",
      "   ---------------- ----------------------- 1.0/2.4 MB 469.5 kB/s eta 0:00:04\n",
      "   ---------------- ----------------------- 1.0/2.4 MB 469.5 kB/s eta 0:00:04\n",
      "   ---------------- ----------------------- 1.0/2.4 MB 469.5 kB/s eta 0:00:04\n",
      "   ---------------- ----------------------- 1.0/2.4 MB 436.9 kB/s eta 0:00:04\n",
      "   ---------------- ----------------------- 1.0/2.4 MB 436.9 kB/s eta 0:00:04\n",
      "   ---------------- ----------------------- 1.0/2.4 MB 436.9 kB/s eta 0:00:04\n",
      "   ---------------- ----------------------- 1.0/2.4 MB 436.9 kB/s eta 0:00:04\n",
      "   ----------------- ---------------------- 1.1/2.4 MB 426.0 kB/s eta 0:00:04\n",
      "   ------------------ --------------------- 1.1/2.4 MB 428.9 kB/s eta 0:00:04\n",
      "   ------------------ --------------------- 1.1/2.4 MB 427.7 kB/s eta 0:00:04\n",
      "   ------------------- -------------------- 1.2/2.4 MB 434.3 kB/s eta 0:00:03\n",
      "   ------------------- -------------------- 1.2/2.4 MB 438.3 kB/s eta 0:00:03\n",
      "   -------------------- ------------------- 1.2/2.4 MB 444.4 kB/s eta 0:00:03\n",
      "   -------------------- ------------------- 1.2/2.4 MB 446.8 kB/s eta 0:00:03\n",
      "   --------------------- ------------------ 1.3/2.4 MB 445.4 kB/s eta 0:00:03\n",
      "   --------------------- ------------------ 1.3/2.4 MB 450.1 kB/s eta 0:00:03\n",
      "   --------------------- ------------------ 1.3/2.4 MB 446.3 kB/s eta 0:00:03\n",
      "   --------------------- ------------------ 1.3/2.4 MB 446.3 kB/s eta 0:00:03\n",
      "   --------------------- ------------------ 1.3/2.4 MB 434.6 kB/s eta 0:00:03\n",
      "   ---------------------- ----------------- 1.4/2.4 MB 444.8 kB/s eta 0:00:03\n",
      "   ----------------------- ---------------- 1.4/2.4 MB 450.1 kB/s eta 0:00:03\n",
      "   ------------------------ --------------- 1.5/2.4 MB 457.5 kB/s eta 0:00:03\n",
      "   ------------------------ --------------- 1.5/2.4 MB 460.4 kB/s eta 0:00:03\n",
      "   ------------------------- -------------- 1.5/2.4 MB 465.5 kB/s eta 0:00:02\n",
      "   ------------------------- -------------- 1.6/2.4 MB 470.0 kB/s eta 0:00:02\n",
      "   -------------------------- ------------- 1.6/2.4 MB 472.5 kB/s eta 0:00:02\n",
      "   --------------------------- ------------ 1.6/2.4 MB 479.4 kB/s eta 0:00:02\n",
      "   --------------------------- ------------ 1.6/2.4 MB 479.4 kB/s eta 0:00:02\n",
      "   --------------------------- ------------ 1.6/2.4 MB 479.4 kB/s eta 0:00:02\n",
      "   --------------------------- ------------ 1.6/2.4 MB 479.4 kB/s eta 0:00:02\n",
      "   --------------------------- ------------ 1.6/2.4 MB 479.4 kB/s eta 0:00:02\n",
      "   --------------------------- ------------ 1.6/2.4 MB 479.4 kB/s eta 0:00:02\n",
      "   --------------------------- ------------ 1.6/2.4 MB 479.4 kB/s eta 0:00:02\n",
      "   --------------------------- ------------ 1.6/2.4 MB 479.4 kB/s eta 0:00:02\n",
      "   --------------------------- ------------ 1.6/2.4 MB 479.4 kB/s eta 0:00:02\n",
      "   --------------------------- ------------ 1.6/2.4 MB 479.4 kB/s eta 0:00:02\n",
      "   --------------------------- ------------ 1.6/2.4 MB 424.6 kB/s eta 0:00:02\n",
      "   --------------------------- ------------ 1.6/2.4 MB 424.6 kB/s eta 0:00:02\n",
      "   --------------------------- ------------ 1.6/2.4 MB 424.6 kB/s eta 0:00:02\n",
      "   --------------------------- ------------ 1.6/2.4 MB 424.6 kB/s eta 0:00:02\n",
      "   --------------------------- ------------ 1.6/2.4 MB 424.6 kB/s eta 0:00:02\n",
      "   --------------------------- ------------ 1.7/2.4 MB 402.7 kB/s eta 0:00:02\n",
      "   --------------------------- ------------ 1.7/2.4 MB 402.7 kB/s eta 0:00:02\n",
      "   --------------------------- ------------ 1.7/2.4 MB 395.6 kB/s eta 0:00:02\n",
      "   --------------------------- ------------ 1.7/2.4 MB 395.6 kB/s eta 0:00:02\n",
      "   --------------------------- ------------ 1.7/2.4 MB 395.6 kB/s eta 0:00:02\n",
      "   --------------------------- ------------ 1.7/2.4 MB 395.6 kB/s eta 0:00:02\n",
      "   ---------------------------- ----------- 1.7/2.4 MB 383.5 kB/s eta 0:00:02\n",
      "   ---------------------------- ----------- 1.7/2.4 MB 381.7 kB/s eta 0:00:02\n",
      "   ---------------------------- ----------- 1.7/2.4 MB 381.7 kB/s eta 0:00:02\n",
      "   ---------------------------- ----------- 1.7/2.4 MB 381.7 kB/s eta 0:00:02\n",
      "   ---------------------------- ----------- 1.7/2.4 MB 377.1 kB/s eta 0:00:02\n",
      "   ---------------------------- ----------- 1.7/2.4 MB 377.1 kB/s eta 0:00:02\n",
      "   ---------------------------- ----------- 1.7/2.4 MB 377.1 kB/s eta 0:00:02\n",
      "   ---------------------------- ----------- 1.7/2.4 MB 377.1 kB/s eta 0:00:02\n",
      "   ----------------------------- ---------- 1.8/2.4 MB 370.5 kB/s eta 0:00:02\n",
      "   ----------------------------- ---------- 1.8/2.4 MB 370.5 kB/s eta 0:00:02\n",
      "   ----------------------------- ---------- 1.8/2.4 MB 367.8 kB/s eta 0:00:02\n",
      "   ------------------------------ --------- 1.8/2.4 MB 367.1 kB/s eta 0:00:02\n",
      "   ------------------------------ --------- 1.8/2.4 MB 368.9 kB/s eta 0:00:02\n",
      "   ------------------------------ --------- 1.8/2.4 MB 368.9 kB/s eta 0:00:02\n",
      "   ------------------------------ --------- 1.9/2.4 MB 367.2 kB/s eta 0:00:02\n",
      "   ------------------------------- -------- 1.9/2.4 MB 365.9 kB/s eta 0:00:02\n",
      "   ------------------------------- -------- 1.9/2.4 MB 366.5 kB/s eta 0:00:02\n",
      "   ------------------------------- -------- 1.9/2.4 MB 364.1 kB/s eta 0:00:02\n",
      "   -------------------------------- ------- 1.9/2.4 MB 367.5 kB/s eta 0:00:02\n",
      "   -------------------------------- ------- 2.0/2.4 MB 365.2 kB/s eta 0:00:02\n",
      "   -------------------------------- ------- 2.0/2.4 MB 367.7 kB/s eta 0:00:02\n",
      "   -------------------------------- ------- 2.0/2.4 MB 367.7 kB/s eta 0:00:02\n",
      "   --------------------------------- ------ 2.0/2.4 MB 369.9 kB/s eta 0:00:02\n",
      "   --------------------------------- ------ 2.0/2.4 MB 368.6 kB/s eta 0:00:02\n",
      "   ---------------------------------- ----- 2.1/2.4 MB 369.2 kB/s eta 0:00:01\n",
      "   ---------------------------------- ----- 2.1/2.4 MB 369.0 kB/s eta 0:00:01\n",
      "   ---------------------------------- ----- 2.1/2.4 MB 370.6 kB/s eta 0:00:01\n",
      "   ----------------------------------- ---- 2.1/2.4 MB 370.9 kB/s eta 0:00:01\n",
      "   ----------------------------------- ---- 2.1/2.4 MB 371.5 kB/s eta 0:00:01\n",
      "   ------------------------------------ --- 2.2/2.4 MB 373.7 kB/s eta 0:00:01\n",
      "   ------------------------------------ --- 2.2/2.4 MB 375.0 kB/s eta 0:00:01\n",
      "   ------------------------------------ --- 2.2/2.4 MB 376.5 kB/s eta 0:00:01\n",
      "   ------------------------------------- -- 2.3/2.4 MB 378.7 kB/s eta 0:00:01\n",
      "   ------------------------------------- -- 2.3/2.4 MB 379.9 kB/s eta 0:00:01\n",
      "   -------------------------------------- - 2.3/2.4 MB 381.3 kB/s eta 0:00:01\n",
      "   ---------------------------------------  2.4/2.4 MB 385.8 kB/s eta 0:00:01\n",
      "   ---------------------------------------  2.4/2.4 MB 387.9 kB/s eta 0:00:01\n",
      "   ---------------------------------------  2.4/2.4 MB 388.2 kB/s eta 0:00:01\n",
      "   ---------------------------------------- 2.4/2.4 MB 388.0 kB/s eta 0:00:00\n",
      "Installing collected packages: Pyreadstat\n",
      "Successfully installed Pyreadstat-1.2.7\n"
     ]
    }
   ],
   "source": [
    "%pip install Pyreadstat"
   ]
  },
  {
   "cell_type": "markdown",
   "id": "7c1f879d-2f81-4c3b-8827-e66fc1a042d3",
   "metadata": {},
   "source": [
    "Load required libraries for analysis:"
   ]
  },
  {
   "cell_type": "code",
   "execution_count": 1,
   "id": "c214ab8b-ef16-4ce7-bb05-791d32827ae6",
   "metadata": {},
   "outputs": [],
   "source": [
    "#libraries\n",
    "import pandas as pd\n",
    "import numpy as np\n",
    "import seaborn as sns\n",
    "import stepmix\n",
    "\n",
    "from sklearn.model_selection import GridSearchCV, ParameterGrid\n"
   ]
  },
  {
   "cell_type": "code",
   "execution_count": null,
   "id": "f525ae4e-a9d4-4ee4-8385-3161b597ea2d",
   "metadata": {},
   "outputs": [],
   "source": []
  },
  {
   "cell_type": "markdown",
   "id": "5319516e-ec87-4f35-96aa-30bc3e149e23",
   "metadata": {},
   "source": [
    "Load and transform required data:"
   ]
  },
  {
   "cell_type": "code",
   "execution_count": 3,
   "id": "a553b262-4682-4c29-b314-a68497a20960",
   "metadata": {},
   "outputs": [],
   "source": [
    "#load the prepared dataframe from csv. \n",
    "#In this data set all variables have been transformed into quantiles except for 'attr' which has been dichotomised.\n",
    "data_males = pd.read_csv(\"./data_males.csv\")\n",
    "\n",
    "#We also load the outcomes data.frame\n",
    "y_males = pd.read_csv(\"./y_males.csv\")"
   ]
  },
  {
   "cell_type": "code",
   "execution_count": 4,
   "id": "da9c1671-b9fe-4a52-a72f-3a8ae78998ae",
   "metadata": {},
   "outputs": [],
   "source": [
    "mixed_data, mixed_descriptor = stepmix.utils.get_mixed_descriptor(dataframe=data_males.drop(columns=[\"CASE\"]), \n",
    "                                                    binary=[\"attr\"], \n",
    "                                                    categorical=[\"sexdrive2\", \"CSBD\", \"PPCS_6\", \"meffort\", \"socialanx\", \"lon\", \"mvalue\"])"
   ]
  },
  {
   "cell_type": "code",
   "execution_count": 91,
   "id": "8fe5f44d-92b6-4617-8b96-86152756d270",
   "metadata": {},
   "outputs": [
    {
     "data": {
      "text/html": [
       "<div>\n",
       "<style scoped>\n",
       "    .dataframe tbody tr th:only-of-type {\n",
       "        vertical-align: middle;\n",
       "    }\n",
       "\n",
       "    .dataframe tbody tr th {\n",
       "        vertical-align: top;\n",
       "    }\n",
       "\n",
       "    .dataframe thead th {\n",
       "        text-align: right;\n",
       "    }\n",
       "</style>\n",
       "<table border=\"1\" class=\"dataframe\">\n",
       "  <thead>\n",
       "    <tr style=\"text-align: right;\">\n",
       "      <th></th>\n",
       "      <th>attr</th>\n",
       "      <th>sexdrive2</th>\n",
       "      <th>CSBD</th>\n",
       "      <th>PPCS_6</th>\n",
       "      <th>meffort</th>\n",
       "      <th>socialanx</th>\n",
       "      <th>lon</th>\n",
       "      <th>mvalue</th>\n",
       "    </tr>\n",
       "  </thead>\n",
       "  <tbody>\n",
       "    <tr>\n",
       "      <th>0</th>\n",
       "      <td>0</td>\n",
       "      <td>4</td>\n",
       "      <td>3</td>\n",
       "      <td>4</td>\n",
       "      <td>4</td>\n",
       "      <td>2</td>\n",
       "      <td>1</td>\n",
       "      <td>4</td>\n",
       "    </tr>\n",
       "    <tr>\n",
       "      <th>1</th>\n",
       "      <td>0</td>\n",
       "      <td>1</td>\n",
       "      <td>1</td>\n",
       "      <td>2</td>\n",
       "      <td>1</td>\n",
       "      <td>2</td>\n",
       "      <td>1</td>\n",
       "      <td>4</td>\n",
       "    </tr>\n",
       "    <tr>\n",
       "      <th>2</th>\n",
       "      <td>0</td>\n",
       "      <td>4</td>\n",
       "      <td>4</td>\n",
       "      <td>1</td>\n",
       "      <td>4</td>\n",
       "      <td>1</td>\n",
       "      <td>1</td>\n",
       "      <td>3</td>\n",
       "    </tr>\n",
       "    <tr>\n",
       "      <th>3</th>\n",
       "      <td>0</td>\n",
       "      <td>1</td>\n",
       "      <td>3</td>\n",
       "      <td>3</td>\n",
       "      <td>4</td>\n",
       "      <td>2</td>\n",
       "      <td>2</td>\n",
       "      <td>3</td>\n",
       "    </tr>\n",
       "    <tr>\n",
       "      <th>4</th>\n",
       "      <td>1</td>\n",
       "      <td>2</td>\n",
       "      <td>3</td>\n",
       "      <td>4</td>\n",
       "      <td>2</td>\n",
       "      <td>2</td>\n",
       "      <td>3</td>\n",
       "      <td>4</td>\n",
       "    </tr>\n",
       "    <tr>\n",
       "      <th>...</th>\n",
       "      <td>...</td>\n",
       "      <td>...</td>\n",
       "      <td>...</td>\n",
       "      <td>...</td>\n",
       "      <td>...</td>\n",
       "      <td>...</td>\n",
       "      <td>...</td>\n",
       "      <td>...</td>\n",
       "    </tr>\n",
       "    <tr>\n",
       "      <th>1258</th>\n",
       "      <td>0</td>\n",
       "      <td>1</td>\n",
       "      <td>4</td>\n",
       "      <td>3</td>\n",
       "      <td>4</td>\n",
       "      <td>1</td>\n",
       "      <td>3</td>\n",
       "      <td>4</td>\n",
       "    </tr>\n",
       "    <tr>\n",
       "      <th>1259</th>\n",
       "      <td>0</td>\n",
       "      <td>4</td>\n",
       "      <td>2</td>\n",
       "      <td>1</td>\n",
       "      <td>3</td>\n",
       "      <td>1</td>\n",
       "      <td>1</td>\n",
       "      <td>4</td>\n",
       "    </tr>\n",
       "    <tr>\n",
       "      <th>1260</th>\n",
       "      <td>0</td>\n",
       "      <td>2</td>\n",
       "      <td>3</td>\n",
       "      <td>1</td>\n",
       "      <td>2</td>\n",
       "      <td>3</td>\n",
       "      <td>3</td>\n",
       "      <td>1</td>\n",
       "    </tr>\n",
       "    <tr>\n",
       "      <th>1261</th>\n",
       "      <td>0</td>\n",
       "      <td>2</td>\n",
       "      <td>2</td>\n",
       "      <td>1</td>\n",
       "      <td>4</td>\n",
       "      <td>1</td>\n",
       "      <td>3</td>\n",
       "      <td>3</td>\n",
       "    </tr>\n",
       "    <tr>\n",
       "      <th>1262</th>\n",
       "      <td>0</td>\n",
       "      <td>4</td>\n",
       "      <td>2</td>\n",
       "      <td>2</td>\n",
       "      <td>2</td>\n",
       "      <td>3</td>\n",
       "      <td>4</td>\n",
       "      <td>3</td>\n",
       "    </tr>\n",
       "  </tbody>\n",
       "</table>\n",
       "<p>1263 rows × 8 columns</p>\n",
       "</div>"
      ],
      "text/plain": [
       "      attr  sexdrive2  CSBD  PPCS_6  meffort  socialanx  lon  mvalue\n",
       "0        0          4     3       4        4          2    1       4\n",
       "1        0          1     1       2        1          2    1       4\n",
       "2        0          4     4       1        4          1    1       3\n",
       "3        0          1     3       3        4          2    2       3\n",
       "4        1          2     3       4        2          2    3       4\n",
       "...    ...        ...   ...     ...      ...        ...  ...     ...\n",
       "1258     0          1     4       3        4          1    3       4\n",
       "1259     0          4     2       1        3          1    1       4\n",
       "1260     0          2     3       1        2          3    3       1\n",
       "1261     0          2     2       1        4          1    3       3\n",
       "1262     0          4     2       2        2          3    4       3\n",
       "\n",
       "[1263 rows x 8 columns]"
      ]
     },
     "execution_count": 91,
     "metadata": {},
     "output_type": "execute_result"
    }
   ],
   "source": [
    "mixed_data"
   ]
  },
  {
   "cell_type": "code",
   "execution_count": 5,
   "id": "ad82c8e4-c6a2-441c-8c39-497804141954",
   "metadata": {},
   "outputs": [
    {
     "data": {
      "text/html": [
       "<style>#sk-container-id-1 {color: black;background-color: white;}#sk-container-id-1 pre{padding: 0;}#sk-container-id-1 div.sk-toggleable {background-color: white;}#sk-container-id-1 label.sk-toggleable__label {cursor: pointer;display: block;width: 100%;margin-bottom: 0;padding: 0.3em;box-sizing: border-box;text-align: center;}#sk-container-id-1 label.sk-toggleable__label-arrow:before {content: \"▸\";float: left;margin-right: 0.25em;color: #696969;}#sk-container-id-1 label.sk-toggleable__label-arrow:hover:before {color: black;}#sk-container-id-1 div.sk-estimator:hover label.sk-toggleable__label-arrow:before {color: black;}#sk-container-id-1 div.sk-toggleable__content {max-height: 0;max-width: 0;overflow: hidden;text-align: left;background-color: #f0f8ff;}#sk-container-id-1 div.sk-toggleable__content pre {margin: 0.2em;color: black;border-radius: 0.25em;background-color: #f0f8ff;}#sk-container-id-1 input.sk-toggleable__control:checked~div.sk-toggleable__content {max-height: 200px;max-width: 100%;overflow: auto;}#sk-container-id-1 input.sk-toggleable__control:checked~label.sk-toggleable__label-arrow:before {content: \"▾\";}#sk-container-id-1 div.sk-estimator input.sk-toggleable__control:checked~label.sk-toggleable__label {background-color: #d4ebff;}#sk-container-id-1 div.sk-label input.sk-toggleable__control:checked~label.sk-toggleable__label {background-color: #d4ebff;}#sk-container-id-1 input.sk-hidden--visually {border: 0;clip: rect(1px 1px 1px 1px);clip: rect(1px, 1px, 1px, 1px);height: 1px;margin: -1px;overflow: hidden;padding: 0;position: absolute;width: 1px;}#sk-container-id-1 div.sk-estimator {font-family: monospace;background-color: #f0f8ff;border: 1px dotted black;border-radius: 0.25em;box-sizing: border-box;margin-bottom: 0.5em;}#sk-container-id-1 div.sk-estimator:hover {background-color: #d4ebff;}#sk-container-id-1 div.sk-parallel-item::after {content: \"\";width: 100%;border-bottom: 1px solid gray;flex-grow: 1;}#sk-container-id-1 div.sk-label:hover label.sk-toggleable__label {background-color: #d4ebff;}#sk-container-id-1 div.sk-serial::before {content: \"\";position: absolute;border-left: 1px solid gray;box-sizing: border-box;top: 0;bottom: 0;left: 50%;z-index: 0;}#sk-container-id-1 div.sk-serial {display: flex;flex-direction: column;align-items: center;background-color: white;padding-right: 0.2em;padding-left: 0.2em;position: relative;}#sk-container-id-1 div.sk-item {position: relative;z-index: 1;}#sk-container-id-1 div.sk-parallel {display: flex;align-items: stretch;justify-content: center;background-color: white;position: relative;}#sk-container-id-1 div.sk-item::before, #sk-container-id-1 div.sk-parallel-item::before {content: \"\";position: absolute;border-left: 1px solid gray;box-sizing: border-box;top: 0;bottom: 0;left: 50%;z-index: -1;}#sk-container-id-1 div.sk-parallel-item {display: flex;flex-direction: column;z-index: 1;position: relative;background-color: white;}#sk-container-id-1 div.sk-parallel-item:first-child::after {align-self: flex-end;width: 50%;}#sk-container-id-1 div.sk-parallel-item:last-child::after {align-self: flex-start;width: 50%;}#sk-container-id-1 div.sk-parallel-item:only-child::after {width: 0;}#sk-container-id-1 div.sk-dashed-wrapped {border: 1px dashed gray;margin: 0 0.4em 0.5em 0.4em;box-sizing: border-box;padding-bottom: 0.4em;background-color: white;}#sk-container-id-1 div.sk-label label {font-family: monospace;font-weight: bold;display: inline-block;line-height: 1.2em;}#sk-container-id-1 div.sk-label-container {text-align: center;}#sk-container-id-1 div.sk-container {/* jupyter's `normalize.less` sets `[hidden] { display: none; }` but bootstrap.min.css set `[hidden] { display: none !important; }` so we also need the `!important` here to be able to override the default hidden behavior on the sphinx rendered scikit-learn.org. See: https://github.com/scikit-learn/scikit-learn/issues/21755 */display: inline-block !important;position: relative;}#sk-container-id-1 div.sk-text-repr-fallback {display: none;}</style><div id=\"sk-container-id-1\" class=\"sk-top-container\"><div class=\"sk-text-repr-fallback\"><pre>StepMix(measurement={&#x27;binary&#x27;: {&#x27;model&#x27;: &#x27;binary&#x27;, &#x27;n_columns&#x27;: 1},\n",
       "                     &#x27;categorical&#x27;: {&#x27;model&#x27;: &#x27;categorical&#x27;, &#x27;n_columns&#x27;: 7}},\n",
       "        n_components=3, n_steps=2, progress_bar=0, random_state=42,\n",
       "        structural=&#x27;bernoulli&#x27;)</pre><b>In a Jupyter environment, please rerun this cell to show the HTML representation or trust the notebook. <br />On GitHub, the HTML representation is unable to render, please try loading this page with nbviewer.org.</b></div><div class=\"sk-container\" hidden><div class=\"sk-item\"><div class=\"sk-estimator sk-toggleable\"><input class=\"sk-toggleable__control sk-hidden--visually\" id=\"sk-estimator-id-1\" type=\"checkbox\" checked><label for=\"sk-estimator-id-1\" class=\"sk-toggleable__label sk-toggleable__label-arrow\">StepMix</label><div class=\"sk-toggleable__content\"><pre>StepMix(measurement={&#x27;binary&#x27;: {&#x27;model&#x27;: &#x27;binary&#x27;, &#x27;n_columns&#x27;: 1},\n",
       "                     &#x27;categorical&#x27;: {&#x27;model&#x27;: &#x27;categorical&#x27;, &#x27;n_columns&#x27;: 7}},\n",
       "        n_components=3, n_steps=2, progress_bar=0, random_state=42,\n",
       "        structural=&#x27;bernoulli&#x27;)</pre></div></div></div></div></div>"
      ],
      "text/plain": [
       "StepMix(measurement={'binary': {'model': 'binary', 'n_columns': 1},\n",
       "                     'categorical': {'model': 'categorical', 'n_columns': 7}},\n",
       "        n_components=3, n_steps=2, progress_bar=0, random_state=42,\n",
       "        structural='bernoulli')"
      ]
     },
     "execution_count": 5,
     "metadata": {},
     "output_type": "execute_result"
    }
   ],
   "source": [
    "#Try out a model with 3 classes\n",
    "model = stepmix.StepMix(n_components=3, \n",
    "                measurement=mixed_descriptor, \n",
    "                structural=\"bernoulli\", \n",
    "                verbose=0,\n",
    "                n_steps=2,\n",
    "                random_state=42,\n",
    "                progress_bar=0)\n",
    "\n",
    "#Fit the model\n",
    "model.fit(mixed_data, y_males.drop(columns=[\"CASE\"]))"
   ]
  },
  {
   "cell_type": "code",
   "execution_count": 33,
   "id": "42724857-7a49-476f-88cf-bd84ec4d514c",
   "metadata": {},
   "outputs": [
    {
     "name": "stderr",
     "output_type": "stream",
     "text": [
      "C:\\Users\\gniel\\anaconda3\\Lib\\site-packages\\stepmix\\stepmix.py:968: ConvergenceWarning: Initializations did not converge. Try different init parameters, or increase max_iter, abs_tol, rel_tol or check for degenerate data.\n",
      "  warnings.warn(\n"
     ]
    },
    {
     "data": {
      "text/html": [
       "<style>#sk-container-id-5 {color: black;background-color: white;}#sk-container-id-5 pre{padding: 0;}#sk-container-id-5 div.sk-toggleable {background-color: white;}#sk-container-id-5 label.sk-toggleable__label {cursor: pointer;display: block;width: 100%;margin-bottom: 0;padding: 0.3em;box-sizing: border-box;text-align: center;}#sk-container-id-5 label.sk-toggleable__label-arrow:before {content: \"▸\";float: left;margin-right: 0.25em;color: #696969;}#sk-container-id-5 label.sk-toggleable__label-arrow:hover:before {color: black;}#sk-container-id-5 div.sk-estimator:hover label.sk-toggleable__label-arrow:before {color: black;}#sk-container-id-5 div.sk-toggleable__content {max-height: 0;max-width: 0;overflow: hidden;text-align: left;background-color: #f0f8ff;}#sk-container-id-5 div.sk-toggleable__content pre {margin: 0.2em;color: black;border-radius: 0.25em;background-color: #f0f8ff;}#sk-container-id-5 input.sk-toggleable__control:checked~div.sk-toggleable__content {max-height: 200px;max-width: 100%;overflow: auto;}#sk-container-id-5 input.sk-toggleable__control:checked~label.sk-toggleable__label-arrow:before {content: \"▾\";}#sk-container-id-5 div.sk-estimator input.sk-toggleable__control:checked~label.sk-toggleable__label {background-color: #d4ebff;}#sk-container-id-5 div.sk-label input.sk-toggleable__control:checked~label.sk-toggleable__label {background-color: #d4ebff;}#sk-container-id-5 input.sk-hidden--visually {border: 0;clip: rect(1px 1px 1px 1px);clip: rect(1px, 1px, 1px, 1px);height: 1px;margin: -1px;overflow: hidden;padding: 0;position: absolute;width: 1px;}#sk-container-id-5 div.sk-estimator {font-family: monospace;background-color: #f0f8ff;border: 1px dotted black;border-radius: 0.25em;box-sizing: border-box;margin-bottom: 0.5em;}#sk-container-id-5 div.sk-estimator:hover {background-color: #d4ebff;}#sk-container-id-5 div.sk-parallel-item::after {content: \"\";width: 100%;border-bottom: 1px solid gray;flex-grow: 1;}#sk-container-id-5 div.sk-label:hover label.sk-toggleable__label {background-color: #d4ebff;}#sk-container-id-5 div.sk-serial::before {content: \"\";position: absolute;border-left: 1px solid gray;box-sizing: border-box;top: 0;bottom: 0;left: 50%;z-index: 0;}#sk-container-id-5 div.sk-serial {display: flex;flex-direction: column;align-items: center;background-color: white;padding-right: 0.2em;padding-left: 0.2em;position: relative;}#sk-container-id-5 div.sk-item {position: relative;z-index: 1;}#sk-container-id-5 div.sk-parallel {display: flex;align-items: stretch;justify-content: center;background-color: white;position: relative;}#sk-container-id-5 div.sk-item::before, #sk-container-id-5 div.sk-parallel-item::before {content: \"\";position: absolute;border-left: 1px solid gray;box-sizing: border-box;top: 0;bottom: 0;left: 50%;z-index: -1;}#sk-container-id-5 div.sk-parallel-item {display: flex;flex-direction: column;z-index: 1;position: relative;background-color: white;}#sk-container-id-5 div.sk-parallel-item:first-child::after {align-self: flex-end;width: 50%;}#sk-container-id-5 div.sk-parallel-item:last-child::after {align-self: flex-start;width: 50%;}#sk-container-id-5 div.sk-parallel-item:only-child::after {width: 0;}#sk-container-id-5 div.sk-dashed-wrapped {border: 1px dashed gray;margin: 0 0.4em 0.5em 0.4em;box-sizing: border-box;padding-bottom: 0.4em;background-color: white;}#sk-container-id-5 div.sk-label label {font-family: monospace;font-weight: bold;display: inline-block;line-height: 1.2em;}#sk-container-id-5 div.sk-label-container {text-align: center;}#sk-container-id-5 div.sk-container {/* jupyter's `normalize.less` sets `[hidden] { display: none; }` but bootstrap.min.css set `[hidden] { display: none !important; }` so we also need the `!important` here to be able to override the default hidden behavior on the sphinx rendered scikit-learn.org. See: https://github.com/scikit-learn/scikit-learn/issues/21755 */display: inline-block !important;position: relative;}#sk-container-id-5 div.sk-text-repr-fallback {display: none;}</style><div id=\"sk-container-id-5\" class=\"sk-top-container\"><div class=\"sk-text-repr-fallback\"><pre>GridSearchCV(cv=3,\n",
       "             estimator=StepMix(correction=&#x27;BCH&#x27;,\n",
       "                               measurement={&#x27;binary&#x27;: {&#x27;model&#x27;: &#x27;binary&#x27;,\n",
       "                                                       &#x27;n_columns&#x27;: 1},\n",
       "                                            &#x27;categorical&#x27;: {&#x27;model&#x27;: &#x27;categorical&#x27;,\n",
       "                                                            &#x27;n_columns&#x27;: 7}},\n",
       "                               n_components=3, n_steps=3, progress_bar=0,\n",
       "                               random_state=42, structural=&#x27;bernoulli&#x27;),\n",
       "             param_grid={&#x27;n_components&#x27;: [1, 2, 3, 4, 5, 6, 7]})</pre><b>In a Jupyter environment, please rerun this cell to show the HTML representation or trust the notebook. <br />On GitHub, the HTML representation is unable to render, please try loading this page with nbviewer.org.</b></div><div class=\"sk-container\" hidden><div class=\"sk-item sk-dashed-wrapped\"><div class=\"sk-label-container\"><div class=\"sk-label sk-toggleable\"><input class=\"sk-toggleable__control sk-hidden--visually\" id=\"sk-estimator-id-9\" type=\"checkbox\" ><label for=\"sk-estimator-id-9\" class=\"sk-toggleable__label sk-toggleable__label-arrow\">GridSearchCV</label><div class=\"sk-toggleable__content\"><pre>GridSearchCV(cv=3,\n",
       "             estimator=StepMix(correction=&#x27;BCH&#x27;,\n",
       "                               measurement={&#x27;binary&#x27;: {&#x27;model&#x27;: &#x27;binary&#x27;,\n",
       "                                                       &#x27;n_columns&#x27;: 1},\n",
       "                                            &#x27;categorical&#x27;: {&#x27;model&#x27;: &#x27;categorical&#x27;,\n",
       "                                                            &#x27;n_columns&#x27;: 7}},\n",
       "                               n_components=3, n_steps=3, progress_bar=0,\n",
       "                               random_state=42, structural=&#x27;bernoulli&#x27;),\n",
       "             param_grid={&#x27;n_components&#x27;: [1, 2, 3, 4, 5, 6, 7]})</pre></div></div></div><div class=\"sk-parallel\"><div class=\"sk-parallel-item\"><div class=\"sk-item\"><div class=\"sk-label-container\"><div class=\"sk-label sk-toggleable\"><input class=\"sk-toggleable__control sk-hidden--visually\" id=\"sk-estimator-id-10\" type=\"checkbox\" ><label for=\"sk-estimator-id-10\" class=\"sk-toggleable__label sk-toggleable__label-arrow\">estimator: StepMix</label><div class=\"sk-toggleable__content\"><pre>StepMix(correction=&#x27;BCH&#x27;,\n",
       "        measurement={&#x27;binary&#x27;: {&#x27;model&#x27;: &#x27;binary&#x27;, &#x27;n_columns&#x27;: 1},\n",
       "                     &#x27;categorical&#x27;: {&#x27;model&#x27;: &#x27;categorical&#x27;, &#x27;n_columns&#x27;: 7}},\n",
       "        n_components=3, n_steps=3, progress_bar=0, random_state=42,\n",
       "        structural=&#x27;bernoulli&#x27;)</pre></div></div></div><div class=\"sk-serial\"><div class=\"sk-item\"><div class=\"sk-estimator sk-toggleable\"><input class=\"sk-toggleable__control sk-hidden--visually\" id=\"sk-estimator-id-11\" type=\"checkbox\" ><label for=\"sk-estimator-id-11\" class=\"sk-toggleable__label sk-toggleable__label-arrow\">StepMix</label><div class=\"sk-toggleable__content\"><pre>StepMix(correction=&#x27;BCH&#x27;,\n",
       "        measurement={&#x27;binary&#x27;: {&#x27;model&#x27;: &#x27;binary&#x27;, &#x27;n_columns&#x27;: 1},\n",
       "                     &#x27;categorical&#x27;: {&#x27;model&#x27;: &#x27;categorical&#x27;, &#x27;n_columns&#x27;: 7}},\n",
       "        n_components=3, n_steps=3, progress_bar=0, random_state=42,\n",
       "        structural=&#x27;bernoulli&#x27;)</pre></div></div></div></div></div></div></div></div></div></div>"
      ],
      "text/plain": [
       "GridSearchCV(cv=3,\n",
       "             estimator=StepMix(correction='BCH',\n",
       "                               measurement={'binary': {'model': 'binary',\n",
       "                                                       'n_columns': 1},\n",
       "                                            'categorical': {'model': 'categorical',\n",
       "                                                            'n_columns': 7}},\n",
       "                               n_components=3, n_steps=3, progress_bar=0,\n",
       "                               random_state=42, structural='bernoulli'),\n",
       "             param_grid={'n_components': [1, 2, 3, 4, 5, 6, 7]})"
      ]
     },
     "execution_count": 33,
     "metadata": {},
     "output_type": "execute_result"
    }
   ],
   "source": [
    "# Define base model\n",
    "model = stepmix.StepMix(n_components=3, n_steps=3, correction=\"BCH\", measurement=mixed_descriptor,\n",
    "                structural='bernoulli', random_state=42, verbose=0, progress_bar=0)\n",
    "\n",
    "# Scikit-Learn grid search object. We test n_components from 1 to 8.\n",
    "# We also add 1-step, 2-step and 3-step to the grid.\n",
    "# We use 3 validation folds.\n",
    "# We therefore fit a total of  8x3x3=72 estimators.\n",
    "grid = {\n",
    "    'n_components': [1, 2, 3, 4, 5, 6, 7]\n",
    "}\n",
    "gs = GridSearchCV(estimator=model, cv=3, param_grid=grid)\n",
    "gs.fit(mixed_data, y_males)"
   ]
  },
  {
   "cell_type": "code",
   "execution_count": 34,
   "id": "7918609b-a9a9-4394-8095-f0e82c7d7fb4",
   "metadata": {},
   "outputs": [],
   "source": [
    "#Extract results from gridsearch with 3-fold cross-validation\n",
    "results = pd.DataFrame(gs.cv_results_)\n",
    "results[\"Val. Log Likelihood\"] = results[\"mean_test_score\"]"
   ]
  },
  {
   "cell_type": "code",
   "execution_count": 35,
   "id": "31a97bb4-cd70-41b9-9ea0-803a1c5f1453",
   "metadata": {},
   "outputs": [
    {
     "name": "stderr",
     "output_type": "stream",
     "text": [
      "C:\\Users\\gniel\\AppData\\Local\\Temp\\ipykernel_23336\\475898878.py:3: UserWarning: Ignoring `palette` because no `hue` variable has been assigned.\n",
      "  sns.lineplot(data=results, x='param_n_components', y='Val. Log Likelihood', palette='Dark2')\n",
      "C:\\Users\\gniel\\anaconda3\\Lib\\site-packages\\seaborn\\_oldcore.py:1119: FutureWarning: use_inf_as_na option is deprecated and will be removed in a future version. Convert inf values to NaN before operating instead.\n",
      "  with pd.option_context('mode.use_inf_as_na', True):\n",
      "C:\\Users\\gniel\\anaconda3\\Lib\\site-packages\\seaborn\\_oldcore.py:1119: FutureWarning: use_inf_as_na option is deprecated and will be removed in a future version. Convert inf values to NaN before operating instead.\n",
      "  with pd.option_context('mode.use_inf_as_na', True):\n"
     ]
    },
    {
     "data": {
      "text/plain": [
       "<Axes: xlabel='param_n_components', ylabel='Val. Log Likelihood'>"
      ]
     },
     "execution_count": 35,
     "metadata": {},
     "output_type": "execute_result"
    },
    {
     "data": {
      "image/png": "[encoded data removed]",
      "text/plain": [
       "<Figure size 640x480 with 1 Axes>"
      ]
     },
     "metadata": {},
     "output_type": "display_data"
    }
   ],
   "source": [
    "# Higher is better\n",
    "sns.set_style(\"darkgrid\")\n",
    "sns.lineplot(data=results, x='param_n_components', y='Val. Log Likelihood', palette='Dark2')"
   ]
  },
  {
   "cell_type": "code",
   "execution_count": 36,
   "id": "1a83f1a7-844e-4f54-9bdb-e375449d3ef0",
   "metadata": {},
   "outputs": [
    {
     "name": "stdout",
     "output_type": "stream",
     "text": [
      "Testing 1 vs. 2 classes...\n",
      "Bootstrapping null model...\n",
      "\n",
      "Bootstrapping estimator...\n"
     ]
    },
    {
     "name": "stderr",
     "output_type": "stream",
     "text": [
      "Bootstrap Repetitions    : 100%|██████████| 20/20 [00:00<00:00, 40.56it/s, max_LL=-2.04e+4, median_LL=-2.06e+4, min_LL=-2.08e+4]\n"
     ]
    },
    {
     "name": "stdout",
     "output_type": "stream",
     "text": [
      "\n",
      "Bootstrapping alternative model...\n",
      "\n",
      "Bootstrapping estimator...\n"
     ]
    },
    {
     "name": "stderr",
     "output_type": "stream",
     "text": [
      "Bootstrap Repetitions    :   0%|          | 0/20 [00:00<?, ?it/s]C:\\Users\\gniel\\anaconda3\\Lib\\site-packages\\stepmix\\stepmix.py:968: ConvergenceWarning: Initializations did not converge. Try different init parameters, or increase max_iter, abs_tol, rel_tol or check for degenerate data.\n",
      "  warnings.warn(\n",
      "Bootstrap Repetitions    :   5%|▌         | 1/20 [00:01<00:33,  1.76s/it, max_LL=-2.06e+4, median_LL=-2.06e+4, min_LL=-2.06e+4]C:\\Users\\gniel\\anaconda3\\Lib\\site-packages\\stepmix\\stepmix.py:968: ConvergenceWarning: Initializations did not converge. Try different init parameters, or increase max_iter, abs_tol, rel_tol or check for degenerate data.\n",
      "  warnings.warn(\n",
      "Bootstrap Repetitions    :  10%|█         | 2/20 [00:03<00:32,  1.82s/it, max_LL=-2.05e+4, median_LL=-2.05e+4, min_LL=-2.06e+4]C:\\Users\\gniel\\anaconda3\\Lib\\site-packages\\stepmix\\stepmix.py:968: ConvergenceWarning: Initializations did not converge. Try different init parameters, or increase max_iter, abs_tol, rel_tol or check for degenerate data.\n",
      "  warnings.warn(\n",
      "Bootstrap Repetitions    :  15%|█▌        | 3/20 [00:05<00:30,  1.79s/it, max_LL=-2.05e+4, median_LL=-2.06e+4, min_LL=-2.06e+4]C:\\Users\\gniel\\anaconda3\\Lib\\site-packages\\stepmix\\stepmix.py:968: ConvergenceWarning: Initializations did not converge. Try different init parameters, or increase max_iter, abs_tol, rel_tol or check for degenerate data.\n",
      "  warnings.warn(\n",
      "Bootstrap Repetitions    :  20%|██        | 4/20 [00:07<00:28,  1.79s/it, max_LL=-2.05e+4, median_LL=-2.05e+4, min_LL=-2.06e+4]C:\\Users\\gniel\\anaconda3\\Lib\\site-packages\\stepmix\\stepmix.py:968: ConvergenceWarning: Initializations did not converge. Try different init parameters, or increase max_iter, abs_tol, rel_tol or check for degenerate data.\n",
      "  warnings.warn(\n",
      "Bootstrap Repetitions    :  30%|███       | 6/20 [00:11<00:26,  1.89s/it, max_LL=-2.05e+4, median_LL=-2.05e+4, min_LL=-2.08e+4]C:\\Users\\gniel\\anaconda3\\Lib\\site-packages\\stepmix\\stepmix.py:968: ConvergenceWarning: Initializations did not converge. Try different init parameters, or increase max_iter, abs_tol, rel_tol or check for degenerate data.\n",
      "  warnings.warn(\n",
      "Bootstrap Repetitions    :  35%|███▌      | 7/20 [00:13<00:25,  1.95s/it, max_LL=-2.04e+4, median_LL=-2.05e+4, min_LL=-2.08e+4]C:\\Users\\gniel\\anaconda3\\Lib\\site-packages\\stepmix\\stepmix.py:968: ConvergenceWarning: Initializations did not converge. Try different init parameters, or increase max_iter, abs_tol, rel_tol or check for degenerate data.\n",
      "  warnings.warn(\n",
      "Bootstrap Repetitions    :  40%|████      | 8/20 [00:15<00:23,  1.99s/it, max_LL=-2.04e+4, median_LL=-2.05e+4, min_LL=-2.08e+4]C:\\Users\\gniel\\anaconda3\\Lib\\site-packages\\stepmix\\stepmix.py:968: ConvergenceWarning: Initializations did not converge. Try different init parameters, or increase max_iter, abs_tol, rel_tol or check for degenerate data.\n",
      "  warnings.warn(\n",
      "Bootstrap Repetitions    :  45%|████▌     | 9/20 [00:17<00:21,  1.99s/it, max_LL=-2.04e+4, median_LL=-2.06e+4, min_LL=-2.08e+4]C:\\Users\\gniel\\anaconda3\\Lib\\site-packages\\stepmix\\stepmix.py:968: ConvergenceWarning: Initializations did not converge. Try different init parameters, or increase max_iter, abs_tol, rel_tol or check for degenerate data.\n",
      "  warnings.warn(\n",
      "Bootstrap Repetitions    :  50%|█████     | 10/20 [00:19<00:19,  1.96s/it, max_LL=-2.04e+4, median_LL=-2.05e+4, min_LL=-2.08e+4]C:\\Users\\gniel\\anaconda3\\Lib\\site-packages\\stepmix\\stepmix.py:968: ConvergenceWarning: Initializations did not converge. Try different init parameters, or increase max_iter, abs_tol, rel_tol or check for degenerate data.\n",
      "  warnings.warn(\n",
      "Bootstrap Repetitions    :  55%|█████▌    | 11/20 [00:21<00:17,  1.95s/it, max_LL=-2.04e+4, median_LL=-2.06e+4, min_LL=-2.08e+4]C:\\Users\\gniel\\anaconda3\\Lib\\site-packages\\stepmix\\stepmix.py:968: ConvergenceWarning: Initializations did not converge. Try different init parameters, or increase max_iter, abs_tol, rel_tol or check for degenerate data.\n",
      "  warnings.warn(\n",
      "Bootstrap Repetitions    :  60%|██████    | 12/20 [00:23<00:15,  1.96s/it, max_LL=-2.04e+4, median_LL=-2.06e+4, min_LL=-2.08e+4]C:\\Users\\gniel\\anaconda3\\Lib\\site-packages\\stepmix\\stepmix.py:968: ConvergenceWarning: Initializations did not converge. Try different init parameters, or increase max_iter, abs_tol, rel_tol or check for degenerate data.\n",
      "  warnings.warn(\n",
      "Bootstrap Repetitions    :  65%|██████▌   | 13/20 [00:25<00:13,  1.96s/it, max_LL=-2.04e+4, median_LL=-2.06e+4, min_LL=-2.08e+4]C:\\Users\\gniel\\anaconda3\\Lib\\site-packages\\stepmix\\stepmix.py:968: ConvergenceWarning: Initializations did not converge. Try different init parameters, or increase max_iter, abs_tol, rel_tol or check for degenerate data.\n",
      "  warnings.warn(\n",
      "Bootstrap Repetitions    :  70%|███████   | 14/20 [00:26<00:11,  1.96s/it, max_LL=-2.04e+4, median_LL=-2.06e+4, min_LL=-2.08e+4]C:\\Users\\gniel\\anaconda3\\Lib\\site-packages\\stepmix\\stepmix.py:968: ConvergenceWarning: Initializations did not converge. Try different init parameters, or increase max_iter, abs_tol, rel_tol or check for degenerate data.\n",
      "  warnings.warn(\n",
      "Bootstrap Repetitions    :  75%|███████▌  | 15/20 [00:28<00:09,  1.96s/it, max_LL=-2.04e+4, median_LL=-2.06e+4, min_LL=-2.08e+4]C:\\Users\\gniel\\anaconda3\\Lib\\site-packages\\stepmix\\stepmix.py:968: ConvergenceWarning: Initializations did not converge. Try different init parameters, or increase max_iter, abs_tol, rel_tol or check for degenerate data.\n",
      "  warnings.warn(\n",
      "Bootstrap Repetitions    :  90%|█████████ | 18/20 [00:34<00:03,  1.89s/it, max_LL=-2.04e+4, median_LL=-2.06e+4, min_LL=-2.08e+4]C:\\Users\\gniel\\anaconda3\\Lib\\site-packages\\stepmix\\stepmix.py:968: ConvergenceWarning: Initializations did not converge. Try different init parameters, or increase max_iter, abs_tol, rel_tol or check for degenerate data.\n",
      "  warnings.warn(\n",
      "Bootstrap Repetitions    :  95%|█████████▌| 19/20 [00:36<00:01,  1.92s/it, max_LL=-2.04e+4, median_LL=-2.06e+4, min_LL=-2.08e+4]C:\\Users\\gniel\\anaconda3\\Lib\\site-packages\\stepmix\\stepmix.py:968: ConvergenceWarning: Initializations did not converge. Try different init parameters, or increase max_iter, abs_tol, rel_tol or check for degenerate data.\n",
      "  warnings.warn(\n",
      "Bootstrap Repetitions    : 100%|██████████| 20/20 [00:38<00:00,  1.93s/it, max_LL=-2.04e+4, median_LL=-2.06e+4, min_LL=-2.08e+4]\n"
     ]
    },
    {
     "name": "stdout",
     "output_type": "stream",
     "text": [
      "Testing 2 vs. 3 classes...\n",
      "Bootstrapping null model...\n",
      "\n",
      "Bootstrapping estimator...\n"
     ]
    },
    {
     "name": "stderr",
     "output_type": "stream",
     "text": [
      "Bootstrap Repetitions    : 100%|██████████| 20/20 [00:03<00:00,  5.74it/s, max_LL=-2e+4, median_LL=-2.02e+4, min_LL=-2.03e+4]  \n"
     ]
    },
    {
     "name": "stdout",
     "output_type": "stream",
     "text": [
      "\n",
      "Bootstrapping alternative model...\n",
      "\n",
      "Bootstrapping estimator...\n"
     ]
    },
    {
     "name": "stderr",
     "output_type": "stream",
     "text": [
      "Bootstrap Repetitions    :   5%|▌         | 1/20 [00:01<00:21,  1.15s/it, max_LL=-2.02e+4, median_LL=-2.02e+4, min_LL=-2.02e+4]C:\\Users\\gniel\\anaconda3\\Lib\\site-packages\\stepmix\\stepmix.py:968: ConvergenceWarning: Initializations did not converge. Try different init parameters, or increase max_iter, abs_tol, rel_tol or check for degenerate data.\n",
      "  warnings.warn(\n",
      "Bootstrap Repetitions    :  40%|████      | 8/20 [00:13<00:19,  1.64s/it, max_LL=-2e+4, median_LL=-2.01e+4, min_LL=-2.02e+4]   C:\\Users\\gniel\\anaconda3\\Lib\\site-packages\\stepmix\\stepmix.py:968: ConvergenceWarning: Initializations did not converge. Try different init parameters, or increase max_iter, abs_tol, rel_tol or check for degenerate data.\n",
      "  warnings.warn(\n",
      "Bootstrap Repetitions    :  45%|████▌     | 9/20 [00:15<00:19,  1.75s/it, max_LL=-2e+4, median_LL=-2.01e+4, min_LL=-2.02e+4]C:\\Users\\gniel\\anaconda3\\Lib\\site-packages\\stepmix\\stepmix.py:968: ConvergenceWarning: Initializations did not converge. Try different init parameters, or increase max_iter, abs_tol, rel_tol or check for degenerate data.\n",
      "  warnings.warn(\n",
      "Bootstrap Repetitions    :  50%|█████     | 10/20 [00:18<00:19,  1.92s/it, max_LL=-2e+4, median_LL=-2.01e+4, min_LL=-2.02e+4]C:\\Users\\gniel\\anaconda3\\Lib\\site-packages\\stepmix\\stepmix.py:968: ConvergenceWarning: Initializations did not converge. Try different init parameters, or increase max_iter, abs_tol, rel_tol or check for degenerate data.\n",
      "  warnings.warn(\n",
      "Bootstrap Repetitions    :  80%|████████  | 16/20 [00:29<00:06,  1.71s/it, max_LL=-2e+4, median_LL=-2.01e+4, min_LL=-2.03e+4]C:\\Users\\gniel\\anaconda3\\Lib\\site-packages\\stepmix\\stepmix.py:968: ConvergenceWarning: Initializations did not converge. Try different init parameters, or increase max_iter, abs_tol, rel_tol or check for degenerate data.\n",
      "  warnings.warn(\n",
      "Bootstrap Repetitions    : 100%|██████████| 20/20 [00:36<00:00,  1.81s/it, max_LL=-2e+4, median_LL=-2.01e+4, min_LL=-2.03e+4]\n"
     ]
    },
    {
     "name": "stdout",
     "output_type": "stream",
     "text": [
      "Testing 3 vs. 4 classes...\n",
      "Bootstrapping null model...\n",
      "\n",
      "Bootstrapping estimator...\n"
     ]
    },
    {
     "name": "stderr",
     "output_type": "stream",
     "text": [
      "Bootstrap Repetitions    : 100%|██████████| 20/20 [00:08<00:00,  2.37it/s, max_LL=-1.97e+4, median_LL=-1.98e+4, min_LL=-2e+4]   \n"
     ]
    },
    {
     "name": "stdout",
     "output_type": "stream",
     "text": [
      "\n",
      "Bootstrapping alternative model...\n",
      "\n",
      "Bootstrapping estimator...\n"
     ]
    },
    {
     "name": "stderr",
     "output_type": "stream",
     "text": [
      "Bootstrap Repetitions    :   5%|▌         | 1/20 [00:02<00:42,  2.22s/it, max_LL=-1.99e+4, median_LL=-1.99e+4, min_LL=-1.99e+4]C:\\Users\\gniel\\anaconda3\\Lib\\site-packages\\stepmix\\stepmix.py:968: ConvergenceWarning: Initializations did not converge. Try different init parameters, or increase max_iter, abs_tol, rel_tol or check for degenerate data.\n",
      "  warnings.warn(\n",
      "Bootstrap Repetitions    :  15%|█▌        | 3/20 [00:06<00:34,  2.03s/it, max_LL=-1.97e+4, median_LL=-1.98e+4, min_LL=-1.99e+4]C:\\Users\\gniel\\anaconda3\\Lib\\site-packages\\stepmix\\stepmix.py:968: ConvergenceWarning: Initializations did not converge. Try different init parameters, or increase max_iter, abs_tol, rel_tol or check for degenerate data.\n",
      "  warnings.warn(\n",
      "Bootstrap Repetitions    :  40%|████      | 8/20 [00:15<00:21,  1.76s/it, max_LL=-1.97e+4, median_LL=-1.98e+4, min_LL=-1.99e+4]C:\\Users\\gniel\\anaconda3\\Lib\\site-packages\\stepmix\\stepmix.py:968: ConvergenceWarning: Initializations did not converge. Try different init parameters, or increase max_iter, abs_tol, rel_tol or check for degenerate data.\n",
      "  warnings.warn(\n",
      "Bootstrap Repetitions    :  45%|████▌     | 9/20 [00:18<00:21,  1.93s/it, max_LL=-1.97e+4, median_LL=-1.98e+4, min_LL=-1.99e+4]C:\\Users\\gniel\\anaconda3\\Lib\\site-packages\\stepmix\\stepmix.py:968: ConvergenceWarning: Initializations did not converge. Try different init parameters, or increase max_iter, abs_tol, rel_tol or check for degenerate data.\n",
      "  warnings.warn(\n",
      "Bootstrap Repetitions    :  55%|█████▌    | 11/20 [00:22<00:16,  1.88s/it, max_LL=-1.97e+4, median_LL=-1.98e+4, min_LL=-1.99e+4]C:\\Users\\gniel\\anaconda3\\Lib\\site-packages\\stepmix\\stepmix.py:968: ConvergenceWarning: Initializations did not converge. Try different init parameters, or increase max_iter, abs_tol, rel_tol or check for degenerate data.\n",
      "  warnings.warn(\n",
      "Bootstrap Repetitions    :  65%|██████▌   | 13/20 [00:25<00:13,  1.87s/it, max_LL=-1.97e+4, median_LL=-1.98e+4, min_LL=-1.99e+4]C:\\Users\\gniel\\anaconda3\\Lib\\site-packages\\stepmix\\stepmix.py:968: ConvergenceWarning: Initializations did not converge. Try different init parameters, or increase max_iter, abs_tol, rel_tol or check for degenerate data.\n",
      "  warnings.warn(\n",
      "Bootstrap Repetitions    :  80%|████████  | 16/20 [00:29<00:05,  1.30s/it, max_LL=-1.97e+4, median_LL=-1.98e+4, min_LL=-1.99e+4]C:\\Users\\gniel\\anaconda3\\Lib\\site-packages\\stepmix\\stepmix.py:968: ConvergenceWarning: Initializations did not converge. Try different init parameters, or increase max_iter, abs_tol, rel_tol or check for degenerate data.\n",
      "  warnings.warn(\n",
      "Bootstrap Repetitions    : 100%|██████████| 20/20 [00:35<00:00,  1.76s/it, max_LL=-1.97e+4, median_LL=-1.98e+4, min_LL=-1.99e+4]\n"
     ]
    },
    {
     "name": "stdout",
     "output_type": "stream",
     "text": [
      "Testing 4 vs. 5 classes...\n",
      "Bootstrapping null model...\n",
      "\n",
      "Bootstrapping estimator...\n"
     ]
    },
    {
     "name": "stderr",
     "output_type": "stream",
     "text": [
      "Bootstrap Repetitions    :  90%|█████████ | 18/20 [00:09<00:00,  2.12it/s, max_LL=-1.96e+4, median_LL=-1.98e+4, min_LL=-1.99e+4]C:\\Users\\gniel\\anaconda3\\Lib\\site-packages\\stepmix\\stepmix.py:968: ConvergenceWarning: Initializations did not converge. Try different init parameters, or increase max_iter, abs_tol, rel_tol or check for degenerate data.\n",
      "  warnings.warn(\n",
      "Bootstrap Repetitions    : 100%|██████████| 20/20 [00:11<00:00,  1.68it/s, max_LL=-1.96e+4, median_LL=-1.98e+4, min_LL=-1.99e+4]\n"
     ]
    },
    {
     "name": "stdout",
     "output_type": "stream",
     "text": [
      "\n",
      "Bootstrapping alternative model...\n",
      "\n",
      "Bootstrapping estimator...\n"
     ]
    },
    {
     "name": "stderr",
     "output_type": "stream",
     "text": [
      "Bootstrap Repetitions    :   0%|          | 0/20 [00:00<?, ?it/s]C:\\Users\\gniel\\anaconda3\\Lib\\site-packages\\stepmix\\stepmix.py:968: ConvergenceWarning: Initializations did not converge. Try different init parameters, or increase max_iter, abs_tol, rel_tol or check for degenerate data.\n",
      "  warnings.warn(\n",
      "Bootstrap Repetitions    :   5%|▌         | 1/20 [00:02<00:38,  2.01s/it, max_LL=-1.98e+4, median_LL=-1.98e+4, min_LL=-1.98e+4]C:\\Users\\gniel\\anaconda3\\Lib\\site-packages\\stepmix\\stepmix.py:968: ConvergenceWarning: Initializations did not converge. Try different init parameters, or increase max_iter, abs_tol, rel_tol or check for degenerate data.\n",
      "  warnings.warn(\n",
      "Bootstrap Repetitions    :  35%|███▌      | 7/20 [00:10<00:16,  1.28s/it, max_LL=-1.96e+4, median_LL=-1.97e+4, min_LL=-1.98e+4]C:\\Users\\gniel\\anaconda3\\Lib\\site-packages\\stepmix\\stepmix.py:968: ConvergenceWarning: Initializations did not converge. Try different init parameters, or increase max_iter, abs_tol, rel_tol or check for degenerate data.\n",
      "  warnings.warn(\n",
      "Bootstrap Repetitions    :  40%|████      | 8/20 [00:12<00:18,  1.51s/it, max_LL=-1.96e+4, median_LL=-1.97e+4, min_LL=-1.98e+4]C:\\Users\\gniel\\anaconda3\\Lib\\site-packages\\stepmix\\stepmix.py:968: ConvergenceWarning: Initializations did not converge. Try different init parameters, or increase max_iter, abs_tol, rel_tol or check for degenerate data.\n",
      "  warnings.warn(\n",
      "Bootstrap Repetitions    :  80%|████████  | 16/20 [00:32<00:09,  2.28s/it, max_LL=-1.96e+4, median_LL=-1.98e+4, min_LL=-1.99e+4]C:\\Users\\gniel\\anaconda3\\Lib\\site-packages\\stepmix\\stepmix.py:968: ConvergenceWarning: Initializations did not converge. Try different init parameters, or increase max_iter, abs_tol, rel_tol or check for degenerate data.\n",
      "  warnings.warn(\n",
      "Bootstrap Repetitions    : 100%|██████████| 20/20 [00:42<00:00,  2.15s/it, max_LL=-1.96e+4, median_LL=-1.98e+4, min_LL=-1.99e+4]\n"
     ]
    },
    {
     "name": "stdout",
     "output_type": "stream",
     "text": [
      "Testing 5 vs. 6 classes...\n"
     ]
    },
    {
     "name": "stderr",
     "output_type": "stream",
     "text": [
      "C:\\Users\\gniel\\anaconda3\\Lib\\site-packages\\stepmix\\stepmix.py:968: ConvergenceWarning: Initializations did not converge. Try different init parameters, or increase max_iter, abs_tol, rel_tol or check for degenerate data.\n",
      "  warnings.warn(\n"
     ]
    },
    {
     "name": "stdout",
     "output_type": "stream",
     "text": [
      "Bootstrapping null model...\n",
      "\n",
      "Bootstrapping estimator...\n"
     ]
    },
    {
     "name": "stderr",
     "output_type": "stream",
     "text": [
      "Bootstrap Repetitions    :  15%|█▌        | 3/20 [00:04<00:29,  1.72s/it, max_LL=-1.97e+4, median_LL=-1.98e+4, min_LL=-1.99e+4]C:\\Users\\gniel\\anaconda3\\Lib\\site-packages\\stepmix\\stepmix.py:968: ConvergenceWarning: Initializations did not converge. Try different init parameters, or increase max_iter, abs_tol, rel_tol or check for degenerate data.\n",
      "  warnings.warn(\n",
      "Bootstrap Repetitions    :  20%|██        | 4/20 [00:07<00:36,  2.27s/it, max_LL=-1.97e+4, median_LL=-1.98e+4, min_LL=-1.99e+4]C:\\Users\\gniel\\anaconda3\\Lib\\site-packages\\stepmix\\stepmix.py:968: ConvergenceWarning: Initializations did not converge. Try different init parameters, or increase max_iter, abs_tol, rel_tol or check for degenerate data.\n",
      "  warnings.warn(\n",
      "Bootstrap Repetitions    :  25%|██▌       | 5/20 [00:10<00:36,  2.41s/it, max_LL=-1.97e+4, median_LL=-1.98e+4, min_LL=-1.99e+4]C:\\Users\\gniel\\anaconda3\\Lib\\site-packages\\stepmix\\stepmix.py:968: ConvergenceWarning: Initializations did not converge. Try different init parameters, or increase max_iter, abs_tol, rel_tol or check for degenerate data.\n",
      "  warnings.warn(\n",
      "Bootstrap Repetitions    :  35%|███▌      | 7/20 [00:14<00:26,  2.02s/it, max_LL=-1.95e+4, median_LL=-1.97e+4, min_LL=-1.99e+4]C:\\Users\\gniel\\anaconda3\\Lib\\site-packages\\stepmix\\stepmix.py:968: ConvergenceWarning: Initializations did not converge. Try different init parameters, or increase max_iter, abs_tol, rel_tol or check for degenerate data.\n",
      "  warnings.warn(\n",
      "Bootstrap Repetitions    :  55%|█████▌    | 11/20 [00:22<00:18,  2.06s/it, max_LL=-1.95e+4, median_LL=-1.97e+4, min_LL=-1.99e+4]C:\\Users\\gniel\\anaconda3\\Lib\\site-packages\\stepmix\\stepmix.py:968: ConvergenceWarning: Initializations did not converge. Try different init parameters, or increase max_iter, abs_tol, rel_tol or check for degenerate data.\n",
      "  warnings.warn(\n",
      "Bootstrap Repetitions    :  75%|███████▌  | 15/20 [00:28<00:07,  1.60s/it, max_LL=-1.95e+4, median_LL=-1.97e+4, min_LL=-1.99e+4]C:\\Users\\gniel\\anaconda3\\Lib\\site-packages\\stepmix\\stepmix.py:968: ConvergenceWarning: Initializations did not converge. Try different init parameters, or increase max_iter, abs_tol, rel_tol or check for degenerate data.\n",
      "  warnings.warn(\n",
      "Bootstrap Repetitions    : 100%|██████████| 20/20 [00:41<00:00,  2.10s/it, max_LL=-1.95e+4, median_LL=-1.97e+4, min_LL=-1.99e+4]\n"
     ]
    },
    {
     "name": "stdout",
     "output_type": "stream",
     "text": [
      "\n",
      "Bootstrapping alternative model...\n",
      "\n",
      "Bootstrapping estimator...\n"
     ]
    },
    {
     "name": "stderr",
     "output_type": "stream",
     "text": [
      "Bootstrap Repetitions    :   5%|▌         | 1/20 [00:01<00:23,  1.26s/it, max_LL=-1.99e+4, median_LL=-1.99e+4, min_LL=-1.99e+4]C:\\Users\\gniel\\anaconda3\\Lib\\site-packages\\stepmix\\stepmix.py:968: ConvergenceWarning: Initializations did not converge. Try different init parameters, or increase max_iter, abs_tol, rel_tol or check for degenerate data.\n",
      "  warnings.warn(\n",
      "Bootstrap Repetitions    :  20%|██        | 4/20 [00:07<00:29,  1.83s/it, max_LL=-1.96e+4, median_LL=-1.97e+4, min_LL=-1.99e+4]C:\\Users\\gniel\\anaconda3\\Lib\\site-packages\\stepmix\\stepmix.py:968: ConvergenceWarning: Initializations did not converge. Try different init parameters, or increase max_iter, abs_tol, rel_tol or check for degenerate data.\n",
      "  warnings.warn(\n",
      "Bootstrap Repetitions    :  25%|██▌       | 5/20 [00:10<00:32,  2.17s/it, max_LL=-1.96e+4, median_LL=-1.98e+4, min_LL=-1.99e+4]C:\\Users\\gniel\\anaconda3\\Lib\\site-packages\\stepmix\\stepmix.py:968: ConvergenceWarning: Initializations did not converge. Try different init parameters, or increase max_iter, abs_tol, rel_tol or check for degenerate data.\n",
      "  warnings.warn(\n",
      "Bootstrap Repetitions    :  30%|███       | 6/20 [00:12<00:32,  2.29s/it, max_LL=-1.96e+4, median_LL=-1.97e+4, min_LL=-1.99e+4]C:\\Users\\gniel\\anaconda3\\Lib\\site-packages\\stepmix\\stepmix.py:968: ConvergenceWarning: Initializations did not converge. Try different init parameters, or increase max_iter, abs_tol, rel_tol or check for degenerate data.\n",
      "  warnings.warn(\n",
      "Bootstrap Repetitions    :  80%|████████  | 16/20 [00:28<00:05,  1.49s/it, max_LL=-1.95e+4, median_LL=-1.97e+4, min_LL=-1.99e+4]C:\\Users\\gniel\\anaconda3\\Lib\\site-packages\\stepmix\\stepmix.py:968: ConvergenceWarning: Initializations did not converge. Try different init parameters, or increase max_iter, abs_tol, rel_tol or check for degenerate data.\n",
      "  warnings.warn(\n",
      "Bootstrap Repetitions    :  85%|████████▌ | 17/20 [00:30<00:05,  1.77s/it, max_LL=-1.95e+4, median_LL=-1.97e+4, min_LL=-1.99e+4]C:\\Users\\gniel\\anaconda3\\Lib\\site-packages\\stepmix\\stepmix.py:968: ConvergenceWarning: Initializations did not converge. Try different init parameters, or increase max_iter, abs_tol, rel_tol or check for degenerate data.\n",
      "  warnings.warn(\n",
      "Bootstrap Repetitions    : 100%|██████████| 20/20 [00:35<00:00,  1.79s/it, max_LL=-1.95e+4, median_LL=-1.97e+4, min_LL=-1.99e+4]\n"
     ]
    },
    {
     "name": "stdout",
     "output_type": "stream",
     "text": [
      "Testing 6 vs. 7 classes...\n"
     ]
    },
    {
     "name": "stderr",
     "output_type": "stream",
     "text": [
      "C:\\Users\\gniel\\anaconda3\\Lib\\site-packages\\stepmix\\stepmix.py:968: ConvergenceWarning: Initializations did not converge. Try different init parameters, or increase max_iter, abs_tol, rel_tol or check for degenerate data.\n",
      "  warnings.warn(\n"
     ]
    },
    {
     "name": "stdout",
     "output_type": "stream",
     "text": [
      "Bootstrapping null model...\n",
      "\n",
      "Bootstrapping estimator...\n"
     ]
    },
    {
     "name": "stderr",
     "output_type": "stream",
     "text": [
      "Bootstrap Repetitions    :  35%|███▌      | 7/20 [00:09<00:18,  1.43s/it, max_LL=-1.94e+4, median_LL=-1.95e+4, min_LL=-1.96e+4]C:\\Users\\gniel\\anaconda3\\Lib\\site-packages\\stepmix\\stepmix.py:968: ConvergenceWarning: Initializations did not converge. Try different init parameters, or increase max_iter, abs_tol, rel_tol or check for degenerate data.\n",
      "  warnings.warn(\n",
      "Bootstrap Repetitions    :  40%|████      | 8/20 [00:13<00:23,  2.00s/it, max_LL=-1.94e+4, median_LL=-1.95e+4, min_LL=-1.97e+4]C:\\Users\\gniel\\anaconda3\\Lib\\site-packages\\stepmix\\stepmix.py:968: ConvergenceWarning: Initializations did not converge. Try different init parameters, or increase max_iter, abs_tol, rel_tol or check for degenerate data.\n",
      "  warnings.warn(\n",
      "Bootstrap Repetitions    :  45%|████▌     | 9/20 [00:16<00:25,  2.32s/it, max_LL=-1.94e+4, median_LL=-1.96e+4, min_LL=-1.97e+4]C:\\Users\\gniel\\anaconda3\\Lib\\site-packages\\stepmix\\stepmix.py:968: ConvergenceWarning: Initializations did not converge. Try different init parameters, or increase max_iter, abs_tol, rel_tol or check for degenerate data.\n",
      "  warnings.warn(\n",
      "Bootstrap Repetitions    : 100%|██████████| 20/20 [00:32<00:00,  1.63s/it, max_LL=-1.94e+4, median_LL=-1.96e+4, min_LL=-1.97e+4]\n"
     ]
    },
    {
     "name": "stdout",
     "output_type": "stream",
     "text": [
      "\n",
      "Bootstrapping alternative model...\n",
      "\n",
      "Bootstrapping estimator...\n"
     ]
    },
    {
     "name": "stderr",
     "output_type": "stream",
     "text": [
      "Bootstrap Repetitions    :  15%|█▌        | 3/20 [00:03<00:21,  1.26s/it, max_LL=-1.94e+4, median_LL=-1.95e+4, min_LL=-1.97e+4]C:\\Users\\gniel\\anaconda3\\Lib\\site-packages\\stepmix\\stepmix.py:968: ConvergenceWarning: Initializations did not converge. Try different init parameters, or increase max_iter, abs_tol, rel_tol or check for degenerate data.\n",
      "  warnings.warn(\n",
      "Bootstrap Repetitions    :  25%|██▌       | 5/20 [00:07<00:22,  1.52s/it, max_LL=-1.94e+4, median_LL=-1.95e+4, min_LL=-1.97e+4]C:\\Users\\gniel\\anaconda3\\Lib\\site-packages\\stepmix\\stepmix.py:968: ConvergenceWarning: Initializations did not converge. Try different init parameters, or increase max_iter, abs_tol, rel_tol or check for degenerate data.\n",
      "  warnings.warn(\n",
      "Bootstrap Repetitions    :  30%|███       | 6/20 [00:09<00:25,  1.85s/it, max_LL=-1.94e+4, median_LL=-1.95e+4, min_LL=-1.97e+4]C:\\Users\\gniel\\anaconda3\\Lib\\site-packages\\stepmix\\stepmix.py:968: ConvergenceWarning: Initializations did not converge. Try different init parameters, or increase max_iter, abs_tol, rel_tol or check for degenerate data.\n",
      "  warnings.warn(\n",
      "Bootstrap Repetitions    :  40%|████      | 8/20 [00:13<00:22,  1.87s/it, max_LL=-1.94e+4, median_LL=-1.95e+4, min_LL=-1.97e+4]C:\\Users\\gniel\\anaconda3\\Lib\\site-packages\\stepmix\\stepmix.py:968: ConvergenceWarning: Initializations did not converge. Try different init parameters, or increase max_iter, abs_tol, rel_tol or check for degenerate data.\n",
      "  warnings.warn(\n",
      "Bootstrap Repetitions    :  55%|█████▌    | 11/20 [00:18<00:15,  1.69s/it, max_LL=-1.94e+4, median_LL=-1.95e+4, min_LL=-1.97e+4]C:\\Users\\gniel\\anaconda3\\Lib\\site-packages\\stepmix\\stepmix.py:968: ConvergenceWarning: Initializations did not converge. Try different init parameters, or increase max_iter, abs_tol, rel_tol or check for degenerate data.\n",
      "  warnings.warn(\n",
      "Bootstrap Repetitions    :  60%|██████    | 12/20 [00:21<00:15,  1.93s/it, max_LL=-1.94e+4, median_LL=-1.95e+4, min_LL=-1.97e+4]C:\\Users\\gniel\\anaconda3\\Lib\\site-packages\\stepmix\\stepmix.py:968: ConvergenceWarning: Initializations did not converge. Try different init parameters, or increase max_iter, abs_tol, rel_tol or check for degenerate data.\n",
      "  warnings.warn(\n",
      "Bootstrap Repetitions    :  65%|██████▌   | 13/20 [00:23<00:14,  2.05s/it, max_LL=-1.94e+4, median_LL=-1.95e+4, min_LL=-1.97e+4]C:\\Users\\gniel\\anaconda3\\Lib\\site-packages\\stepmix\\stepmix.py:968: ConvergenceWarning: Initializations did not converge. Try different init parameters, or increase max_iter, abs_tol, rel_tol or check for degenerate data.\n",
      "  warnings.warn(\n",
      "Bootstrap Repetitions    :  75%|███████▌  | 15/20 [00:27<00:09,  1.92s/it, max_LL=-1.94e+4, median_LL=-1.95e+4, min_LL=-1.97e+4]C:\\Users\\gniel\\anaconda3\\Lib\\site-packages\\stepmix\\stepmix.py:968: ConvergenceWarning: Initializations did not converge. Try different init parameters, or increase max_iter, abs_tol, rel_tol or check for degenerate data.\n",
      "  warnings.warn(\n",
      "Bootstrap Repetitions    :  80%|████████  | 16/20 [00:29<00:08,  2.08s/it, max_LL=-1.94e+4, median_LL=-1.96e+4, min_LL=-1.98e+4]C:\\Users\\gniel\\anaconda3\\Lib\\site-packages\\stepmix\\stepmix.py:968: ConvergenceWarning: Initializations did not converge. Try different init parameters, or increase max_iter, abs_tol, rel_tol or check for degenerate data.\n",
      "  warnings.warn(\n",
      "Bootstrap Repetitions    :  85%|████████▌ | 17/20 [00:32<00:06,  2.17s/it, max_LL=-1.94e+4, median_LL=-1.95e+4, min_LL=-1.98e+4]C:\\Users\\gniel\\anaconda3\\Lib\\site-packages\\stepmix\\stepmix.py:968: ConvergenceWarning: Initializations did not converge. Try different init parameters, or increase max_iter, abs_tol, rel_tol or check for degenerate data.\n",
      "  warnings.warn(\n",
      "Bootstrap Repetitions    :  90%|█████████ | 18/20 [00:34<00:04,  2.17s/it, max_LL=-1.94e+4, median_LL=-1.95e+4, min_LL=-1.98e+4]C:\\Users\\gniel\\anaconda3\\Lib\\site-packages\\stepmix\\stepmix.py:968: ConvergenceWarning: Initializations did not converge. Try different init parameters, or increase max_iter, abs_tol, rel_tol or check for degenerate data.\n",
      "  warnings.warn(\n",
      "Bootstrap Repetitions    : 100%|██████████| 20/20 [00:38<00:00,  1.92s/it, max_LL=-1.94e+4, median_LL=-1.95e+4, min_LL=-1.98e+4]"
     ]
    },
    {
     "name": "stdout",
     "output_type": "stream",
     "text": [
      "\n",
      "BLRT Sweep Results\n",
      "                    p\n",
      "Test                 \n",
      "1 vs. 2 classes  0.00\n",
      "2 vs. 3 classes  0.00\n",
      "3 vs. 4 classes  0.00\n",
      "4 vs. 5 classes  0.00\n",
      "5 vs. 6 classes  0.00\n",
      "6 vs. 7 classes  0.15\n"
     ]
    },
    {
     "name": "stderr",
     "output_type": "stream",
     "text": [
      "\n"
     ]
    }
   ],
   "source": [
    "#BLRT-sweep\n",
    "# Define base model\n",
    "model = stepmix.StepMix(n_components=3, n_steps=3, correction=\"BCH\", measurement=mixed_descriptor,\n",
    "                structural='bernoulli', random_state=42, verbose=0, progress_bar=0)\n",
    "\n",
    "# Run BLRT sweep from 1 class to 4 classes\n",
    "# Expect some convergence warnings\n",
    "p_values = stepmix.bootstrap.blrt_sweep(model, mixed_data, y_males, low=1, high=7, n_repetitions=20)"
   ]
  },
  {
   "cell_type": "code",
   "execution_count": 37,
   "id": "170ce290-9b86-4c08-8646-bcd38a939218",
   "metadata": {},
   "outputs": [
    {
     "data": {
      "text/html": [
       "<div>\n",
       "<style scoped>\n",
       "    .dataframe tbody tr th:only-of-type {\n",
       "        vertical-align: middle;\n",
       "    }\n",
       "\n",
       "    .dataframe tbody tr th {\n",
       "        vertical-align: top;\n",
       "    }\n",
       "\n",
       "    .dataframe thead th {\n",
       "        text-align: right;\n",
       "    }\n",
       "</style>\n",
       "<table border=\"1\" class=\"dataframe\">\n",
       "  <thead>\n",
       "    <tr style=\"text-align: right;\">\n",
       "      <th></th>\n",
       "      <th>p</th>\n",
       "    </tr>\n",
       "    <tr>\n",
       "      <th>Test</th>\n",
       "      <th></th>\n",
       "    </tr>\n",
       "  </thead>\n",
       "  <tbody>\n",
       "    <tr>\n",
       "      <th>1 vs. 2 classes</th>\n",
       "      <td>True</td>\n",
       "    </tr>\n",
       "    <tr>\n",
       "      <th>2 vs. 3 classes</th>\n",
       "      <td>True</td>\n",
       "    </tr>\n",
       "    <tr>\n",
       "      <th>3 vs. 4 classes</th>\n",
       "      <td>True</td>\n",
       "    </tr>\n",
       "    <tr>\n",
       "      <th>4 vs. 5 classes</th>\n",
       "      <td>True</td>\n",
       "    </tr>\n",
       "    <tr>\n",
       "      <th>5 vs. 6 classes</th>\n",
       "      <td>True</td>\n",
       "    </tr>\n",
       "    <tr>\n",
       "      <th>6 vs. 7 classes</th>\n",
       "      <td>False</td>\n",
       "    </tr>\n",
       "  </tbody>\n",
       "</table>\n",
       "</div>"
      ],
      "text/plain": [
       "                     p\n",
       "Test                  \n",
       "1 vs. 2 classes   True\n",
       "2 vs. 3 classes   True\n",
       "3 vs. 4 classes   True\n",
       "4 vs. 5 classes   True\n",
       "5 vs. 6 classes   True\n",
       "6 vs. 7 classes  False"
      ]
     },
     "execution_count": 37,
     "metadata": {},
     "output_type": "execute_result"
    }
   ],
   "source": [
    "p_values < 0.05"
   ]
  },
  {
   "cell_type": "code",
   "execution_count": 38,
   "id": "2d607205-28cb-422b-94d9-8db93f1c3475",
   "metadata": {},
   "outputs": [
    {
     "name": "stderr",
     "output_type": "stream",
     "text": [
      "C:\\Users\\gniel\\anaconda3\\Lib\\site-packages\\stepmix\\stepmix.py:968: ConvergenceWarning: Initializations did not converge. Try different init parameters, or increase max_iter, abs_tol, rel_tol or check for degenerate data.\n",
      "  warnings.warn(\n"
     ]
    }
   ],
   "source": [
    "#Declare number of classes to test\n",
    "num_classes = range(1,8)\n",
    "#loop over number of \n",
    "models = []\n",
    "aics = []\n",
    "bics = []\n",
    "sabics = []\n",
    "relative_entropies = []\n",
    "\n",
    "#\n",
    "for n_class in num_classes:\n",
    "    #Estimate model with n_class classes\n",
    "    model = stepmix.StepMix(n_components=n_class, \n",
    "                measurement=mixed_descriptor, \n",
    "                structural=\"bernoulli\", \n",
    "                verbose=0,\n",
    "                n_steps=3,\n",
    "                correction=\"BCH\",            \n",
    "                random_state=42, \n",
    "                progress_bar=0)\n",
    "\n",
    "    model.fit(mixed_data, y_males.drop(columns=[\"CASE\"]))\n",
    "\n",
    "    #Add model and metrics\n",
    "    models.append(model)\n",
    "    aics.append(model.aic(mixed_data, y_males.drop(columns=[\"CASE\"])))\n",
    "    bics.append(model.bic(mixed_data, y_males.drop(columns=[\"CASE\"])))\n",
    "    sabics.append(model.sabic(mixed_data, y_males.drop(columns=[\"CASE\"])))\n",
    "    relative_entropies.append(model.relative_entropy(mixed_data, y_males.drop(columns=[\"CASE\"])))\n"
   ]
  },
  {
   "cell_type": "code",
   "execution_count": 40,
   "id": "5348dc7d-0209-4385-8264-a4a55f3de598",
   "metadata": {},
   "outputs": [
    {
     "data": {
      "text/plain": [
       "[41720.62395869391,\n",
       " 41245.698641940166,\n",
       " 40987.03736273714,\n",
       " 41328.534651096474,\n",
       " 41748.806957081506,\n",
       " 42179.20972914099,\n",
       " 42638.1000683383]"
      ]
     },
     "execution_count": 40,
     "metadata": {},
     "output_type": "execute_result"
    }
   ],
   "source": [
    "sabics"
   ]
  },
  {
   "cell_type": "code",
   "execution_count": 41,
   "id": "f0380315-a843-4361-8c24-9d52bea050d4",
   "metadata": {},
   "outputs": [
    {
     "name": "stdout",
     "output_type": "stream",
     "text": [
      "================================================================================\n",
      "MODEL REPORT\n",
      "================================================================================\n",
      "    ============================================================================\n",
      "    Measurement model parameters\n",
      "    ============================================================================\n",
      "          model_name      binary                \n",
      "          class_no             0       1       2\n",
      "          param variable                        \n",
      "          pis   attr      0.0868  0.0143  0.0342\n",
      "\n",
      "\n",
      "          model_name        categorical                \n",
      "          class_no                    0       1       2\n",
      "          param variable                               \n",
      "          pis   CSBD_1           0.0490  0.3032  0.4942\n",
      "                CSBD_2           0.1309  0.2596  0.3049\n",
      "                CSBD_3           0.2524  0.2775  0.1452\n",
      "                CSBD_4           0.5677  0.1597  0.0558\n",
      "                PPCS_6_1         0.0270  0.4003  0.3997\n",
      "                PPCS_6_2         0.0913  0.2896  0.3259\n",
      "                PPCS_6_3         0.2901  0.2341  0.2279\n",
      "                PPCS_6_4         0.5917  0.0760  0.0465\n",
      "                lon_1            0.0322  0.4794  0.1834\n",
      "                lon_2            0.1997  0.2942  0.2399\n",
      "                lon_3            0.3297  0.1902  0.2297\n",
      "                lon_4            0.4385  0.0361  0.3469\n",
      "                meffort_1        0.2179  0.1506  0.5046\n",
      "                meffort_2        0.2836  0.1703  0.2587\n",
      "                meffort_3        0.3012  0.2428  0.2204\n",
      "                meffort_4        0.1973  0.4363  0.0164\n",
      "                mvalue_1         0.3681  0.0752  0.5449\n",
      "                mvalue_2         0.2607  0.2679  0.2905\n",
      "                mvalue_3         0.1665  0.2565  0.1116\n",
      "                mvalue_4         0.2047  0.4003  0.0530\n",
      "                sexdrive2_1      0.2046  0.4689  0.4718\n",
      "                sexdrive2_2      0.1293  0.1550  0.1349\n",
      "                sexdrive2_3      0.2814  0.1989  0.2495\n",
      "                sexdrive2_4      0.3847  0.1772  0.1438\n",
      "                socialanx_1      0.0883  0.5329  0.0243\n",
      "                socialanx_2      0.2002  0.2917  0.2402\n",
      "                socialanx_3      0.3526  0.1544  0.3384\n",
      "                socialanx_4      0.3590  0.0210  0.3971\n",
      "\n",
      "\n",
      "    ============================================================================\n",
      "    Structural model parameters\n",
      "    ============================================================================\n",
      "          model_name                       binary                \n",
      "          class_no                              0       1       2\n",
      "          param variable                                         \n",
      "          pis   Y_proclChatChild_r         0.0863  0.0113  0.0143\n",
      "                Y_proclChatYp_r            0.3076  0.1410  0.1700\n",
      "                Y_proclDui_r               0.5004  0.4648  0.2971\n",
      "                Y_proclGiftChild_r         0.0574  0.0016  0.0000\n",
      "                Y_proclGiftYp_r            0.1379  0.0448  0.0425\n",
      "                Y_proclKill_r              0.4040  0.2107  0.1963\n",
      "                Y_proclPornChildDarknet_r  0.0938  0.0096  0.0038\n",
      "                Y_proclPornChild_r         0.1026  0.0108  0.0096\n",
      "                Y_proclPornYp_r            0.3350  0.1521  0.1729\n",
      "                Y_proclProstitute_r        0.7839  0.5953  0.5617\n",
      "                Y_proclPublic_r            0.5283  0.3520  0.2987\n",
      "                Y_proclRape_r              0.3326  0.1333  0.1148\n",
      "                Y_proclRob_r               0.7133  0.6580  0.5197\n",
      "                Y_proclSexChild_r          0.0664  0.0052  0.0000\n",
      "                Y_proclSexYp_r             0.3792  0.2075  0.2260\n",
      "                Y_proclSpeed_r             0.9507  0.9597  0.9219\n",
      "                Y_proclZoo_r               0.0607  0.0079  0.0205\n",
      "    ============================================================================\n",
      "    Class weights\n",
      "    ============================================================================\n",
      "        Class 1 : 0.29\n",
      "        Class 2 : 0.42\n",
      "        Class 3 : 0.29\n",
      "    ============================================================================\n",
      "    Fit for 3 latent classes\n",
      "    ============================================================================\n",
      "    Estimation method             : 3-step\n",
      "    Correction method             : BCH\n",
      "    Assignment method             : modal\n",
      "    Number of observations        : 1263\n",
      "    Number of latent classes      : 3\n",
      "    Number of estimated parameters: 140\n",
      "    Log-likelihood (LL)           : -19716.0974\n",
      "    -2LL                          : 39432.1947\n",
      "    Average LL                    : -15.6105\n",
      "    AIC                           : 39712.19\n",
      "    BIC                           : 40431.97\n",
      "    CAIC                          : 40571.97\n",
      "    Sample-Size Adjusted BIC      : 40987.04\n",
      "    Entropy                       : 406.5620\n",
      "    Scaled Relative Entropy       : 0.7070\n"
     ]
    }
   ],
   "source": [
    "models[2].report(mixed_data, y_males.drop(columns=[\"CASE\"]))"
   ]
  },
  {
   "cell_type": "code",
   "execution_count": 46,
   "id": "efedfae8-74af-41f7-9ce3-ffe3f4e81e8a",
   "metadata": {},
   "outputs": [],
   "source": [
    "import pickle\n",
    "#Save the models as a pickle\n",
    "with open('../stepmix_models.pkl', 'rb') as file:\n",
    "    models = pickle.load(file)"
   ]
  },
  {
   "cell_type": "markdown",
   "id": "50a5f742-6bec-4e22-9bec-dce3f2e1e0df",
   "metadata": {},
   "source": [
    "Get infos from emission models: https://stepmix.readthedocs.io/en/latest/api.html#emission-models\n"
   ]
  },
  {
   "cell_type": "code",
   "execution_count": 47,
   "id": "d83008d3-21b1-4702-bc31-5cb2603f5e43",
   "metadata": {},
   "outputs": [
    {
     "data": {
      "text/html": [
       "<div>\n",
       "<style scoped>\n",
       "    .dataframe tbody tr th:only-of-type {\n",
       "        vertical-align: middle;\n",
       "    }\n",
       "\n",
       "    .dataframe tbody tr th {\n",
       "        vertical-align: top;\n",
       "    }\n",
       "\n",
       "    .dataframe thead th {\n",
       "        text-align: right;\n",
       "    }\n",
       "</style>\n",
       "<table border=\"1\" class=\"dataframe\">\n",
       "  <thead>\n",
       "    <tr style=\"text-align: right;\">\n",
       "      <th></th>\n",
       "      <th>model_name</th>\n",
       "      <th>param</th>\n",
       "      <th>class_no</th>\n",
       "      <th>variable</th>\n",
       "      <th>value</th>\n",
       "    </tr>\n",
       "  </thead>\n",
       "  <tbody>\n",
       "    <tr>\n",
       "      <th>0</th>\n",
       "      <td>binary</td>\n",
       "      <td>pis</td>\n",
       "      <td>0</td>\n",
       "      <td>feature_0</td>\n",
       "      <td>0.086785</td>\n",
       "    </tr>\n",
       "    <tr>\n",
       "      <th>1</th>\n",
       "      <td>binary</td>\n",
       "      <td>pis</td>\n",
       "      <td>1</td>\n",
       "      <td>feature_0</td>\n",
       "      <td>0.014313</td>\n",
       "    </tr>\n",
       "    <tr>\n",
       "      <th>2</th>\n",
       "      <td>binary</td>\n",
       "      <td>pis</td>\n",
       "      <td>2</td>\n",
       "      <td>feature_0</td>\n",
       "      <td>0.034203</td>\n",
       "    </tr>\n",
       "    <tr>\n",
       "      <th>1</th>\n",
       "      <td>categorical</td>\n",
       "      <td>pis</td>\n",
       "      <td>0</td>\n",
       "      <td>feature_1_1</td>\n",
       "      <td>0.204578</td>\n",
       "    </tr>\n",
       "    <tr>\n",
       "      <th>2</th>\n",
       "      <td>categorical</td>\n",
       "      <td>pis</td>\n",
       "      <td>0</td>\n",
       "      <td>feature_1_2</td>\n",
       "      <td>0.129318</td>\n",
       "    </tr>\n",
       "    <tr>\n",
       "      <th>...</th>\n",
       "      <td>...</td>\n",
       "      <td>...</td>\n",
       "      <td>...</td>\n",
       "      <td>...</td>\n",
       "      <td>...</td>\n",
       "    </tr>\n",
       "    <tr>\n",
       "      <th>99</th>\n",
       "      <td>categorical</td>\n",
       "      <td>pis</td>\n",
       "      <td>2</td>\n",
       "      <td>feature_6_4</td>\n",
       "      <td>0.346924</td>\n",
       "    </tr>\n",
       "    <tr>\n",
       "      <th>101</th>\n",
       "      <td>categorical</td>\n",
       "      <td>pis</td>\n",
       "      <td>2</td>\n",
       "      <td>feature_7_1</td>\n",
       "      <td>0.544907</td>\n",
       "    </tr>\n",
       "    <tr>\n",
       "      <th>102</th>\n",
       "      <td>categorical</td>\n",
       "      <td>pis</td>\n",
       "      <td>2</td>\n",
       "      <td>feature_7_2</td>\n",
       "      <td>0.290548</td>\n",
       "    </tr>\n",
       "    <tr>\n",
       "      <th>103</th>\n",
       "      <td>categorical</td>\n",
       "      <td>pis</td>\n",
       "      <td>2</td>\n",
       "      <td>feature_7_3</td>\n",
       "      <td>0.111584</td>\n",
       "    </tr>\n",
       "    <tr>\n",
       "      <th>104</th>\n",
       "      <td>categorical</td>\n",
       "      <td>pis</td>\n",
       "      <td>2</td>\n",
       "      <td>feature_7_4</td>\n",
       "      <td>0.052960</td>\n",
       "    </tr>\n",
       "  </tbody>\n",
       "</table>\n",
       "<p>87 rows × 5 columns</p>\n",
       "</div>"
      ],
      "text/plain": [
       "      model_name param  class_no     variable     value\n",
       "0         binary   pis         0    feature_0  0.086785\n",
       "1         binary   pis         1    feature_0  0.014313\n",
       "2         binary   pis         2    feature_0  0.034203\n",
       "1    categorical   pis         0  feature_1_1  0.204578\n",
       "2    categorical   pis         0  feature_1_2  0.129318\n",
       "..           ...   ...       ...          ...       ...\n",
       "99   categorical   pis         2  feature_6_4  0.346924\n",
       "101  categorical   pis         2  feature_7_1  0.544907\n",
       "102  categorical   pis         2  feature_7_2  0.290548\n",
       "103  categorical   pis         2  feature_7_3  0.111584\n",
       "104  categorical   pis         2  feature_7_4  0.052960\n",
       "\n",
       "[87 rows x 5 columns]"
      ]
     },
     "execution_count": 47,
     "metadata": {},
     "output_type": "execute_result"
    }
   ],
   "source": [
    "models[2]._mm.get_parameters_df()"
   ]
  },
  {
   "cell_type": "code",
   "execution_count": null,
   "id": "94916b75-e09e-428a-84f8-3325e2f71081",
   "metadata": {},
   "outputs": [],
   "source": []
  }
 ],
 "metadata": {
  "kernelspec": {
   "display_name": "Python 3 (ipykernel)",
   "language": "python",
   "name": "python3"
  },
  "language_info": {
   "codemirror_mode": {
    "name": "ipython",
    "version": 3
   },
   "file_extension": ".py",
   "mimetype": "text/x-python",
   "name": "python",
   "nbconvert_exporter": "python",
   "pygments_lexer": "ipython3",
   "version": "3.11.5"
  }
 },
 "nbformat": 4,
 "nbformat_minor": 5
}
